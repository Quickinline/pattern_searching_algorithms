{
  "nbformat": 4,
  "nbformat_minor": 0,
  "metadata": {
    "colab": {
      "name": "TP BioAlgo.ipynb",
      "provenance": [],
      "collapsed_sections": [],
      "toc_visible": true
    },
    "kernelspec": {
      "name": "python3",
      "display_name": "Python 3"
    },
    "language_info": {
      "name": "python"
    }
  },
  "cells": [
    {
      "cell_type": "markdown",
      "metadata": {
        "id": "4PoM_WaKYxoK"
      },
      "source": [
        "#**Naïf**"
      ]
    },
    {
      "cell_type": "code",
      "metadata": {
        "id": "9GDESstbZAnE"
      },
      "source": [
        "def naif(needle, haystack,firstOccurence=False):\n",
        "    # comparison counter\n",
        "    C=0\n",
        "    n=len(haystack) # length of Text\n",
        "    m=len(needle) # length of pattern\n",
        "    i=0 # index initialization\n",
        "    output=[]\n",
        "    # from 0 to the latest window in Text\n",
        "    while(i<(n-m+1)):\n",
        "        j=0\n",
        "        # while there's a match and we're not out of bounds\n",
        "        while((j<m) and (haystack[i+j]==needle[j])):\n",
        "            # we increment the counter\n",
        "            C=C+1\n",
        "            # we compare the next character\n",
        "            j=j+1\n",
        "        # if we reached the end of the pattern, we have a full match\n",
        "        if(j==m):\n",
        "          if (firstOccurence):\n",
        "            return {'index':i, 'comparaisons':C}\n",
        "          else:\n",
        "            output.append(i)\n",
        "        # otherwise there has been a mismatch that needs to be counted\n",
        "        else:\n",
        "          C+=1\n",
        "        # we shift the window\n",
        "        i=i+1\n",
        "    if (firstOccurence):\n",
        "      return {'index':-1, 'comparaisons':C}\n",
        "    else:\n",
        "      return {'indecies':output, 'comparaisons':C}\n"
      ],
      "execution_count": null,
      "outputs": []
    },
    {
      "cell_type": "code",
      "metadata": {
        "colab": {
          "base_uri": "https://localhost:8080/"
        },
        "id": "tgZ1nUgxCKFh",
        "outputId": "9067d520-7eba-43d8-ff3f-f6e3ec9de86c"
      },
      "source": [
        "# Test du cours avec un résultat attendu de 53 comparaisons\n",
        "naif(\"aaaaataaaaa\", \"taaaaataaaataaaaataaaaaa\", True)"
      ],
      "execution_count": null,
      "outputs": [
        {
          "output_type": "execute_result",
          "data": {
            "text/plain": [
              "{'comparaisons': 53, 'index': 12}"
            ]
          },
          "metadata": {
            "tags": []
          },
          "execution_count": 18
        }
      ]
    },
    {
      "cell_type": "markdown",
      "metadata": {
        "id": "24x3pgwU3yLB"
      },
      "source": [
        "# Moris Pratt Algorithm\n",
        "\n",
        "## Defined functions and uses\n",
        "\n",
        "*   borderLength (recursive calculus of the length of the largest border of a given string)\n",
        "*   preMP (generates a border table of a given string)\n",
        "*   recursivePreMp(generates a border table of a given string using borderLength)\n",
        "*   Mp (full implementation of the Moris Pratt algorithm using recursivePreMp and borderLength)"
      ]
    },
    {
      "cell_type": "code",
      "metadata": {
        "id": "XzoNzFyIj67S"
      },
      "source": [
        "\n",
        "def preMp(pattern:str):\n",
        "  \"\"\"\n",
        "  Function for generating borders table for moris pratt Algorithm\n",
        "  \"\"\"\n",
        "  # initialization\n",
        "  m = len(pattern)\n",
        "  border = [None for i in range(m+1)]\n",
        "  # looping throught the pattern\n",
        "  for x in range(m+1):\n",
        "    # for each x from 0 to m+1 we compute\n",
        "    # a prefix from 0 to x, and initialize its length\n",
        "    prefix = pattern[:x]\n",
        "    n = len(prefix)\n",
        "    # if the length is less than one, there's no border\n",
        "    # and the default border value is -1\n",
        "    if len(prefix) < 1:\n",
        "      border[n] = -1\n",
        "    # if the length is greater than one, we compute\n",
        "    # the length of the largest border of the prefix\n",
        "    else:\n",
        "      # for each J from 0 to half the length of the prefix\n",
        "      for j in range(int(n/2)):\n",
        "        # we check if the strings of length j+1 from either sides\n",
        "        # of the prefix match\n",
        "        if prefix[:j+1] == prefix[n-j-1:]:\n",
        "          # if they do we store it's length\n",
        "          border[n] = len(prefix[:j+1])\n",
        "        # since the prefix border is sequentially growing,\n",
        "        # we now that a larger border found overwrites a previous border length\n",
        "      # if no borders were found we replace the None by 0 indicating so\n",
        "      if border[n] == None:\n",
        "        border[n] = 0\n",
        "  return border"
      ],
      "execution_count": null,
      "outputs": []
    },
    {
      "cell_type": "code",
      "metadata": {
        "id": "pGvOx01lK1R9"
      },
      "source": [
        "# border generation function for Moris Pratt\n",
        "# Documented\n",
        "\n",
        "\n",
        "def borderLength(pattern:str,n= None):\n",
        "  \"\"\"\n",
        "  Recursive function that computes the length of the largest border\n",
        "  of a given pattern\n",
        "  \"\"\"\n",
        "  # initializer, if n isn't specified (so None) we set it as pattern length-1\n",
        "  if n is None:\n",
        "    n = len(pattern) -1\n",
        "  # if n is 0 ie the sought length of the border is 0\n",
        "  # we return 0 as in \"No border\"\n",
        "  if n == 0:\n",
        "    return 0\n",
        "  # we check if there's a border of length n\n",
        "  if pattern[:n] == pattern[len(pattern)-n:]:\n",
        "    return n\n",
        "  # if there's no border of length n we look for a border of length n-1\n",
        "  else:\n",
        "    return borderLength(pattern,n-1)\n",
        "\n",
        "\n",
        "def recursivePreMp(pattern:str):\n",
        "  \"\"\"\n",
        "  Function using recursive borderLength for generating borders table for moris pratt Algorithm\n",
        "  \"\"\"\n",
        "  m = len(pattern)\n",
        "  # initialize the border list\n",
        "  border = [None for i in range(m+1)]\n",
        "  # for each prefix of the pattern\n",
        "  for x in range(m+1):\n",
        "    prefix = pattern[:x]\n",
        "    n = len(prefix)\n",
        "    # we assign the largest border of the prefix to the list\n",
        "    border[n] = borderLength(prefix)\n",
        "  return border\n",
        "\n",
        "def Mp(needle:str, haystack:str, time=False, firstOccurence=False):\n",
        "  # Initialisations\n",
        "  output = [] # initializing the output list\n",
        "  borders = recursivePreMp(needle) # compute the borders List\n",
        "  startTime= 0 # initialize the time counter\n",
        "  c=0 # initialize the comparison counter\n",
        "  i,j =0,0\n",
        "  m,n = len(needle),len(haystack) # length of pattern and text\n",
        "  \n",
        "  # if the timer is specified, we start counting\n",
        "  if time:\n",
        "    import time\n",
        "    startTime = time.perf_counter_ns()\n",
        "\n",
        "  while(i < n-m+1): # for each window in text\n",
        "    while j < m and haystack[i+j] == needle[j]:\n",
        "      c+=1 # counting when there's a match from the while statement\n",
        "      j=j+1 # we compare the next character when ther's a match\n",
        "    \n",
        "    # if there's a whole match\n",
        "    if j == m:\n",
        "      # if firstOccurence is mentioned we return it\n",
        "      if firstOccurence:\n",
        "        if time:\n",
        "          # if time is specified we return the time\n",
        "          endTime = time.perf_counter_ns()\n",
        "          return {'index': i,'time': endTime-startTime,'comparisons': c}\n",
        "        else:\n",
        "          # else, we return the indicies only\n",
        "          return {'index': i,'comparisons': c}\n",
        "      # else, we append the result to the output list\n",
        "      else:\n",
        "        output.append(i)\n",
        "    #  counting when there's no match\n",
        "    else: \n",
        "      if haystack[i+j] != needle[j]:\n",
        "        c+=1\n",
        "    \n",
        "    # shifting by the border values\n",
        "    i = i + j - borders[j]\n",
        "    if borders[j] > 0:\n",
        "      j = borders[j]\n",
        "    else:\n",
        "      j = 0\n",
        "  # if time is specified we return the time\n",
        "  if time:\n",
        "    endTime = time.perf_counter_ns()\n",
        "    return {'index': i,'time': endTime-startTime,'comparisons': c}\n",
        "  return {'indicies': output,'comparisons': c}\n"
      ],
      "execution_count": null,
      "outputs": []
    },
    {
      "cell_type": "code",
      "metadata": {
        "colab": {
          "base_uri": "https://localhost:8080/"
        },
        "id": "41qXKK8wS5Sw",
        "outputId": "cb3c5799-5fdc-4090-f32e-2241cd4c9bd0"
      },
      "source": [
        "Mp(\"aaaaataaaaa\",\"taaaaataaaataaaaataaaaaa\",firstOccurence=True)"
      ],
      "execution_count": null,
      "outputs": [
        {
          "output_type": "execute_result",
          "data": {
            "text/plain": [
              "{'comparisons': 28, 'index': 12}"
            ]
          },
          "metadata": {
            "tags": []
          },
          "execution_count": 5
        }
      ]
    },
    {
      "cell_type": "markdown",
      "metadata": {
        "id": "Iqmo_BJ6DDhY"
      },
      "source": [
        "# Knuth Moris Pratt Algorithm"
      ]
    },
    {
      "cell_type": "code",
      "metadata": {
        "id": "9QuQjY0TDMRw",
        "colab": {
          "base_uri": "https://localhost:8080/"
        },
        "outputId": "84627e2c-4b69-4bbb-e750-a758a1ee86a5"
      },
      "source": [
        "def knuthBorders(pattern:str):\n",
        "  # initializations\n",
        "  m = len(pattern) # initialize the length\n",
        "  output = [0 for x in range(m+1)] # initialize the output list\n",
        "  output[0] = -1\n",
        "  print({'output':output})\n",
        "  i = -1\n",
        "  # for each character in the pattern\n",
        "  for j in range(m):\n",
        "    while i >=0 and pattern[i] != pattern[j]:\n",
        "      i = output[i]\n",
        "    i+=1\n",
        "    if j == m-1:\n",
        "      output[j+1] = i\n",
        "      print({'i':i,'j':j,'output':output})\n",
        "    else:\n",
        "      if pattern[j + 1] != pattern[i]:\n",
        "        output[j+1] = i\n",
        "        print({'i':i,'j':j,'output':output})\n",
        "      else:\n",
        "        output[j+1] = output[i]\n",
        "        print({'i':i,'j':j,'output':output})\n",
        "  return output\n",
        "\n",
        "# knuthBorders(\"atacatac\")\n",
        "knuthBorders(\"ababd\")"
      ],
      "execution_count": null,
      "outputs": [
        {
          "output_type": "stream",
          "text": [
            "{'output': [-1, 0, 0, 0, 0, 0]}\n",
            "{'i': 0, 'j': 0, 'output': [-1, 0, 0, 0, 0, 0]}\n",
            "{'i': 0, 'j': 1, 'output': [-1, 0, -1, 0, 0, 0]}\n",
            "{'i': 1, 'j': 2, 'output': [-1, 0, -1, 0, 0, 0]}\n",
            "{'i': 2, 'j': 3, 'output': [-1, 0, -1, 0, 2, 0]}\n",
            "{'i': 0, 'j': 4, 'output': [-1, 0, -1, 0, 2, 0]}\n"
          ],
          "name": "stdout"
        },
        {
          "output_type": "execute_result",
          "data": {
            "text/plain": [
              "[-1, 0, -1, 0, 2, 0]"
            ]
          },
          "metadata": {
            "tags": []
          },
          "execution_count": 1
        }
      ]
    },
    {
      "cell_type": "code",
      "metadata": {
        "id": "UlL7CG2FV_bg"
      },
      "source": [
        "def Kmp(needle:str, haystack:str, time=False, firstOccurence=False):\n",
        "  # Initialisations\n",
        "  output = [] # initializing the output list\n",
        "  borders = knuthBorders(needle) # compute the borders List\n",
        "  startTime= 0 # initialize the time counter\n",
        "  c=0 # initialize the comparison counter\n",
        "  i,j =0,0\n",
        "  m,n = len(needle),len(haystack) # length of pattern and text\n",
        "  \n",
        "  # if the timer is specified, we start counting\n",
        "  if time:\n",
        "    import time\n",
        "    startTime = time.perf_counter_ns()\n",
        "\n",
        "  while(i < n-m+1): # for each window in text\n",
        "    while j < m and haystack[i+j] == needle[j]:\n",
        "      c+=1 # counting when there's a match from the while statement\n",
        "      j=j+1 # we compare the next character when ther's a match\n",
        "    \n",
        "    # if there's a whole match\n",
        "    if j == m:\n",
        "      # if firstOccurence is mentioned we return it\n",
        "      if firstOccurence:\n",
        "        if time:\n",
        "          # if time is specified we return the time\n",
        "          endTime = time.perf_counter_ns()\n",
        "          return {'index': i,'time': endTime-startTime,'comparisons': c}\n",
        "        else:\n",
        "          # else, we return the indicies only\n",
        "          return {'index': i,'comparisons': c}\n",
        "      # else, we append the result to the output list\n",
        "      else:\n",
        "        output.append(i)\n",
        "    else:\n",
        "      #  counting when there's no match \n",
        "      if haystack[i+j] != needle[j]:\n",
        "        c+=1\n",
        "    \n",
        "    # shifting by the border values\n",
        "    i = i + j - borders[j]\n",
        "    if borders[j] > 0:\n",
        "      j = borders[j]\n",
        "    else:\n",
        "      j = 0\n",
        "  # if time is specified we return the time\n",
        "  if time:\n",
        "    endTime = time.perf_counter_ns()\n",
        "    return {'index': i,'time': endTime-startTime,'comparisons': c}\n",
        "  return {'indicies': output,'comparisons': c}\n"
      ],
      "execution_count": null,
      "outputs": []
    },
    {
      "cell_type": "code",
      "metadata": {
        "id": "o8Nzj3PyS7Ji",
        "colab": {
          "base_uri": "https://localhost:8080/"
        },
        "outputId": "ded3ca72-a7dd-4c0f-ff20-191b881efae8"
      },
      "source": [
        "Kmp(\"aaaaataaaaa\",\"taaaaataaaataaaaataaaaaa\",firstOccurence=True)"
      ],
      "execution_count": null,
      "outputs": [
        {
          "output_type": "execute_result",
          "data": {
            "text/plain": [
              "{'comparisons': 23, 'index': 12}"
            ]
          },
          "metadata": {
            "tags": []
          },
          "execution_count": 8
        }
      ]
    },
    {
      "cell_type": "markdown",
      "metadata": {
        "id": "vWOjHWW8WL98"
      },
      "source": [
        "# Rabin Karp algorithm\n"
      ]
    },
    {
      "cell_type": "code",
      "metadata": {
        "id": "zw3tQzC9WL99"
      },
      "source": [
        "\n",
        "def rabinKarp(needle:str, haystack:str,time=False, firstOccurence=False, alphabet= {\n",
        "      'A':1,\n",
        "      'C':2,\n",
        "      'G':3,\n",
        "      'T':4}):\n",
        "  from math import pow\n",
        "  n = len(needle) # length of the searched pattern\n",
        "  m = len(haystack) # length of the text\n",
        "\n",
        "  # if needle is longer than haystack\n",
        "  if n > m:\n",
        "    return { 'time':0, 'comparisons':0, 'index':-1 }\n",
        "  output = [] # list of results\n",
        "\n",
        "  d=4 # size of the alphabet\n",
        "  p=0 # hash of the pattern (needle)\n",
        "  q=0 # hash of the text (haystack)\n",
        "  c=0 # counter of comparisons\n",
        "\n",
        "  if time:\n",
        "    import time\n",
        "    startTime = time.perf_counter_ns()\n",
        "\n",
        "\n",
        "  coef = int(pow(d,n-1))\n",
        "\n",
        "  h=2147483647 # hash modulo\n",
        "\n",
        "  for i in range(n):\n",
        "    p = (p*d + alphabet[needle[i]]) % h\n",
        "    q = (q*d + alphabet[haystack[i]]) % h\n",
        "\n",
        "  for i in range(m-n+1):\n",
        "    # if the hashes are equal we test if there's no colision\n",
        "    if p == q:\n",
        "      c+=1 # count comparison\n",
        "      if needle == haystack[i:i+n]:\n",
        "        c+=len(needle)\n",
        "        if firstOccurence:\n",
        "          if time:\n",
        "            endTime = time.perf_counter_ns()\n",
        "            return {'index': i, 'time':endTime-startTime, 'comparisons':c}\n",
        "          else:\n",
        "            return {'index': i, 'comparisons':c}\n",
        "        output.append(i)\n",
        "    else:\n",
        "      # count comparison\n",
        "      c+=1\n",
        "    # calculate hash for the next window\n",
        "    if i < m-n:\n",
        "      q = (d*(q-alphabet[haystack[i]]*coef)+alphabet[haystack[i+n]])%h\n",
        "  if time:\n",
        "    endTime = time.perf_counter_ns()\n",
        "    return {'indecies': output, 'comparisons':c, 'time': endTime - startTime}\n",
        "  else:\n",
        "    return {'indecies': output, 'comparisons':c }"
      ],
      "execution_count": null,
      "outputs": []
    },
    {
      "cell_type": "code",
      "metadata": {
        "id": "HUVy_iIMHGWU",
        "colab": {
          "base_uri": "https://localhost:8080/"
        },
        "outputId": "d46d4bc0-5688-499a-86bb-ebf3062e6f1f"
      },
      "source": [
        "print(rabinKarp('TATA', 'CTACTATATATC',time=True))"
      ],
      "execution_count": null,
      "outputs": [
        {
          "output_type": "stream",
          "text": [
            "{'indecies': [4, 6], 'comparisons': 17, 'time': 26002}\n"
          ],
          "name": "stdout"
        }
      ]
    },
    {
      "cell_type": "markdown",
      "metadata": {
        "id": "Pf2bCRXtYzYi"
      },
      "source": [
        "# Testing and Analysis\n",
        "\n",
        "*   Generating testing data\n",
        "*   testing the algorithms with the data\n",
        "*   analysis of the results"
      ]
    },
    {
      "cell_type": "code",
      "metadata": {
        "id": "By9cro4-JTxR"
      },
      "source": [
        "# Function for generating random dna Sequences\n",
        "from random import randint\n",
        "def generate_dna(length: int):\n",
        "        ADN = ''\n",
        "        for i in range(0,length):\n",
        "            ADN+='ACGT'[randint(0,3)]\n",
        "        return ADN\n"
      ],
      "execution_count": null,
      "outputs": []
    },
    {
      "cell_type": "code",
      "metadata": {
        "colab": {
          "base_uri": "https://localhost:8080/"
        },
        "id": "gRLlE8zWdeQ-",
        "outputId": "7e870a73-6cd9-4d54-fa79-64423bb09369"
      },
      "source": [
        "import pandas as pd\n",
        "print(pd.__version__)"
      ],
      "execution_count": null,
      "outputs": [
        {
          "output_type": "stream",
          "text": [
            "1.1.5\n"
          ],
          "name": "stdout"
        }
      ]
    },
    {
      "cell_type": "code",
      "metadata": {
        "id": "frvv2ireI-S8"
      },
      "source": [
        "# Generating the dataset\n",
        "# generating 20 haystacks (the text) of lengths [50, 500, 2000, 8000 , 16000, 32000, 64000, 100000, 400000, 500000, 900000, 1200000]\n",
        "haystacks = pd.Series([generate_dna(y) for y in [50, 500, 2000, 8000 , 16000, 32000, 64000, 100000, 400000, 500000, 900000, 1200000]])\n",
        "\n",
        "# generating 20 needles (pattern) of lengths [10, 20, 80, 120]\n",
        "needles = pd.Series([generate_dna(x) for x in[10, 20, 80, 120] ])\n"
      ],
      "execution_count": null,
      "outputs": []
    },
    {
      "cell_type": "code",
      "metadata": {
        "id": "RfsMxWWTSCSb"
      },
      "source": [
        "# generate a cross product dataframe of each haystack and needle\n",
        "\n",
        "haystacks_df = pd.DataFrame({'haystacks':haystacks})\n",
        "haystacks_df['haystack_length'] = haystacks_df.apply(lambda row: len(row['haystacks']), axis=1)\n",
        "\n",
        "needles_df = pd.DataFrame({'needles':needles})\n",
        "needles_df['needle_length'] = needles_df.apply(lambda row: len(row['needles']), axis=1)\n",
        "\n",
        "# append a key to serve as a merging pivot\n",
        "haystacks_df['key'] = 1\n",
        "needles_df['key'] = 1\n",
        "\n",
        "# computing the cross product and dropping the key\n",
        "result = pd.merge(haystacks_df, needles_df, on ='key').drop(\"key\", 1)"
      ],
      "execution_count": null,
      "outputs": []
    },
    {
      "cell_type": "markdown",
      "metadata": {
        "id": "bSfjgzNmU5om"
      },
      "source": [
        "### (Optional) Load data"
      ]
    },
    {
      "cell_type": "code",
      "metadata": {
        "id": "9S2z6atZU5Vf"
      },
      "source": [
        "# This Cell is meant to import the data from a csv file instead of generating a new dataset\n",
        "from google.colab import files\n",
        "import pandas as pd\n",
        "\n",
        "uploaded = files.upload()\n",
        "\n",
        "import io\n",
        "df2 = pd.read_csv(io.BytesIO(uploaded['data.csv']))\n",
        "df2"
      ],
      "execution_count": null,
      "outputs": []
    },
    {
      "cell_type": "code",
      "metadata": {
        "id": "-Zl7uyLiDU8q"
      },
      "source": [
        "# Assigning the downloaded dataset to the main resulting dataset variable\n",
        "result = df2"
      ],
      "execution_count": null,
      "outputs": []
    },
    {
      "cell_type": "markdown",
      "metadata": {
        "id": "xwJnyEX5Kksu"
      },
      "source": [
        "### Testing MP"
      ]
    },
    {
      "cell_type": "code",
      "metadata": {
        "id": "Mj1Tn_wXfwje"
      },
      "source": [
        "# Ajout test MP\n",
        "\n",
        "result['time_without_pre'] = result.apply(lambda row: Mp(row['needles'], row['haystacks'],time=True, firstOccurence=True)['time'], axis=1)\n",
        "result['MP_comparisons'] = result.apply(lambda row: Mp(row['needles'], row['haystacks'],time=True, firstOccurence=True)['comparisons'], axis=1)\n"
      ],
      "execution_count": null,
      "outputs": []
    },
    {
      "cell_type": "markdown",
      "metadata": {
        "id": "pvbOG5lzKoXV"
      },
      "source": [
        "### Testing Naif"
      ]
    },
    {
      "cell_type": "code",
      "metadata": {
        "id": "rPsxBRtVG8xi"
      },
      "source": [
        "# Ajout test naif\n",
        "\n",
        "# wrapper for Naif Algorithm meant to compute the execution time\n",
        "def measureNaif(needle:str, haystack:str, firstOccurence=False):\n",
        "  import time\n",
        "  startTime = time.perf_counter_ns()\n",
        "  output = naif(needle, haystack, firstOccurence=firstOccurence)\n",
        "  endTime = time.perf_counter_ns()\n",
        "  return {\n",
        "      'result':output,\n",
        "      'time':endTime - startTime\n",
        "  }\n",
        "\n",
        "result['time_naif'] = result.apply(lambda row: measureNaif(row['needles'], row['haystacks'], firstOccurence=True)['time'], axis=1)\n",
        "result['naif_comparisons'] = result.apply(lambda row: naif(row['needles'], row['haystacks'], firstOccurence=True)['comparaisons'], axis=1)"
      ],
      "execution_count": null,
      "outputs": []
    },
    {
      "cell_type": "markdown",
      "metadata": {
        "id": "_-v_c2j_Kr5V"
      },
      "source": [
        "### Testing Kmp"
      ]
    },
    {
      "cell_type": "code",
      "metadata": {
        "id": "IXCth-2eTGSJ"
      },
      "source": [
        "# Ajout test Kmp\n",
        "\n",
        "result['time_kmp'] = result.apply(lambda row: Kmp(row['needles'], row['haystacks'], time=True, firstOccurence=True)['time'], axis=1)\n",
        "result['kmp_comparisons'] = result.apply(lambda row: Kmp(row['needles'], row['haystacks'], time=True, firstOccurence=True)['comparisons'], axis=1)\n"
      ],
      "execution_count": null,
      "outputs": []
    },
    {
      "cell_type": "markdown",
      "metadata": {
        "id": "wjstlWGVHh5r"
      },
      "source": [
        "### Testing Rabin Karp"
      ]
    },
    {
      "cell_type": "code",
      "metadata": {
        "id": "XMbvVMkPD-8l"
      },
      "source": [
        "# Ajout Rabin Karp\n",
        "\n",
        "result['time_rk'] = result.apply(lambda row: rabinKarp(row['needles'], row['haystacks'], time=True, firstOccurence=True)['time'], axis=1)\n",
        "result['rk_comparisons'] = result.apply(lambda row: rabinKarp(row['needles'], row['haystacks'], time=True, firstOccurence=True)['comparisons'], axis=1)\n"
      ],
      "execution_count": null,
      "outputs": []
    },
    {
      "cell_type": "markdown",
      "metadata": {
        "id": "G10-LJTLKwed"
      },
      "source": [
        "### Plotting the graphs"
      ]
    },
    {
      "cell_type": "code",
      "metadata": {
        "id": "6sfbmhZRRLy2"
      },
      "source": [
        "# Plotting the Execution Time of the four algorithms\n",
        "\n",
        "import matplotlib.pyplot as plt\n",
        "from matplotlib.pyplot import figure\n",
        "\n",
        "for sample_size in [10,20,80,120]: # for each needle size we generate a new figure plot with each algorithm\n",
        "  sample_data=  result[result.needle_length == sample_size]\n",
        "\n",
        "  figure(figsize=(8, 6), dpi=80)\n",
        "\n",
        "  plt.plot(sample_data['haystack_length'],sample_data['time_without_pre'],label='MP')\n",
        "  plt.plot(sample_data['haystack_length'],sample_data['time_naif'],label='Naif')\n",
        "  plt.plot(sample_data['haystack_length'],sample_data['time_kmp'],label='Kmp')\n",
        "  plt.plot(sample_data['haystack_length'],sample_data['time_rk'],label='Rabin Karp')\n",
        "\n",
        "  \n",
        "\n",
        "  plt.title(f'MP vs Naif vs Kmp vs Rabin Karp (Motif={sample_size})')\n",
        "  # Set the y axis label of the current axis.\n",
        "  plt.xlabel('Taille du Texte')\n",
        "  plt.ylabel('Temps d\\'éxécution')\n",
        "  # show a legend on the plot\n",
        "  plt.legend()\n",
        "\n",
        "  fig1 = plt.gcf()\n",
        "  # Display a figure.\n",
        "  plt.show()\n",
        "  fig1.savefig(f'plots/time_{sample_size}.png')"
      ],
      "execution_count": null,
      "outputs": []
    },
    {
      "cell_type": "code",
      "metadata": {
        "id": "j54aSJrzTGeC"
      },
      "source": [
        "# Plotting the Number of comparisons of the four algorithms\n",
        "import matplotlib.pyplot as plt\n",
        "\n",
        "from matplotlib.pyplot import figure\n",
        "\n",
        "\n",
        "for sample_size in [10,20,80,120]: # for each needle size we generate a new figure plot with each algorithm\n",
        "  sample_data=  result[result.needle_length == sample_size]\n",
        "\n",
        "  figure(figsize=(8, 6), dpi=80)\n",
        "  \n",
        "  plt.plot(sample_data['haystack_length'],sample_data['MP_comparisons'],label='MP')\n",
        "  plt.plot(sample_data['haystack_length'],sample_data['naif_comparisons'],label='Naif')\n",
        "  plt.plot(sample_data['haystack_length'],sample_data['kmp_comparisons'],label='Kmp')\n",
        "  plt.plot(sample_data['haystack_length'],sample_data['rk_comparisons'],label='Rabin Karp')\n",
        "\n",
        "\n",
        "  plt.title(f'MP vs Naif vs Kmp vs Rabin Karp (Motif={sample_size})')\n",
        "  # Set the y axis label of the current axis.\n",
        "  plt.xlabel('Taille du Texte')\n",
        "  plt.ylabel('Nombre de comparaisons')\n",
        "  # show a legend on the plot\n",
        "  plt.legend()\n",
        "\n",
        "  fig1 = plt.gcf()\n",
        "  # Display a figure.\n",
        "  plt.show()\n",
        "  \n",
        "  fig1.savefig(f'plots/comparisons_{sample_size}.png')\n"
      ],
      "execution_count": null,
      "outputs": []
    },
    {
      "cell_type": "code",
      "metadata": {
        "colab": {
          "base_uri": "https://localhost:8080/",
          "height": 17
        },
        "id": "IXt9km6kR5aQ",
        "outputId": "e24789e5-da6e-4b0a-8dcb-4822a63f516d"
      },
      "source": [
        "# Exporting the Plots\n",
        "from google.colab import files\n",
        "for size in [10,20,80,120]:\n",
        "  files.download(f'plots/time_{size}.png')\n",
        "  files.download(f'plots/comparisons_{size}.png') "
      ],
      "execution_count": null,
      "outputs": [
        {
          "output_type": "display_data",
          "data": {
            "application/javascript": [
              "\n",
              "    async function download(id, filename, size) {\n",
              "      if (!google.colab.kernel.accessAllowed) {\n",
              "        return;\n",
              "      }\n",
              "      const div = document.createElement('div');\n",
              "      const label = document.createElement('label');\n",
              "      label.textContent = `Downloading \"${filename}\": `;\n",
              "      div.appendChild(label);\n",
              "      const progress = document.createElement('progress');\n",
              "      progress.max = size;\n",
              "      div.appendChild(progress);\n",
              "      document.body.appendChild(div);\n",
              "\n",
              "      const buffers = [];\n",
              "      let downloaded = 0;\n",
              "\n",
              "      const channel = await google.colab.kernel.comms.open(id);\n",
              "      // Send a message to notify the kernel that we're ready.\n",
              "      channel.send({})\n",
              "\n",
              "      for await (const message of channel.messages) {\n",
              "        // Send a message to notify the kernel that we're ready.\n",
              "        channel.send({})\n",
              "        if (message.buffers) {\n",
              "          for (const buffer of message.buffers) {\n",
              "            buffers.push(buffer);\n",
              "            downloaded += buffer.byteLength;\n",
              "            progress.value = downloaded;\n",
              "          }\n",
              "        }\n",
              "      }\n",
              "      const blob = new Blob(buffers, {type: 'application/binary'});\n",
              "      const a = document.createElement('a');\n",
              "      a.href = window.URL.createObjectURL(blob);\n",
              "      a.download = filename;\n",
              "      div.appendChild(a);\n",
              "      a.click();\n",
              "      div.remove();\n",
              "    }\n",
              "  "
            ],
            "text/plain": [
              "<IPython.core.display.Javascript object>"
            ]
          },
          "metadata": {
            "tags": []
          }
        },
        {
          "output_type": "display_data",
          "data": {
            "application/javascript": [
              "download(\"download_1db1c0d0-4974-43be-b379-e60d953cdd20\", \"time_10.png\", 44335)"
            ],
            "text/plain": [
              "<IPython.core.display.Javascript object>"
            ]
          },
          "metadata": {
            "tags": []
          }
        },
        {
          "output_type": "display_data",
          "data": {
            "application/javascript": [
              "\n",
              "    async function download(id, filename, size) {\n",
              "      if (!google.colab.kernel.accessAllowed) {\n",
              "        return;\n",
              "      }\n",
              "      const div = document.createElement('div');\n",
              "      const label = document.createElement('label');\n",
              "      label.textContent = `Downloading \"${filename}\": `;\n",
              "      div.appendChild(label);\n",
              "      const progress = document.createElement('progress');\n",
              "      progress.max = size;\n",
              "      div.appendChild(progress);\n",
              "      document.body.appendChild(div);\n",
              "\n",
              "      const buffers = [];\n",
              "      let downloaded = 0;\n",
              "\n",
              "      const channel = await google.colab.kernel.comms.open(id);\n",
              "      // Send a message to notify the kernel that we're ready.\n",
              "      channel.send({})\n",
              "\n",
              "      for await (const message of channel.messages) {\n",
              "        // Send a message to notify the kernel that we're ready.\n",
              "        channel.send({})\n",
              "        if (message.buffers) {\n",
              "          for (const buffer of message.buffers) {\n",
              "            buffers.push(buffer);\n",
              "            downloaded += buffer.byteLength;\n",
              "            progress.value = downloaded;\n",
              "          }\n",
              "        }\n",
              "      }\n",
              "      const blob = new Blob(buffers, {type: 'application/binary'});\n",
              "      const a = document.createElement('a');\n",
              "      a.href = window.URL.createObjectURL(blob);\n",
              "      a.download = filename;\n",
              "      div.appendChild(a);\n",
              "      a.click();\n",
              "      div.remove();\n",
              "    }\n",
              "  "
            ],
            "text/plain": [
              "<IPython.core.display.Javascript object>"
            ]
          },
          "metadata": {
            "tags": []
          }
        },
        {
          "output_type": "display_data",
          "data": {
            "application/javascript": [
              "download(\"download_951c1a40-0657-4951-9195-560531e42403\", \"comparisons_10.png\", 44695)"
            ],
            "text/plain": [
              "<IPython.core.display.Javascript object>"
            ]
          },
          "metadata": {
            "tags": []
          }
        },
        {
          "output_type": "display_data",
          "data": {
            "application/javascript": [
              "\n",
              "    async function download(id, filename, size) {\n",
              "      if (!google.colab.kernel.accessAllowed) {\n",
              "        return;\n",
              "      }\n",
              "      const div = document.createElement('div');\n",
              "      const label = document.createElement('label');\n",
              "      label.textContent = `Downloading \"${filename}\": `;\n",
              "      div.appendChild(label);\n",
              "      const progress = document.createElement('progress');\n",
              "      progress.max = size;\n",
              "      div.appendChild(progress);\n",
              "      document.body.appendChild(div);\n",
              "\n",
              "      const buffers = [];\n",
              "      let downloaded = 0;\n",
              "\n",
              "      const channel = await google.colab.kernel.comms.open(id);\n",
              "      // Send a message to notify the kernel that we're ready.\n",
              "      channel.send({})\n",
              "\n",
              "      for await (const message of channel.messages) {\n",
              "        // Send a message to notify the kernel that we're ready.\n",
              "        channel.send({})\n",
              "        if (message.buffers) {\n",
              "          for (const buffer of message.buffers) {\n",
              "            buffers.push(buffer);\n",
              "            downloaded += buffer.byteLength;\n",
              "            progress.value = downloaded;\n",
              "          }\n",
              "        }\n",
              "      }\n",
              "      const blob = new Blob(buffers, {type: 'application/binary'});\n",
              "      const a = document.createElement('a');\n",
              "      a.href = window.URL.createObjectURL(blob);\n",
              "      a.download = filename;\n",
              "      div.appendChild(a);\n",
              "      a.click();\n",
              "      div.remove();\n",
              "    }\n",
              "  "
            ],
            "text/plain": [
              "<IPython.core.display.Javascript object>"
            ]
          },
          "metadata": {
            "tags": []
          }
        },
        {
          "output_type": "display_data",
          "data": {
            "application/javascript": [
              "download(\"download_7d0c496e-2a9f-47bc-98e7-17b0c908eb85\", \"time_20.png\", 40212)"
            ],
            "text/plain": [
              "<IPython.core.display.Javascript object>"
            ]
          },
          "metadata": {
            "tags": []
          }
        },
        {
          "output_type": "display_data",
          "data": {
            "application/javascript": [
              "\n",
              "    async function download(id, filename, size) {\n",
              "      if (!google.colab.kernel.accessAllowed) {\n",
              "        return;\n",
              "      }\n",
              "      const div = document.createElement('div');\n",
              "      const label = document.createElement('label');\n",
              "      label.textContent = `Downloading \"${filename}\": `;\n",
              "      div.appendChild(label);\n",
              "      const progress = document.createElement('progress');\n",
              "      progress.max = size;\n",
              "      div.appendChild(progress);\n",
              "      document.body.appendChild(div);\n",
              "\n",
              "      const buffers = [];\n",
              "      let downloaded = 0;\n",
              "\n",
              "      const channel = await google.colab.kernel.comms.open(id);\n",
              "      // Send a message to notify the kernel that we're ready.\n",
              "      channel.send({})\n",
              "\n",
              "      for await (const message of channel.messages) {\n",
              "        // Send a message to notify the kernel that we're ready.\n",
              "        channel.send({})\n",
              "        if (message.buffers) {\n",
              "          for (const buffer of message.buffers) {\n",
              "            buffers.push(buffer);\n",
              "            downloaded += buffer.byteLength;\n",
              "            progress.value = downloaded;\n",
              "          }\n",
              "        }\n",
              "      }\n",
              "      const blob = new Blob(buffers, {type: 'application/binary'});\n",
              "      const a = document.createElement('a');\n",
              "      a.href = window.URL.createObjectURL(blob);\n",
              "      a.download = filename;\n",
              "      div.appendChild(a);\n",
              "      a.click();\n",
              "      div.remove();\n",
              "    }\n",
              "  "
            ],
            "text/plain": [
              "<IPython.core.display.Javascript object>"
            ]
          },
          "metadata": {
            "tags": []
          }
        },
        {
          "output_type": "display_data",
          "data": {
            "application/javascript": [
              "download(\"download_a4270e43-9e0e-4796-9b0c-377b7c12f415\", \"comparisons_20.png\", 45025)"
            ],
            "text/plain": [
              "<IPython.core.display.Javascript object>"
            ]
          },
          "metadata": {
            "tags": []
          }
        },
        {
          "output_type": "display_data",
          "data": {
            "application/javascript": [
              "\n",
              "    async function download(id, filename, size) {\n",
              "      if (!google.colab.kernel.accessAllowed) {\n",
              "        return;\n",
              "      }\n",
              "      const div = document.createElement('div');\n",
              "      const label = document.createElement('label');\n",
              "      label.textContent = `Downloading \"${filename}\": `;\n",
              "      div.appendChild(label);\n",
              "      const progress = document.createElement('progress');\n",
              "      progress.max = size;\n",
              "      div.appendChild(progress);\n",
              "      document.body.appendChild(div);\n",
              "\n",
              "      const buffers = [];\n",
              "      let downloaded = 0;\n",
              "\n",
              "      const channel = await google.colab.kernel.comms.open(id);\n",
              "      // Send a message to notify the kernel that we're ready.\n",
              "      channel.send({})\n",
              "\n",
              "      for await (const message of channel.messages) {\n",
              "        // Send a message to notify the kernel that we're ready.\n",
              "        channel.send({})\n",
              "        if (message.buffers) {\n",
              "          for (const buffer of message.buffers) {\n",
              "            buffers.push(buffer);\n",
              "            downloaded += buffer.byteLength;\n",
              "            progress.value = downloaded;\n",
              "          }\n",
              "        }\n",
              "      }\n",
              "      const blob = new Blob(buffers, {type: 'application/binary'});\n",
              "      const a = document.createElement('a');\n",
              "      a.href = window.URL.createObjectURL(blob);\n",
              "      a.download = filename;\n",
              "      div.appendChild(a);\n",
              "      a.click();\n",
              "      div.remove();\n",
              "    }\n",
              "  "
            ],
            "text/plain": [
              "<IPython.core.display.Javascript object>"
            ]
          },
          "metadata": {
            "tags": []
          }
        },
        {
          "output_type": "display_data",
          "data": {
            "application/javascript": [
              "download(\"download_bb867412-29e4-403f-842e-369505bde664\", \"time_80.png\", 40529)"
            ],
            "text/plain": [
              "<IPython.core.display.Javascript object>"
            ]
          },
          "metadata": {
            "tags": []
          }
        },
        {
          "output_type": "display_data",
          "data": {
            "application/javascript": [
              "\n",
              "    async function download(id, filename, size) {\n",
              "      if (!google.colab.kernel.accessAllowed) {\n",
              "        return;\n",
              "      }\n",
              "      const div = document.createElement('div');\n",
              "      const label = document.createElement('label');\n",
              "      label.textContent = `Downloading \"${filename}\": `;\n",
              "      div.appendChild(label);\n",
              "      const progress = document.createElement('progress');\n",
              "      progress.max = size;\n",
              "      div.appendChild(progress);\n",
              "      document.body.appendChild(div);\n",
              "\n",
              "      const buffers = [];\n",
              "      let downloaded = 0;\n",
              "\n",
              "      const channel = await google.colab.kernel.comms.open(id);\n",
              "      // Send a message to notify the kernel that we're ready.\n",
              "      channel.send({})\n",
              "\n",
              "      for await (const message of channel.messages) {\n",
              "        // Send a message to notify the kernel that we're ready.\n",
              "        channel.send({})\n",
              "        if (message.buffers) {\n",
              "          for (const buffer of message.buffers) {\n",
              "            buffers.push(buffer);\n",
              "            downloaded += buffer.byteLength;\n",
              "            progress.value = downloaded;\n",
              "          }\n",
              "        }\n",
              "      }\n",
              "      const blob = new Blob(buffers, {type: 'application/binary'});\n",
              "      const a = document.createElement('a');\n",
              "      a.href = window.URL.createObjectURL(blob);\n",
              "      a.download = filename;\n",
              "      div.appendChild(a);\n",
              "      a.click();\n",
              "      div.remove();\n",
              "    }\n",
              "  "
            ],
            "text/plain": [
              "<IPython.core.display.Javascript object>"
            ]
          },
          "metadata": {
            "tags": []
          }
        },
        {
          "output_type": "display_data",
          "data": {
            "application/javascript": [
              "download(\"download_e39eec36-be31-4917-ae94-a847a58d2503\", \"comparisons_80.png\", 44865)"
            ],
            "text/plain": [
              "<IPython.core.display.Javascript object>"
            ]
          },
          "metadata": {
            "tags": []
          }
        },
        {
          "output_type": "display_data",
          "data": {
            "application/javascript": [
              "\n",
              "    async function download(id, filename, size) {\n",
              "      if (!google.colab.kernel.accessAllowed) {\n",
              "        return;\n",
              "      }\n",
              "      const div = document.createElement('div');\n",
              "      const label = document.createElement('label');\n",
              "      label.textContent = `Downloading \"${filename}\": `;\n",
              "      div.appendChild(label);\n",
              "      const progress = document.createElement('progress');\n",
              "      progress.max = size;\n",
              "      div.appendChild(progress);\n",
              "      document.body.appendChild(div);\n",
              "\n",
              "      const buffers = [];\n",
              "      let downloaded = 0;\n",
              "\n",
              "      const channel = await google.colab.kernel.comms.open(id);\n",
              "      // Send a message to notify the kernel that we're ready.\n",
              "      channel.send({})\n",
              "\n",
              "      for await (const message of channel.messages) {\n",
              "        // Send a message to notify the kernel that we're ready.\n",
              "        channel.send({})\n",
              "        if (message.buffers) {\n",
              "          for (const buffer of message.buffers) {\n",
              "            buffers.push(buffer);\n",
              "            downloaded += buffer.byteLength;\n",
              "            progress.value = downloaded;\n",
              "          }\n",
              "        }\n",
              "      }\n",
              "      const blob = new Blob(buffers, {type: 'application/binary'});\n",
              "      const a = document.createElement('a');\n",
              "      a.href = window.URL.createObjectURL(blob);\n",
              "      a.download = filename;\n",
              "      div.appendChild(a);\n",
              "      a.click();\n",
              "      div.remove();\n",
              "    }\n",
              "  "
            ],
            "text/plain": [
              "<IPython.core.display.Javascript object>"
            ]
          },
          "metadata": {
            "tags": []
          }
        },
        {
          "output_type": "display_data",
          "data": {
            "application/javascript": [
              "download(\"download_be53e7b8-bebb-4061-9722-67dfd3b89af5\", \"time_120.png\", 37474)"
            ],
            "text/plain": [
              "<IPython.core.display.Javascript object>"
            ]
          },
          "metadata": {
            "tags": []
          }
        },
        {
          "output_type": "display_data",
          "data": {
            "application/javascript": [
              "\n",
              "    async function download(id, filename, size) {\n",
              "      if (!google.colab.kernel.accessAllowed) {\n",
              "        return;\n",
              "      }\n",
              "      const div = document.createElement('div');\n",
              "      const label = document.createElement('label');\n",
              "      label.textContent = `Downloading \"${filename}\": `;\n",
              "      div.appendChild(label);\n",
              "      const progress = document.createElement('progress');\n",
              "      progress.max = size;\n",
              "      div.appendChild(progress);\n",
              "      document.body.appendChild(div);\n",
              "\n",
              "      const buffers = [];\n",
              "      let downloaded = 0;\n",
              "\n",
              "      const channel = await google.colab.kernel.comms.open(id);\n",
              "      // Send a message to notify the kernel that we're ready.\n",
              "      channel.send({})\n",
              "\n",
              "      for await (const message of channel.messages) {\n",
              "        // Send a message to notify the kernel that we're ready.\n",
              "        channel.send({})\n",
              "        if (message.buffers) {\n",
              "          for (const buffer of message.buffers) {\n",
              "            buffers.push(buffer);\n",
              "            downloaded += buffer.byteLength;\n",
              "            progress.value = downloaded;\n",
              "          }\n",
              "        }\n",
              "      }\n",
              "      const blob = new Blob(buffers, {type: 'application/binary'});\n",
              "      const a = document.createElement('a');\n",
              "      a.href = window.URL.createObjectURL(blob);\n",
              "      a.download = filename;\n",
              "      div.appendChild(a);\n",
              "      a.click();\n",
              "      div.remove();\n",
              "    }\n",
              "  "
            ],
            "text/plain": [
              "<IPython.core.display.Javascript object>"
            ]
          },
          "metadata": {
            "tags": []
          }
        },
        {
          "output_type": "display_data",
          "data": {
            "application/javascript": [
              "download(\"download_e5c56946-086a-4225-ba58-b9b739fad60f\", \"comparisons_120.png\", 39046)"
            ],
            "text/plain": [
              "<IPython.core.display.Javascript object>"
            ]
          },
          "metadata": {
            "tags": []
          }
        }
      ]
    },
    {
      "cell_type": "markdown",
      "metadata": {
        "id": "yiI54LLgYzLo"
      },
      "source": [
        "### Exporting the Data"
      ]
    },
    {
      "cell_type": "code",
      "metadata": {
        "id": "ou9InyGUoKOJ",
        "colab": {
          "base_uri": "https://localhost:8080/",
          "height": 17
        },
        "outputId": "0e82f92e-3f5b-4c3f-9720-f30f65d666a6"
      },
      "source": [
        "# exporting the Data\n",
        "# result.to_excel('data.xlsx')\n",
        "result.to_csv('data.csv')\n",
        "from google.colab import files\n",
        "files.download(\"data.csv\")"
      ],
      "execution_count": null,
      "outputs": [
        {
          "output_type": "display_data",
          "data": {
            "application/javascript": [
              "\n",
              "    async function download(id, filename, size) {\n",
              "      if (!google.colab.kernel.accessAllowed) {\n",
              "        return;\n",
              "      }\n",
              "      const div = document.createElement('div');\n",
              "      const label = document.createElement('label');\n",
              "      label.textContent = `Downloading \"${filename}\": `;\n",
              "      div.appendChild(label);\n",
              "      const progress = document.createElement('progress');\n",
              "      progress.max = size;\n",
              "      div.appendChild(progress);\n",
              "      document.body.appendChild(div);\n",
              "\n",
              "      const buffers = [];\n",
              "      let downloaded = 0;\n",
              "\n",
              "      const channel = await google.colab.kernel.comms.open(id);\n",
              "      // Send a message to notify the kernel that we're ready.\n",
              "      channel.send({})\n",
              "\n",
              "      for await (const message of channel.messages) {\n",
              "        // Send a message to notify the kernel that we're ready.\n",
              "        channel.send({})\n",
              "        if (message.buffers) {\n",
              "          for (const buffer of message.buffers) {\n",
              "            buffers.push(buffer);\n",
              "            downloaded += buffer.byteLength;\n",
              "            progress.value = downloaded;\n",
              "          }\n",
              "        }\n",
              "      }\n",
              "      const blob = new Blob(buffers, {type: 'application/binary'});\n",
              "      const a = document.createElement('a');\n",
              "      a.href = window.URL.createObjectURL(blob);\n",
              "      a.download = filename;\n",
              "      div.appendChild(a);\n",
              "      a.click();\n",
              "      div.remove();\n",
              "    }\n",
              "  "
            ],
            "text/plain": [
              "<IPython.core.display.Javascript object>"
            ]
          },
          "metadata": {
            "tags": []
          }
        },
        {
          "output_type": "display_data",
          "data": {
            "application/javascript": [
              "download(\"download_53030bd0-85eb-4ac7-9f5b-ccc606a41918\", \"data.csv\", 12895855)"
            ],
            "text/plain": [
              "<IPython.core.display.Javascript object>"
            ]
          },
          "metadata": {
            "tags": []
          }
        }
      ]
    },
    {
      "cell_type": "markdown",
      "metadata": {
        "id": "2oZxCYZaXzLb"
      },
      "source": [
        "###test naif plusieur occurence"
      ]
    },
    {
      "cell_type": "code",
      "metadata": {
        "id": "VlZm62psX8um"
      },
      "source": [
        "def measureNaif(needle:str, haystack:str, firstOccurence=False):\n",
        "  import time\n",
        "  startTime = time.perf_counter_ns()\n",
        "  output = naif(needle, haystack, firstOccurence=firstOccurence)\n",
        "  endTime = time.perf_counter_ns()\n",
        "  return {\n",
        "      'result':output,\n",
        "      'time':endTime - startTime\n",
        "  }\n",
        "\n",
        "result['time_naif_all'] = result.apply(lambda row: measureNaif(row['needles'], row['haystacks'])['time'], axis=1)\n",
        "result['naif_comparisons_all'] = result.apply(lambda row: naif(row['needles'], row['haystacks'])['comparaisons'], axis=1)\n",
        "\n",
        "result['time_kmp_all'] = result.apply(lambda row: Kmp(row['needles'], row['haystacks'], time=True, firstOccurence=False)['time'], axis=1)\n",
        "result['kmp_comparisons_all'] = result.apply(lambda row: Kmp(row['needles'], row['haystacks'], time=True, firstOccurence=False)['comparisons'], axis=1)"
      ],
      "execution_count": null,
      "outputs": []
    },
    {
      "cell_type": "code",
      "metadata": {
        "colab": {
          "base_uri": "https://localhost:8080/",
          "height": 1000
        },
        "id": "r5HdjvHccizn",
        "outputId": "b9ab4a0b-c0b8-4af6-8856-3d554ed4675d"
      },
      "source": [
        "import matplotlib.pyplot as plt\n",
        "from matplotlib.pyplot import figure\n",
        "\n",
        "for sample_size in [10,20,80,120]:\n",
        "  sample_data=  result[result.needle_length == sample_size]\n",
        "  figure(figsize=(8, 6), dpi=80)\n",
        "\n",
        "  plt.plot(sample_data['haystack_length'],sample_data['time_naif_all'],label='Naif')\n",
        "  plt.plot(sample_data['haystack_length'],sample_data['time_kmp_all'],label='Kmp')\n",
        "  \n",
        "  \n",
        "\n",
        "  plt.title(f' Naif plusieur vs mp plusieur (Motif={sample_size})')\n",
        "  # Set the y axis label of the current axis.\n",
        "  plt.xlabel('Taille du Texte')\n",
        "  plt.ylabel('Temps d\\'éxécution')\n",
        "  # show a legend on the plot\n",
        "  plt.legend()\n",
        "\n",
        "  fig1 = plt.gcf()\n",
        "  # Display a figure.\n",
        "  plt.show()\n",
        "  #fig1.savefig(f'plots/time_{sample_size}.png')"
      ],
      "execution_count": null,
      "outputs": [
        {
          "output_type": "display_data",
          "data": {
            "image/png": "[encoded data removed]",
            "text/plain": [
              "<Figure size 640x480 with 1 Axes>"
            ]
          },
          "metadata": {
            "tags": [],
            "needs_background": "light"
          }
        },
        {
          "output_type": "display_data",
          "data": {
            "image/png": "[encoded data removed]",
            "text/plain": [
              "<Figure size 640x480 with 1 Axes>"
            ]
          },
          "metadata": {
            "tags": [],
            "needs_background": "light"
          }
        },
        {
          "output_type": "display_data",
          "data": {
            "image/png": "[encoded data removed]",
            "text/plain": [
              "<Figure size 640x480 with 1 Axes>"
            ]
          },
          "metadata": {
            "tags": [],
            "needs_background": "light"
          }
        },
        {
          "output_type": "display_data",
          "data": {
            "image/png": "[encoded data removed]",
            "text/plain": [
              "<Figure size 640x480 with 1 Axes>"
            ]
          },
          "metadata": {
            "tags": [],
            "needs_background": "light"
          }
        }
      ]
    }
  ]
}