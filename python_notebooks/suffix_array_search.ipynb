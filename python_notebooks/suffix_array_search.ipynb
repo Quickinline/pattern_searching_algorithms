{
  "nbformat": 4,
  "nbformat_minor": 0,
  "metadata": {
    "colab": {
      "name": "TP3_bioalgo.ipynb",
      "provenance": [],
      "collapsed_sections": [
        "HkKpNQ8mFIa7"
      ]
    },
    "kernelspec": {
      "display_name": "Python 3",
      "language": "python",
      "name": "python3"
    },
    "language_info": {
      "codemirror_mode": {
        "name": "ipython",
        "version": 3
      },
      "file_extension": ".py",
      "mimetype": "text/x-python",
      "name": "python",
      "nbconvert_exporter": "python",
      "pygments_lexer": "ipython3",
      "version": "3.9.2"
    }
  },
  "cells": [
    {
      "cell_type": "markdown",
      "metadata": {
        "id": "EZUlFQI8gE7h"
      },
      "source": [
        "# Suffix Array"
      ]
    },
    {
      "cell_type": "markdown",
      "metadata": {
        "id": "SWJtJqtcorha"
      },
      "source": [
        "## Construction\n"
      ]
    },
    {
      "cell_type": "code",
      "metadata": {
        "colab": {
          "base_uri": "https://localhost:8080/"
        },
        "id": "WKvhMAjPgBE7",
        "outputId": "1630b807-bda4-4631-c73d-88f2e1445fee"
      },
      "source": [
        "\n",
        "# naive algorithm O(n²)\n",
        "def suffix_table (text:str):\n",
        "    n = len(text)\n",
        "    suffixes = []\n",
        "    for i in range(n):\n",
        "        suffix = text[i:]\n",
        "        suffixes.append(suffix)\n",
        "    suffixes.sort()\n",
        "\n",
        "    table = []\n",
        "    for suffix in suffixes:\n",
        "        table.append(n - len(suffix))\n",
        "\n",
        "    return table\n",
        "\n",
        "\n",
        "suffix_table('CACGTACGTACTA')"
      ],
      "execution_count": null,
      "outputs": [
        {
          "output_type": "execute_result",
          "data": {
            "text/plain": [
              "[12, 1, 5, 9, 0, 2, 6, 10, 3, 7, 11, 4, 8]"
            ]
          },
          "metadata": {
            "tags": []
          },
          "execution_count": 30
        }
      ]
    },
    {
      "cell_type": "code",
      "metadata": {
        "colab": {
          "base_uri": "https://localhost:8080/"
        },
        "id": "qsl_vmDa-gmp",
        "outputId": "27368f0c-9833-4f9c-9d10-038c6aa8e5c5"
      },
      "source": [
        "# Better Approach\n",
        "# https://www.youtube.com/watch?v=_TUeAdu-U_k\n",
        "\n",
        "def suffix_array(text:str):\n",
        "  n = len(text)\n",
        "\n",
        "  # convert text to list of ASCII Values\n",
        "  text_values = [ord(text[x]) - ord('A') for x in range(n)]\n",
        "\n",
        "  main_vals = text_values\n",
        "  b = len(main_vals) != len(set(main_vals))\n",
        "  i= 1\n",
        "  while b:\n",
        "\n",
        "    # extract a set of tuples, each tuples representing the first two characters of each suffix\n",
        "    two_tuples = [(main_vals[i],main_vals[i+1] if i+1 < n else -1) for i in range(n)]\n",
        "\n",
        "\n",
        "    # sorting the list of tuples and assigning ranks\n",
        "    sorted_tuples = sorted(two_tuples)\n",
        "    \n",
        "    # convert tuples to their ranking\n",
        "    conversion_dict = {}\n",
        "\n",
        "    for x in range(len(sorted_tuples)):\n",
        "      if x - 1 < 0 or (sorted_tuples[x-1] != sorted_tuples[x]):\n",
        "        conversion_dict[sorted_tuples[x]] = x\n",
        "    \n",
        "    # construct a list of the tuple's ranking as our new array order\n",
        "    main_vals = [conversion_dict[x] for x in two_tuples]\n",
        "\n",
        "    b = len(main_vals) != len(set(main_vals))\n",
        "    i+=1\n",
        "  \n",
        "  # now all the values of main_vals are unique\n",
        "  \n",
        "  output = [-1 for x in range(len(main_vals))]\n",
        "  for i in range(len(main_vals)):\n",
        "    output[main_vals[i]] = i\n",
        "  \n",
        "  return output\n",
        "\n",
        "suffix_array('CACGTACGTACTA')"
      ],
      "execution_count": null,
      "outputs": [
        {
          "output_type": "execute_result",
          "data": {
            "text/plain": [
              "[12, 1, 5, 9, 0, 2, 6, 10, 3, 7, 11, 4, 8]"
            ]
          },
          "metadata": {
            "tags": []
          },
          "execution_count": 31
        }
      ]
    },
    {
      "cell_type": "code",
      "metadata": {
        "colab": {
          "base_uri": "https://localhost:8080/"
        },
        "id": "5fFRJFpLolT6",
        "outputId": "d0c1de93-6e17-4b43-9d6e-4f48e34d527a"
      },
      "source": [
        "suffix_array('GATAAGATTGATG')"
      ],
      "execution_count": null,
      "outputs": [
        {
          "output_type": "execute_result",
          "data": {
            "text/plain": [
              "[3, 4, 1, 10, 6, 12, 0, 9, 5, 2, 11, 8, 7]"
            ]
          },
          "metadata": {
            "tags": []
          },
          "execution_count": 32
        }
      ]
    },
    {
      "cell_type": "markdown",
      "metadata": {
        "id": "U4K2nbTUot-k"
      },
      "source": [
        "##Search\n"
      ]
    },
    {
      "cell_type": "code",
      "metadata": {
        "id": "pB1FhpuR0r-n"
      },
      "source": [
        "def search_with_suffix(text:str, pattern:str, suffixes:list):\n",
        "  # defining lengths\n",
        "  n = len(text)\n",
        "  m = len(pattern)\n",
        "\n",
        "  # defining the beginning and end indicies\n",
        "  d = 0\n",
        "  f = n -1\n",
        "\n",
        "  # search the start\n",
        "  while d < f:\n",
        "    middle = int((d + f) /2)\n",
        "    if pattern <= text[suffixes[middle]:]:\n",
        "      f = middle\n",
        "    else:\n",
        "      d = middle + 1\n",
        "\n",
        "  deb = d\n",
        "\n",
        "  # search the end\n",
        "  f = n -1\n",
        "  while d < f:\n",
        "    middle = int((d + f) /2)\n",
        "    if pattern == text[suffixes[middle]: suffixes[middle] + m]:\n",
        "      d = middle +1\n",
        "    else:\n",
        "      f = middle -1\n",
        "  # format the output\n",
        "  fin = f\n",
        "  if fin - deb == 1:\n",
        "    return suffixes[deb: fin + 1]\n",
        "  return suffixes[deb:fin]"
      ],
      "execution_count": null,
      "outputs": []
    },
    {
      "cell_type": "code",
      "metadata": {
        "colab": {
          "base_uri": "https://localhost:8080/"
        },
        "id": "x5iziavHWZpf",
        "outputId": "8c572be3-d45e-4b6b-e543-6484857adb74"
      },
      "source": [
        "from pprint import pprint\n",
        "text, word ='CACGTACGTACTA', 'CG'\n",
        "sf_ar = suffix_array(text)\n",
        "search_with_suffix(text,word,suffix_array(text))"
      ],
      "execution_count": null,
      "outputs": [
        {
          "output_type": "execute_result",
          "data": {
            "text/plain": [
              "[2, 6]"
            ]
          },
          "metadata": {
            "tags": []
          },
          "execution_count": 34
        }
      ]
    },
    {
      "cell_type": "code",
      "metadata": {
        "collapsed": true,
        "id": "rzP2Eq0Iezfr",
        "colab": {
          "base_uri": "https://localhost:8080/"
        },
        "outputId": "681226ab-3f94-463d-dd40-d365945ab096"
      },
      "source": [
        "from pprint import pprint\n",
        "text= 'CACGTACGTACTACACGTACGTACTACACGTACGTACTA'\n",
        "sf_ar = suffix_array(text)\n",
        "pprint([ (x,sf_ar[x],text[sf_ar[x]:]) for x in range(len(sf_ar))])\n",
        "search_with_suffix(text,'TAC',suffix_array(text))"
      ],
      "execution_count": null,
      "outputs": [
        {
          "output_type": "stream",
          "text": [
            "[(0, 38, 'A'),\n",
            " (1, 25, 'ACACGTACGTACTA'),\n",
            " (2, 12, 'ACACGTACGTACTACACGTACGTACTA'),\n",
            " (3, 27, 'ACGTACGTACTA'),\n",
            " (4, 14, 'ACGTACGTACTACACGTACGTACTA'),\n",
            " (5, 1, 'ACGTACGTACTACACGTACGTACTACACGTACGTACTA'),\n",
            " (6, 31, 'ACGTACTA'),\n",
            " (7, 18, 'ACGTACTACACGTACGTACTA'),\n",
            " (8, 5, 'ACGTACTACACGTACGTACTACACGTACGTACTA'),\n",
            " (9, 35, 'ACTA'),\n",
            " (10, 22, 'ACTACACGTACGTACTA'),\n",
            " (11, 9, 'ACTACACGTACGTACTACACGTACGTACTA'),\n",
            " (12, 26, 'CACGTACGTACTA'),\n",
            " (13, 13, 'CACGTACGTACTACACGTACGTACTA'),\n",
            " (14, 0, 'CACGTACGTACTACACGTACGTACTACACGTACGTACTA'),\n",
            " (15, 28, 'CGTACGTACTA'),\n",
            " (16, 15, 'CGTACGTACTACACGTACGTACTA'),\n",
            " (17, 2, 'CGTACGTACTACACGTACGTACTACACGTACGTACTA'),\n",
            " (18, 32, 'CGTACTA'),\n",
            " (19, 19, 'CGTACTACACGTACGTACTA'),\n",
            " (20, 6, 'CGTACTACACGTACGTACTACACGTACGTACTA'),\n",
            " (21, 36, 'CTA'),\n",
            " (22, 23, 'CTACACGTACGTACTA'),\n",
            " (23, 10, 'CTACACGTACGTACTACACGTACGTACTA'),\n",
            " (24, 29, 'GTACGTACTA'),\n",
            " (25, 16, 'GTACGTACTACACGTACGTACTA'),\n",
            " (26, 3, 'GTACGTACTACACGTACGTACTACACGTACGTACTA'),\n",
            " (27, 33, 'GTACTA'),\n",
            " (28, 20, 'GTACTACACGTACGTACTA'),\n",
            " (29, 7, 'GTACTACACGTACGTACTACACGTACGTACTA'),\n",
            " (30, 37, 'TA'),\n",
            " (31, 24, 'TACACGTACGTACTA'),\n",
            " (32, 11, 'TACACGTACGTACTACACGTACGTACTA'),\n",
            " (33, 30, 'TACGTACTA'),\n",
            " (34, 17, 'TACGTACTACACGTACGTACTA'),\n",
            " (35, 4, 'TACGTACTACACGTACGTACTACACGTACGTACTA'),\n",
            " (36, 34, 'TACTA'),\n",
            " (37, 21, 'TACTACACGTACGTACTA'),\n",
            " (38, 8, 'TACTACACGTACGTACTACACGTACGTACTA')]\n"
          ],
          "name": "stdout"
        },
        {
          "output_type": "execute_result",
          "data": {
            "text/plain": [
              "[24, 11, 30, 17, 4, 34, 21]"
            ]
          },
          "metadata": {
            "tags": []
          },
          "execution_count": 35
        }
      ]
    },
    {
      "cell_type": "code",
      "metadata": {
        "id": "Mxw__1CGhsLT",
        "colab": {
          "base_uri": "https://localhost:8080/"
        },
        "outputId": "f2a9b188-0c31-4da0-d581-a6e5bcfff1dc"
      },
      "source": [
        "print(suffix_array('CACGTACGTACTA'))\n",
        "search_with_suffix('CACGTACGTACTA','TAC',suffix_array('CACGTACGTACTA'))"
      ],
      "execution_count": null,
      "outputs": [
        {
          "output_type": "stream",
          "text": [
            "[12, 1, 5, 9, 0, 2, 6, 10, 3, 7, 11, 4, 8]\n"
          ],
          "name": "stdout"
        },
        {
          "output_type": "execute_result",
          "data": {
            "text/plain": [
              "[4, 8]"
            ]
          },
          "metadata": {
            "tags": []
          },
          "execution_count": 77
        }
      ]
    },
    {
      "cell_type": "code",
      "metadata": {
        "id": "JLvKXOwlBPwd",
        "colab": {
          "base_uri": "https://localhost:8080/"
        },
        "outputId": "75e041c8-0f31-4534-c91c-9a4a41e85019"
      },
      "source": [
        "suffix_array('CACGTACGTACTA')[9:11]"
      ],
      "execution_count": null,
      "outputs": [
        {
          "output_type": "execute_result",
          "data": {
            "text/plain": [
              "[7, 11]"
            ]
          },
          "metadata": {
            "tags": []
          },
          "execution_count": 37
        }
      ]
    },
    {
      "cell_type": "code",
      "metadata": {
        "id": "SXzfGEVZOxmK",
        "colab": {
          "base_uri": "https://localhost:8080/"
        },
        "outputId": "d77be161-02ea-4b3b-e53d-86ca4b50b233"
      },
      "source": [
        "from pprint import pprint\n",
        "text = 'CACGTACGTACTA'\n",
        "sf = suffix_array(text)\n",
        "pprint([(i,sf[i],text[sf[i]:]) for i in range(len(sf))])\n",
        "search_with_suffix(text,'CGT',sf)"
      ],
      "execution_count": null,
      "outputs": [
        {
          "output_type": "stream",
          "text": [
            "[(0, 12, 'A'),\n",
            " (1, 1, 'ACGTACGTACTA'),\n",
            " (2, 5, 'ACGTACTA'),\n",
            " (3, 9, 'ACTA'),\n",
            " (4, 0, 'CACGTACGTACTA'),\n",
            " (5, 2, 'CGTACGTACTA'),\n",
            " (6, 6, 'CGTACTA'),\n",
            " (7, 10, 'CTA'),\n",
            " (8, 3, 'GTACGTACTA'),\n",
            " (9, 7, 'GTACTA'),\n",
            " (10, 11, 'TA'),\n",
            " (11, 4, 'TACGTACTA'),\n",
            " (12, 8, 'TACTA')]\n"
          ],
          "name": "stdout"
        },
        {
          "output_type": "execute_result",
          "data": {
            "text/plain": [
              "[2, 6]"
            ]
          },
          "metadata": {
            "tags": []
          },
          "execution_count": 38
        }
      ]
    },
    {
      "cell_type": "code",
      "metadata": {
        "id": "FTtxMu_6nXgC",
        "colab": {
          "base_uri": "https://localhost:8080/"
        },
        "outputId": "8bbd46fd-5748-42ed-d8da-945b407b6087"
      },
      "source": [
        "text = 'GCATCGC'\n",
        "print(suffix_array(text))\n",
        "print([text[i:] for i in suffix_array(text) ])\n",
        "search_with_suffix(text,'ATC',suffix_array(text))"
      ],
      "execution_count": null,
      "outputs": [
        {
          "output_type": "stream",
          "text": [
            "[2, 6, 1, 4, 5, 0, 3]\n",
            "['ATCGC', 'C', 'CATCGC', 'CGC', 'GC', 'GCATCGC', 'TCGC']\n"
          ],
          "name": "stdout"
        },
        {
          "output_type": "execute_result",
          "data": {
            "text/plain": [
              "[]"
            ]
          },
          "metadata": {
            "tags": []
          },
          "execution_count": 39
        }
      ]
    },
    {
      "cell_type": "markdown",
      "metadata": {
        "id": "FG12Rn-ToxY9"
      },
      "source": [
        "#LCP Array (HTR)\n",
        "Longest Common Prefix"
      ]
    },
    {
      "cell_type": "code",
      "metadata": {
        "id": "9G-sApN5kiSC"
      },
      "source": [
        "def lcp_length(s1:str, s2:str, n=0):\n",
        "  \"\"\"\n",
        "  Recursive function to return \n",
        "  the length of the longest common prefix of two given strings\n",
        "  \"\"\"\n",
        "  # if the current n character matches\n",
        "  if s1[n] == s2[n]:\n",
        "    # if we can't compare the following characters, we return one\n",
        "    if n == len(s1)-1 or n == len(s2)-1:\n",
        "      return 1\n",
        "    # if we can compare the following characters, we compare them\n",
        "    return 1 + lcp_length(s1,s2,n+1)\n",
        "  # if this comparison failed, we return 0\n",
        "  else:\n",
        "    return 0\n",
        "\n",
        "def lcp_lengths(strings:list, n=0):\n",
        "  # initialize lengths\n",
        "  m = len(strings)\n",
        "  min_length = min([len(s) for s in strings])\n",
        "\n",
        "  char_val = strings[0][n]\n",
        "  i = 1\n",
        "\n",
        "  while i < m and char_val == strings[i][n]:\n",
        "    i+=1\n",
        "\n",
        "  # if all strings have the same nth character  \n",
        "  if i == m:\n",
        "    # we check if the next character still falls under the min_length\n",
        "    if n + 1 < min_length:\n",
        "      # if it does, we recurse\n",
        "      return 1 + lcp_lengths(strings, n+1)\n",
        "    else:\n",
        "      return 1\n",
        "  else:\n",
        "    # there's a mismatch\n",
        "    return 0\n",
        "\n",
        "\n",
        "def lcp_array(text:str,suff_arr:list, k= 2):\n",
        "  # the first element of the lcp array is always undefined\n",
        "  # so we set it to -1 because no length is -1\n",
        "  output= [-1 for k in range(k-1)]\n",
        "  # for each element in the suffix array\n",
        "  for i in range(1,len(suff_arr)):\n",
        "    # current suffix from the suffix array\n",
        "    curr_suffix = text[suff_arr[i]:]\n",
        "\n",
        "    # previous suffix from the suffix array\n",
        "    prev_suffix = text[suff_arr[i-1]:]\n",
        "\n",
        "    suffixes = [text[suff_arr[i-k]:] for k in range(k)]\n",
        "    # appending the lcp length of the two\n",
        "    output.append(lcp_lengths(suffixes))\n",
        "\n",
        "  return output"
      ],
      "execution_count": null,
      "outputs": []
    },
    {
      "cell_type": "code",
      "metadata": {
        "colab": {
          "base_uri": "https://localhost:8080/"
        },
        "id": "R1NQH-pipwG_",
        "outputId": "1f323c68-ee8e-413d-8126-9dea920295f2"
      },
      "source": [
        "# testing lcp array\n",
        "\n",
        "lcp_array('CACGTACGTACTA',suffix_array('CACGTACGTACTA'))\n",
        "\n",
        "# Tested with online example\n",
        "# https://www.educative.io/edpresso/what-is-an-lcp-array\n",
        "# lcp_array('papaya',suffix_array('papaya'))"
      ],
      "execution_count": null,
      "outputs": [
        {
          "output_type": "execute_result",
          "data": {
            "text/plain": [
              "[-1, 1, 6, 2, 0, 1, 5, 1, 0, 4, 0, 2, 3]"
            ]
          },
          "metadata": {
            "tags": []
          },
          "execution_count": 79
        }
      ]
    },
    {
      "cell_type": "code",
      "metadata": {
        "colab": {
          "base_uri": "https://localhost:8080/"
        },
        "id": "htzv_UwH5Rwf",
        "outputId": "9e49097b-a3bf-46a1-92ce-d45d3b80784a"
      },
      "source": [
        "lcp_array('CAGACGGAAGAGTGAACGACCCGACGT',suffix_array('CAGACGGAAGAGTGAACGACCCGACGT'))"
      ],
      "execution_count": null,
      "outputs": [
        {
          "output_type": "execute_result",
          "data": {
            "text/plain": [
              "[-1,\n",
              " 2,\n",
              " 1,\n",
              " 2,\n",
              " 3,\n",
              " 3,\n",
              " 1,\n",
              " 3,\n",
              " 2,\n",
              " 0,\n",
              " 1,\n",
              " 2,\n",
              " 1,\n",
              " 4,\n",
              " 2,\n",
              " 2,\n",
              " 0,\n",
              " 3,\n",
              " 2,\n",
              " 3,\n",
              " 4,\n",
              " 2,\n",
              " 1,\n",
              " 1,\n",
              " 2,\n",
              " 0,\n",
              " 1]"
            ]
          },
          "metadata": {
            "tags": []
          },
          "execution_count": 80
        }
      ]
    },
    {
      "cell_type": "markdown",
      "metadata": {
        "id": "nSzWb0n5t3ps"
      },
      "source": [
        "#LCS\n",
        "Longest Common Substring"
      ]
    },
    {
      "cell_type": "code",
      "metadata": {
        "id": "2K9c6DNKuOCn"
      },
      "source": [
        "def lcs(text:str):\n",
        "  suff_arr = suffix_array(text)\n",
        "  lcp_arr = lcp_array(text,suff_arr)\n",
        "\n",
        "  max_len = -1\n",
        "  indicies = []\n",
        "\n",
        "  for i in range(len(lcp_arr)):\n",
        "    if lcp_arr[i] > max_len:\n",
        "      max_len= lcp_arr[i]\n",
        "      indicies = [suff_arr[i]]\n",
        "    else:\n",
        "      if lcp_arr[i] == max_len:\n",
        "        indicies.append(suff_arr[i])\n",
        "  \n",
        "\n",
        "  substrings = [text[i:i+max_len] for i in indicies]\n",
        "\n",
        "  return substrings"
      ],
      "execution_count": null,
      "outputs": []
    },
    {
      "cell_type": "code",
      "metadata": {
        "id": "XaXFd70kJoYT"
      },
      "source": [
        "def lcs_v2(text:str):\n",
        "  suff_arr = suffix_array(text)\n",
        "  lcp_arr = lcp_array(text,suff_arr)\n",
        "  \n",
        "  # getting the max of lcp and it's first occurence\n",
        "  max_len = max(lcp_arr)\n",
        "  start = lcp_arr.index(max_len)\n",
        "  indicies = []\n",
        "\n",
        "  # iterating through the table from the first occurence of max\n",
        "  i = start\n",
        "  while i < len(lcp_arr):\n",
        "    # if there's an equality we append the substring then\n",
        "    # iterate until there isn't\n",
        "    if lcp_arr[i] == max_len:\n",
        "      indicies.append(suff_arr[i])\n",
        "      j = i\n",
        "      while lcp_arr[j] == max_len:\n",
        "        j+=1\n",
        "      i = j\n",
        "    else:\n",
        "      # if there's no equality we iterate\n",
        "      i+=1  \n",
        "\n",
        "  # acquire the substrings of indicies\n",
        "  substrings = [text[i:i+max_len] for i in indicies]\n",
        "\n",
        "  return substrings"
      ],
      "execution_count": null,
      "outputs": []
    },
    {
      "cell_type": "code",
      "metadata": {
        "id": "sc-ACOnNJ-Dz",
        "colab": {
          "base_uri": "https://localhost:8080/"
        },
        "outputId": "6c971c71-2d44-444a-fba2-f4549453963c"
      },
      "source": [
        "lcs_v2('CAGACGGAAGAGTGAACGACCCGACGT')"
      ],
      "execution_count": null,
      "outputs": [
        {
          "output_type": "execute_result",
          "data": {
            "text/plain": [
              "['CGAC', 'GACG']"
            ]
          },
          "metadata": {
            "tags": []
          },
          "execution_count": 44
        }
      ]
    },
    {
      "cell_type": "code",
      "metadata": {
        "colab": {
          "base_uri": "https://localhost:8080/"
        },
        "id": "tXwTzXGEwtC2",
        "outputId": "904dbf60-cb01-4694-b07a-4cd0d4e4ac5d"
      },
      "source": [
        "lcs('CAGACGGAAGAGTGAACGACCCGACGT')\n",
        "# CAGACGGAAGAGTGAACGACCCGACGT"
      ],
      "execution_count": null,
      "outputs": [
        {
          "output_type": "execute_result",
          "data": {
            "text/plain": [
              "['CGAC', 'GACG']"
            ]
          },
          "metadata": {
            "tags": []
          },
          "execution_count": 45
        }
      ]
    },
    {
      "cell_type": "markdown",
      "metadata": {
        "id": "yMVPO8mNBhDm"
      },
      "source": [
        "#ITS Array"
      ]
    },
    {
      "cell_type": "code",
      "metadata": {
        "id": "jX76z1SaBgfK"
      },
      "source": [
        "def its_array(suff_arr:list):\n",
        "  n = len(suff_arr)\n",
        "  output = [-1 for i in range(n)]\n",
        "  for i in range(n):\n",
        "    output[suff_arr[i]] = i\n",
        "  \n",
        "  return output\n"
      ],
      "execution_count": null,
      "outputs": []
    },
    {
      "cell_type": "code",
      "metadata": {
        "colab": {
          "base_uri": "https://localhost:8080/"
        },
        "id": "HhsQZrjhE3Nh",
        "outputId": "debe21d8-9c6a-4f82-9a2a-d507004f0fee"
      },
      "source": [
        "# testing course example\n",
        "suff_arr = suffix_array('GATGATTGAG')\n",
        "its_array(suff_arr)"
      ],
      "execution_count": null,
      "outputs": [
        {
          "output_type": "execute_result",
          "data": {
            "text/plain": [
              "[5, 1, 8, 6, 2, 9, 7, 4, 0, 3]"
            ]
          },
          "metadata": {
            "tags": []
          },
          "execution_count": 47
        }
      ]
    },
    {
      "cell_type": "markdown",
      "metadata": {
        "id": "ffuwx_TTCdMR"
      },
      "source": [
        "#Shortest Common substring\n",
        "##List of Substring Lengths"
      ]
    },
    {
      "cell_type": "code",
      "metadata": {
        "id": "RGhS6FBJCrft"
      },
      "source": [
        "def subs_lengths(text:str):\n",
        "  ts = suffix_array(text)\n",
        "  its = its_array(ts)\n",
        "  htr = lcp_array(text,ts)\n",
        "  n = len(text)\n",
        "\n",
        "  \n",
        "  output=[]\n",
        "  for i in range(n):\n",
        "    first = htr[its[i]]\n",
        "    second = htr[its[i]+1] if its[i] +1 < len(htr) else 0\n",
        "    output.append( 1 + max( first,second ))\n",
        "  output.append(1)\n",
        "  return output\n",
        "\n",
        "def scs(text:str):\n",
        "  sl = subs_lengths(text)\n",
        "  n = len(text)\n",
        "  i = 0\n",
        "\n",
        "  result = []\n",
        "  while i + sl[i] <= n:\n",
        "    if sl[i] <= sl[i + 1]:\n",
        "      result.append(text[i:i + sl[i]])\n",
        "    i+=1\n",
        "  \n",
        "  return result"
      ],
      "execution_count": null,
      "outputs": []
    },
    {
      "cell_type": "code",
      "metadata": {
        "colab": {
          "base_uri": "https://localhost:8080/"
        },
        "id": "7FXLUqZoDiDy",
        "outputId": "f0cdcfb5-5ead-4876-ac42-23901525162c"
      },
      "source": [
        "text = 'GATGATTGAG'\n",
        "ts = suffix_array(text)\n",
        "print(f'TS: {ts}')\n",
        "print(f'ITS: {its_array(ts)}')\n",
        "print(f'HTR: {lcp_array(\"GATGATTGAG\",ts)} ')\n",
        "sl = subs_lengths(text)\n",
        "print(f'SL: {sl}')\n",
        "print(f\"Candidats: {[text[i: i + sl[i]] for i in range(len(sl))]}\")\n",
        "print(f\"Plus Courts Facteurs uniques: {scs(text)}\")"
      ],
      "execution_count": null,
      "outputs": [
        {
          "output_type": "stream",
          "text": [
            "TS: [8, 1, 4, 9, 7, 0, 3, 6, 2, 5]\n",
            "ITS: [5, 1, 8, 6, 2, 9, 7, 4, 0, 3]\n",
            "HTR: [-1, 1, 2, 0, 1, 2, 3, 0, 3, 1] \n",
            "SL: [4, 3, 4, 4, 3, 2, 4, 3, 2, 2, 1]\n",
            "Candidats: ['GATG', 'ATG', 'TGAT', 'GATT', 'ATT', 'TT', 'TGAG', 'GAG', 'AG', 'G', '']\n",
            "Plus Courts Facteurs uniques: ['ATG', 'TGAT', 'TT', 'AG']\n"
          ],
          "name": "stdout"
        }
      ]
    },
    {
      "cell_type": "markdown",
      "metadata": {
        "id": "MbVHjXtIabgI"
      },
      "source": [
        "#Répétitions super Maximales"
      ]
    },
    {
      "cell_type": "code",
      "metadata": {
        "id": "sZopCaTljLMr"
      },
      "source": [
        "def rsm(text:str, alphabet_length=4):\n",
        "  \n",
        "  # first step, retrieve the substring w,\n",
        "  # where w is represened by a local maximain the lcp array (HTR)\n",
        "\n",
        "  # we retrieve both the suffix array\n",
        "  # and lcp array\n",
        "  ts = suffix_array(text)\n",
        "  htr = lcp_array(text,ts)\n",
        "  \n",
        "  # this is our result of local maxes\n",
        "  # each substring is the index and the value\n",
        "  # is an array of his occuring indicies\n",
        "  local_max = {}\n",
        "\n",
        "  # this is a buffer registering the length of the prefix\n",
        "  # our way to find the local minimum\n",
        "  buff = htr[0]\n",
        "\n",
        "  for i in range(len(htr)):\n",
        "\n",
        "    # if we find that the current value is larger than our buffer\n",
        "    # we assign it to our buffer\n",
        "    if htr[i] > buff:\n",
        "      buff = htr[i]\n",
        "\n",
        "    # in the case of equality we do nothing,\n",
        "    # however if the htr[i] is smaller, then\n",
        "    # we would have found a local maxima\n",
        "    else:\n",
        "      if htr[i] < buff:\n",
        "        # we now that the previous index is our maxima and we record k, the count of our word occurences\n",
        "        j = i -1\n",
        "        k = 1\n",
        "        # we get our word using the suffix array\n",
        "        w = text[ts[j]: ts[j] + buff]\n",
        "        # we initialize the table containing the occurences of our w\n",
        "        local_max[w] = []\n",
        "        # for each value in htr[i] that belongs to our local minimum\n",
        "        while htr[j] == buff:\n",
        "          # we append its index to our array\n",
        "          k+=1\n",
        "          local_max[w].append(ts[j])\n",
        "          j-=1\n",
        "        # we also append the previous value to our local maxima\n",
        "        # it's also an occurence based on the definition of htr\n",
        "        local_max[w].append(ts[j])\n",
        "        buff = htr[i]\n",
        "        # if there's more than alphabet_length occurences then the suffixes\n",
        "        # and prefixes can't be unique\n",
        "        if k > alphabet_length:\n",
        "          local_max.pop(w)\n",
        "        \n",
        "    \n",
        "    # local max dictionary containing all the W\n",
        "    # and their occurences\n",
        "    \n",
        "    # TODO: finish excluding the rest\n",
        "    rsm_values = {}\n",
        "    for word in local_max:\n",
        "      prefs = []\n",
        "      suffs = []\n",
        "      for idx in local_max[word]:\n",
        "        pref_index = idx -1\n",
        "        if pref_index >= 0:\n",
        "          prefs.append(text[pref_index])\n",
        "        \n",
        "        suff_index = idx + len(word)\n",
        "        if suff_index < len(text):\n",
        "          suffs.append(text[suff_index])\n",
        "      \n",
        "      if len(prefs) == len(set(prefs)) and len(suffs) == len(set(suffs)):\n",
        "        rsm_values[word] = local_max[word]\n",
        "      \n",
        "\n",
        "  return rsm_values"
      ],
      "execution_count": null,
      "outputs": []
    },
    {
      "cell_type": "code",
      "metadata": {
        "id": "IivB9V_GDQ2C"
      },
      "source": [
        "def rsm_v2(text:str, alphabet_length = 4):\n",
        "  \n",
        "  # first step, retrieve the substring w,\n",
        "  # where w is represened by a local maximain the lcp array (HTR)\n",
        "\n",
        "  # we retrieve both the suffix array\n",
        "  # and lcp array\n",
        "  ts = suffix_array(text)\n",
        "  htr = lcp_array(text,ts)\n",
        "  \n",
        "  # this is our result of local maxes\n",
        "  # each substring is the index and the value\n",
        "  # is an array of his occuring indicies\n",
        "  local_max = {}\n",
        "\n",
        "  # this is a buffer registering the length of the prefix\n",
        "  # our way to find the local minimum\n",
        "  buff = htr[0]\n",
        "\n",
        "  for i in range(len(htr)):\n",
        "\n",
        "    # if we find that the current value is larger than our buffer\n",
        "    # we assign it to our buffer\n",
        "    if htr[i] > buff:\n",
        "      buff = htr[i]\n",
        "      # a larger substring is found, we record the beggining of it's occurence\n",
        "      start = i\n",
        "\n",
        "    # in the case of equality we do nothing,\n",
        "    # however if the htr[i] is smaller, then\n",
        "    # we would have found a local maxima\n",
        "    else:\n",
        "      if htr[i] < buff:\n",
        "        # we set the end of it's occurences\n",
        "        end = i -1\n",
        "        # get it's occurences from the suffix array\n",
        "        if end - start <= 1:\n",
        "          occurences = ts[start: end +1]\n",
        "        occurences = ts[start:end]\n",
        "\n",
        "        # get the word\n",
        "        w = text[ts[end]: ts[end] + buff]\n",
        "\n",
        "        # if the number of occurences is larger than the alphabet length\n",
        "        # there is no way the suffixes and prefixes are unique, so we exclude that case\n",
        "        if len(occurences) <= alphabet_length:\n",
        "          local_max[w] = []        \n",
        "          # for each value in htr[i] that belongs to our local minimum\n",
        "          while htr[end] == buff:\n",
        "            # we append its index to our array\n",
        "            local_max[w].append(ts[end])\n",
        "            end-=1\n",
        "          # we also append the previous value to our local maxima\n",
        "          # it's also an occurence based on the definition of htr\n",
        "          local_max[w].append(ts[end])\n",
        "          buff = htr[i]\n",
        "    \n",
        "    # local max dictionary containing all the W\n",
        "    # and their occurences\n",
        "    \n",
        "    # TODO: finish excluding the rest\n",
        "    rsm_values = {}\n",
        "    for word in local_max:\n",
        "      prefs = []\n",
        "      suffs = []\n",
        "      for idx in local_max[word]:\n",
        "        pref_index = idx -1\n",
        "        if pref_index >= 0:\n",
        "          prefs.append(text[pref_index])\n",
        "        \n",
        "        suff_index = idx + len(word)\n",
        "        if suff_index < len(text):\n",
        "          suffs.append(text[suff_index])\n",
        "      \n",
        "      if len(prefs) == len(set(prefs)) and len(suffs) == len(set(suffs)):\n",
        "        rsm_values[word] = local_max[word]\n",
        "      \n",
        "\n",
        "  return rsm_values"
      ],
      "execution_count": null,
      "outputs": []
    },
    {
      "cell_type": "code",
      "metadata": {
        "colab": {
          "base_uri": "https://localhost:8080/",
          "height": 35
        },
        "id": "YYmNb8dGpm3Q",
        "outputId": "15c59f00-46d9-48d1-acf6-077511c342b1"
      },
      "source": [
        "'GATAAGATTGATG'[0+3]"
      ],
      "execution_count": null,
      "outputs": [
        {
          "output_type": "execute_result",
          "data": {
            "application/vnd.google.colaboratory.intrinsic+json": {
              "type": "string"
            },
            "text/plain": [
              "'A'"
            ]
          },
          "metadata": {
            "tags": []
          },
          "execution_count": 52
        }
      ]
    },
    {
      "cell_type": "code",
      "metadata": {
        "colab": {
          "base_uri": "https://localhost:8080/"
        },
        "id": "1rMWPkWvfzAW",
        "outputId": "66284ffc-f022-4a2f-f9e8-e39cdf3c4cb8"
      },
      "source": [
        "rsm('GATAAGATTGATG')"
      ],
      "execution_count": null,
      "outputs": [
        {
          "output_type": "execute_result",
          "data": {
            "text/plain": [
              "{'GAT': [5, 9, 0], 'TG': [8, 11]}"
            ]
          },
          "metadata": {
            "tags": []
          },
          "execution_count": 53
        }
      ]
    },
    {
      "cell_type": "code",
      "metadata": {
        "colab": {
          "base_uri": "https://localhost:8080/"
        },
        "id": "66hKnkTXE9of",
        "outputId": "79fa7d95-fb9b-4dba-82d4-4ceefaa6e927"
      },
      "source": [
        "rsm_v2('GATAAGATTGATG')"
      ],
      "execution_count": null,
      "outputs": [
        {
          "output_type": "execute_result",
          "data": {
            "text/plain": [
              "{'GAT': [5, 9, 0], 'TG': [8, 11]}"
            ]
          },
          "metadata": {
            "tags": []
          },
          "execution_count": 54
        }
      ]
    },
    {
      "cell_type": "markdown",
      "metadata": {
        "id": "qDIDYZmpA1bA"
      },
      "source": [
        "#Data Analysis\n"
      ]
    },
    {
      "cell_type": "code",
      "metadata": {
        "colab": {
          "base_uri": "https://localhost:8080/"
        },
        "id": "D9G_9N_EA04K",
        "outputId": "82389fd9-03c4-485d-e6e1-af98dd437895"
      },
      "source": [
        "# imoprting dependencies\n",
        "import pandas as pd\n",
        "import numpy as np\n",
        "\n",
        "print(pd.__version__)"
      ],
      "execution_count": null,
      "outputs": [
        {
          "output_type": "stream",
          "text": [
            "1.1.5\n"
          ],
          "name": "stdout"
        }
      ]
    },
    {
      "cell_type": "code",
      "metadata": {
        "id": "kOzXOR9fBETT"
      },
      "source": [
        "# defining the Data Shape\n",
        "needle_lengths = [4, 8, 12, 20, 30, 50]\n",
        "haystack_lengths = [1000, 2000, 6000, 10000, 20000, 60000, 80000, 100000]\n",
        "importData=False"
      ],
      "execution_count": null,
      "outputs": []
    },
    {
      "cell_type": "code",
      "metadata": {
        "id": "Emhf0JVZBU1k"
      },
      "source": [
        "# Function for generating random dna Sequences\n",
        "from random import randint\n",
        "def generate_dna(length: int):\n",
        "        ADN = ''\n",
        "        for i in range(0,length):\n",
        "            ADN+='ACGT'[randint(0,3)]\n",
        "        return ADN\n",
        "\n",
        "# Generate random dna sequences from a larger text\n",
        "def generate_from(text:str, length:int):\n",
        "  start = randint(0,len(text) - length)\n",
        "  return text[start:start+length]"
      ],
      "execution_count": null,
      "outputs": []
    },
    {
      "cell_type": "code",
      "metadata": {
        "id": "K3yoDnjmBdzc"
      },
      "source": [
        "# Generating the Haystacks\n",
        "def generate_haystacks():\n",
        "  dnaList = []\n",
        "  lengthsList = []\n",
        "  for y in haystack_lengths:\n",
        "    for i in range(15):\n",
        "      dnaList.append(generate_dna(y))\n",
        "      lengthsList.append(y)\n",
        "  return (dnaList, lengthsList)\n",
        "if not importData:\n",
        "  # haystacks = pd.Series([generate_dna(y) for y in haystack_lengths])\n",
        "  data = generate_haystacks()\n",
        "  dataset = pd.DataFrame({'haystack':data[0],'haystack_length':pd.Series(data[1],dtype=\"int32\")})\n"
      ],
      "execution_count": null,
      "outputs": []
    },
    {
      "cell_type": "code",
      "metadata": {
        "id": "7UConoBmBPwv"
      },
      "source": [
        "# indexing the haystack\n",
        "\n",
        "def generate_suffix_array(row):\n",
        "  text = row['haystack']\n",
        "  import time\n",
        "  start_naive_time = time.perf_counter_ns()\n",
        "  suff_arr = suffix_table(text)\n",
        "  end_naive_time = time.perf_counter_ns()\n",
        "\n",
        "  # start_smarter_time = time.perf_counter_ns()\n",
        "  # suffix_array(text)\n",
        "  # end_smarter_time = time.perf_counter_ns()\n",
        "\n",
        "  # return (end_naive_time - start_naive_time,\n",
        "  #         suff_arr,\n",
        "  #         end_smarter_time - start_smarter_time)\n",
        "  return (end_naive_time - start_naive_time,\n",
        "          suff_arr)\n",
        "\n",
        "# dataset[['naive_time' ,'suffix_array']] = dataset.apply(generate_suffix_array, axis=1, result_type='expand')\n",
        "\n",
        "dataset['suffix_array'] = dataset.apply(lambda row: suffix_table(row['haystack']), axis=1)\n",
        "\n",
        "# import multiprocessing as mp\n",
        "\n",
        "# with mp.Pool(mp.cpu_count()) as pool:\n",
        "#     dataset['suffix_array'] = pool.map(suffix_table, dataset['haystack'])"
      ],
      "execution_count": null,
      "outputs": []
    },
    {
      "cell_type": "code",
      "metadata": {
        "id": "UIjabKuk3ykd",
        "colab": {
          "base_uri": "https://localhost:8080/"
        },
        "outputId": "ce5463db-e716-480a-d225-a0627edaedad"
      },
      "source": [
        "dataset['suffix_array'].head()\n"
      ],
      "execution_count": null,
      "outputs": [
        {
          "output_type": "execute_result",
          "data": {
            "text/plain": [
              "0    [296, 111, 688, 484, 385, 222, 297, 989, 355, ...\n",
              "1    [927, 480, 575, 928, 484, 198, 589, 850, 481, ...\n",
              "2    [999, 276, 894, 277, 281, 370, 451, 438, 895, ...\n",
              "3    [970, 483, 522, 557, 102, 179, 971, 675, 484, ...\n",
              "4    [685, 744, 158, 360, 686, 626, 590, 884, 1, 77...\n",
              "Name: suffix_array, dtype: object"
            ]
          },
          "metadata": {
            "tags": []
          },
          "execution_count": 60
        }
      ]
    },
    {
      "cell_type": "code",
      "metadata": {
        "id": "OX8fiVt-wQKH",
        "colab": {
          "base_uri": "https://localhost:8080/",
          "height": 203
        },
        "outputId": "8f879eaa-9f92-45ae-ba8b-893e7068c924"
      },
      "source": [
        "# dataset[[ 'haystack_length', 'naive_time' ,'suffix_array']].head()\n",
        "dataset[['haystack', 'suffix_array']].head()"
      ],
      "execution_count": null,
      "outputs": [
        {
          "output_type": "execute_result",
          "data": {
            "text/html": [
              "<div>\n",
              "<style scoped>\n",
              "    .dataframe tbody tr th:only-of-type {\n",
              "        vertical-align: middle;\n",
              "    }\n",
              "\n",
              "    .dataframe tbody tr th {\n",
              "        vertical-align: top;\n",
              "    }\n",
              "\n",
              "    .dataframe thead th {\n",
              "        text-align: right;\n",
              "    }\n",
              "</style>\n",
              "<table border=\"1\" class=\"dataframe\">\n",
              "  <thead>\n",
              "    <tr style=\"text-align: right;\">\n",
              "      <th></th>\n",
              "      <th>haystack</th>\n",
              "      <th>suffix_array</th>\n",
              "    </tr>\n",
              "  </thead>\n",
              "  <tbody>\n",
              "    <tr>\n",
              "      <th>0</th>\n",
              "      <td>GTTTGATATTATCGACGAATTTGCAGTATGTAAGCTCCGCGCGCGC...</td>\n",
              "      <td>[296, 111, 688, 484, 385, 222, 297, 989, 355, ...</td>\n",
              "    </tr>\n",
              "    <tr>\n",
              "      <th>1</th>\n",
              "      <td>GCCTAGTAACTGCGGTGTTGCGACCCTCACGTGTCGGGGAGATCCA...</td>\n",
              "      <td>[927, 480, 575, 928, 484, 198, 589, 850, 481, ...</td>\n",
              "    </tr>\n",
              "    <tr>\n",
              "      <th>2</th>\n",
              "      <td>CACTCATTGCTATATGAACTCTAAGACGTTCTCACTGGAGGATTAT...</td>\n",
              "      <td>[999, 276, 894, 277, 281, 370, 451, 438, 895, ...</td>\n",
              "    </tr>\n",
              "    <tr>\n",
              "      <th>3</th>\n",
              "      <td>GGTCAGCCAAGAGCTTAACCCCTTTACATGCTGCAGATGGCAGACA...</td>\n",
              "      <td>[970, 483, 522, 557, 102, 179, 971, 675, 484, ...</td>\n",
              "    </tr>\n",
              "    <tr>\n",
              "      <th>4</th>\n",
              "      <td>CAAAGCTCACAAATTTTATACGGATGCTATCGGCTAGTATGTACGA...</td>\n",
              "      <td>[685, 744, 158, 360, 686, 626, 590, 884, 1, 77...</td>\n",
              "    </tr>\n",
              "  </tbody>\n",
              "</table>\n",
              "</div>"
            ],
            "text/plain": [
              "                                            haystack                                       suffix_array\n",
              "0  GTTTGATATTATCGACGAATTTGCAGTATGTAAGCTCCGCGCGCGC...  [296, 111, 688, 484, 385, 222, 297, 989, 355, ...\n",
              "1  GCCTAGTAACTGCGGTGTTGCGACCCTCACGTGTCGGGGAGATCCA...  [927, 480, 575, 928, 484, 198, 589, 850, 481, ...\n",
              "2  CACTCATTGCTATATGAACTCTAAGACGTTCTCACTGGAGGATTAT...  [999, 276, 894, 277, 281, 370, 451, 438, 895, ...\n",
              "3  GGTCAGCCAAGAGCTTAACCCCTTTACATGCTGCAGATGGCAGACA...  [970, 483, 522, 557, 102, 179, 971, 675, 484, ...\n",
              "4  CAAAGCTCACAAATTTTATACGGATGCTATCGGCTAGTATGTACGA...  [685, 744, 158, 360, 686, 626, 590, 884, 1, 77..."
            ]
          },
          "metadata": {
            "tags": []
          },
          "execution_count": 61
        }
      ]
    },
    {
      "cell_type": "code",
      "metadata": {
        "id": "NliCY5gCAsOw"
      },
      "source": [
        "# generating the needles\n",
        "if not importData:\n",
        "  dataset['needle'] = dataset.apply(lambda row: [generate_from(row['haystack'], length) for length in needle_lengths], axis=1)"
      ],
      "execution_count": null,
      "outputs": []
    },
    {
      "cell_type": "code",
      "metadata": {
        "id": "gEA8oA9AdpgN"
      },
      "source": [
        "dataset = dataset.explode('needle')"
      ],
      "execution_count": null,
      "outputs": []
    },
    {
      "cell_type": "code",
      "metadata": {
        "id": "3jvgiatBCIXd"
      },
      "source": [
        "dataset['needle_length'] = dataset.apply(lambda row: len(row['needle']),axis=1).astype('int16')"
      ],
      "execution_count": null,
      "outputs": []
    },
    {
      "cell_type": "code",
      "metadata": {
        "id": "MynvHUz6PeQp"
      },
      "source": [
        "# dropping the haystack column after indexing it\n",
        "# dataset = dataset.drop('haystack',axis= 1)"
      ],
      "execution_count": null,
      "outputs": []
    },
    {
      "cell_type": "code",
      "metadata": {
        "id": "-kO9JbLBAuVB",
        "colab": {
          "base_uri": "https://localhost:8080/"
        },
        "outputId": "1d38ac9f-9398-489c-8c38-02c85cb7491f"
      },
      "source": [
        "dataset['haystack_length'].unique()"
      ],
      "execution_count": null,
      "outputs": [
        {
          "output_type": "execute_result",
          "data": {
            "text/plain": [
              "array([  1000,   2000,   6000,  10000,  20000,  60000,  80000, 100000],\n",
              "      dtype=int32)"
            ]
          },
          "metadata": {
            "tags": []
          },
          "execution_count": 65
        }
      ]
    },
    {
      "cell_type": "code",
      "metadata": {
        "id": "0NvkGrjdBPwv"
      },
      "source": [
        "# testing the suffix array search\n",
        "\n",
        "def search_time(row):\n",
        "    \n",
        "    needle = row['needle']\n",
        "    haystack = row['haystack']\n",
        "    suff_arr = row['suffix_array']\n",
        "    \n",
        "    import time\n",
        "    startTime = time.perf_counter_ns()\n",
        "    search_with_suffix(haystack, needle, suff_arr)\n",
        "    endTime = time.perf_counter_ns()\n",
        "    return endTime - startTime"
      ],
      "execution_count": null,
      "outputs": []
    },
    {
      "cell_type": "code",
      "metadata": {
        "id": "UYDeEGRNBPwv"
      },
      "source": [
        "# dataset['time_suffix_search'] = \n",
        "\n",
        "# dataset.assign(**testing_suffix_array_search())\n",
        "needle_row_names = [f'needle_{x}' for x in needle_lengths]\n",
        "\n",
        "dataset['search_time'] = dataset.apply(lambda row: search_time(row), axis=1).astype('int32')"
      ],
      "execution_count": null,
      "outputs": []
    },
    {
      "cell_type": "code",
      "metadata": {
        "id": "4zlnMtYkBPww",
        "colab": {
          "base_uri": "https://localhost:8080/",
          "height": 475
        },
        "outputId": "85ccb66f-60b4-4aea-fede-780cff48401b"
      },
      "source": [
        "dataset.head()"
      ],
      "execution_count": null,
      "outputs": [
        {
          "output_type": "execute_result",
          "data": {
            "text/html": [
              "<div>\n",
              "<style scoped>\n",
              "    .dataframe tbody tr th:only-of-type {\n",
              "        vertical-align: middle;\n",
              "    }\n",
              "\n",
              "    .dataframe tbody tr th {\n",
              "        vertical-align: top;\n",
              "    }\n",
              "\n",
              "    .dataframe thead th {\n",
              "        text-align: right;\n",
              "    }\n",
              "</style>\n",
              "<table border=\"1\" class=\"dataframe\">\n",
              "  <thead>\n",
              "    <tr style=\"text-align: right;\">\n",
              "      <th></th>\n",
              "      <th>haystack</th>\n",
              "      <th>haystack_length</th>\n",
              "      <th>suffix_array</th>\n",
              "      <th>needle</th>\n",
              "      <th>needle_length</th>\n",
              "      <th>search_time</th>\n",
              "    </tr>\n",
              "  </thead>\n",
              "  <tbody>\n",
              "    <tr>\n",
              "      <th>0</th>\n",
              "      <td>GTTTGATATTATCGACGAATTTGCAGTATGTAAGCTCCGCGCGCGC...</td>\n",
              "      <td>1000</td>\n",
              "      <td>[296, 111, 688, 484, 385, 222, 297, 989, 355, ...</td>\n",
              "      <td>TCTG</td>\n",
              "      <td>4</td>\n",
              "      <td>50497</td>\n",
              "    </tr>\n",
              "    <tr>\n",
              "      <th>0</th>\n",
              "      <td>GTTTGATATTATCGACGAATTTGCAGTATGTAAGCTCCGCGCGCGC...</td>\n",
              "      <td>1000</td>\n",
              "      <td>[296, 111, 688, 484, 385, 222, 297, 989, 355, ...</td>\n",
              "      <td>GTGGGTGT</td>\n",
              "      <td>8</td>\n",
              "      <td>37360</td>\n",
              "    </tr>\n",
              "    <tr>\n",
              "      <th>0</th>\n",
              "      <td>GTTTGATATTATCGACGAATTTGCAGTATGTAAGCTCCGCGCGCGC...</td>\n",
              "      <td>1000</td>\n",
              "      <td>[296, 111, 688, 484, 385, 222, 297, 989, 355, ...</td>\n",
              "      <td>CGGTCAGACAGA</td>\n",
              "      <td>12</td>\n",
              "      <td>25828</td>\n",
              "    </tr>\n",
              "    <tr>\n",
              "      <th>0</th>\n",
              "      <td>GTTTGATATTATCGACGAATTTGCAGTATGTAAGCTCCGCGCGCGC...</td>\n",
              "      <td>1000</td>\n",
              "      <td>[296, 111, 688, 484, 385, 222, 297, 989, 355, ...</td>\n",
              "      <td>ACTACAACCGCTACTATGTA</td>\n",
              "      <td>20</td>\n",
              "      <td>26926</td>\n",
              "    </tr>\n",
              "    <tr>\n",
              "      <th>0</th>\n",
              "      <td>GTTTGATATTATCGACGAATTTGCAGTATGTAAGCTCCGCGCGCGC...</td>\n",
              "      <td>1000</td>\n",
              "      <td>[296, 111, 688, 484, 385, 222, 297, 989, 355, ...</td>\n",
              "      <td>AAATTACCTGTACGGTCAGACAGATGTTGT</td>\n",
              "      <td>30</td>\n",
              "      <td>27127</td>\n",
              "    </tr>\n",
              "  </tbody>\n",
              "</table>\n",
              "</div>"
            ],
            "text/plain": [
              "                                            haystack  ...  search_time\n",
              "0  GTTTGATATTATCGACGAATTTGCAGTATGTAAGCTCCGCGCGCGC...  ...        50497\n",
              "0  GTTTGATATTATCGACGAATTTGCAGTATGTAAGCTCCGCGCGCGC...  ...        37360\n",
              "0  GTTTGATATTATCGACGAATTTGCAGTATGTAAGCTCCGCGCGCGC...  ...        25828\n",
              "0  GTTTGATATTATCGACGAATTTGCAGTATGTAAGCTCCGCGCGCGC...  ...        26926\n",
              "0  GTTTGATATTATCGACGAATTTGCAGTATGTAAGCTCCGCGCGCGC...  ...        27127\n",
              "\n",
              "[5 rows x 6 columns]"
            ]
          },
          "metadata": {
            "tags": []
          },
          "execution_count": 68
        }
      ]
    },
    {
      "cell_type": "markdown",
      "metadata": {
        "id": "TQARSzcNXM2y"
      },
      "source": [
        "##Data Visualization"
      ]
    },
    {
      "cell_type": "markdown",
      "metadata": {
        "id": "Qf7-vuHDY9Rd"
      },
      "source": [
        "### Suffix array Construction"
      ]
    },
    {
      "cell_type": "code",
      "metadata": {
        "id": "TA0eMpcXXPBP"
      },
      "source": [
        "# Plotting the Execution Time of the four algorithms\n",
        "\n",
        "import matplotlib.pyplot as plt\n",
        "from matplotlib.pyplot import figure\n",
        "\n",
        "figure(figsize=(8, 6), dpi=80)\n",
        "\n",
        "plt.scatter(dataset['haystack_length'],dataset['smarter_time'],label='Approche Efficace')\n",
        "plt.scatter(dataset['haystack_length'],dataset['naive_time'],label='Approche Naîve')\n",
        "\n",
        "motifs = ','.join([str(n) for n in needle_lengths])\n",
        "\n",
        "plt.title(f'Suffix array construction time ')\n",
        "# Set the y axis label of the current axis.\n",
        "plt.xlabel('Taille du Texte')\n",
        "plt.ylabel('Temps d\\'éxécution')\n",
        "# show a legend on the plot\n",
        "plt.legend()\n",
        "\n",
        "fig1 = plt.gcf()\n",
        "# Display a figure.\n",
        "plt.show()\n",
        "fig1.savefig(f'Graph.png')"
      ],
      "execution_count": null,
      "outputs": []
    },
    {
      "cell_type": "markdown",
      "metadata": {
        "id": "mm18rXlkZCT_"
      },
      "source": [
        "### Search performance"
      ]
    },
    {
      "cell_type": "code",
      "metadata": {
        "id": "PyW6YKwmFoJD"
      },
      "source": [
        "dataset.groupby('haystack_length').mean()"
      ],
      "execution_count": null,
      "outputs": []
    },
    {
      "cell_type": "code",
      "metadata": {
        "colab": {
          "base_uri": "https://localhost:8080/",
          "height": 444
        },
        "id": "X4PD8Ky5BdvR",
        "outputId": "876a86da-91e9-4620-fb51-9a3aabc3aecb"
      },
      "source": [
        "# Plotting the Execution Time of the four algorithms\n",
        "\n",
        "import matplotlib.pyplot as plt\n",
        "from matplotlib.pyplot import figure\n",
        "\n",
        "figure(figsize=(8, 6), dpi=80)\n",
        "\n",
        "for haysize in dataset['haystack_length'].unique():\n",
        "  size_data = dataset[dataset.haystack_length == haysize]\n",
        "  # plt.scatter(size_data['needle_length'],size_data['search_time'],label=f'Taille {haysize}')\n",
        "  plt.plot(size_data['needle_length'].unique(),size_data.groupby('needle_length').mean()['search_time'],label=f'Taille {haysize}')\n",
        "# plt.plot(dataset['haystack_length'],dataset['naive_time'],label='Approche Naîve')\n",
        "\n",
        "# motifs = ','.join([str(n) for n in needle_lengths])\n",
        "\n",
        "plt.title(f'Test de temps d\\'execution avec 15 échantillons ')\n",
        "# Set the y axis label of the current axis.\n",
        "plt.xlabel('Taille du Motif')\n",
        "plt.ylabel('Temps d\\'éxécution')\n",
        "# show a legend on the plot\n",
        "plt.legend()\n",
        "\n",
        "fig1 = plt.gcf()\n",
        "# Display a figure.\n",
        "plt.show()\n",
        "fig1.savefig(f'Graph.png')"
      ],
      "execution_count": null,
      "outputs": [
        {
          "output_type": "display_data",
          "data": {
            "image/png": "[encoded data removed]",
            "text/plain": [
              "<Figure size 640x480 with 1 Axes>"
            ]
          },
          "metadata": {
            "tags": [],
            "needs_background": "light"
          }
        }
      ]
    },
    {
      "cell_type": "code",
      "metadata": {
        "colab": {
          "base_uri": "https://localhost:8080/",
          "height": 17
        },
        "id": "ZUTE3T5GD98V",
        "outputId": "15c2324c-0c6a-401d-c35b-c5c1ef3820ad"
      },
      "source": [
        "from google.colab import files\n",
        "files.download('Graph.png')"
      ],
      "execution_count": null,
      "outputs": [
        {
          "output_type": "display_data",
          "data": {
            "application/javascript": [
              "\n",
              "    async function download(id, filename, size) {\n",
              "      if (!google.colab.kernel.accessAllowed) {\n",
              "        return;\n",
              "      }\n",
              "      const div = document.createElement('div');\n",
              "      const label = document.createElement('label');\n",
              "      label.textContent = `Downloading \"${filename}\": `;\n",
              "      div.appendChild(label);\n",
              "      const progress = document.createElement('progress');\n",
              "      progress.max = size;\n",
              "      div.appendChild(progress);\n",
              "      document.body.appendChild(div);\n",
              "\n",
              "      const buffers = [];\n",
              "      let downloaded = 0;\n",
              "\n",
              "      const channel = await google.colab.kernel.comms.open(id);\n",
              "      // Send a message to notify the kernel that we're ready.\n",
              "      channel.send({})\n",
              "\n",
              "      for await (const message of channel.messages) {\n",
              "        // Send a message to notify the kernel that we're ready.\n",
              "        channel.send({})\n",
              "        if (message.buffers) {\n",
              "          for (const buffer of message.buffers) {\n",
              "            buffers.push(buffer);\n",
              "            downloaded += buffer.byteLength;\n",
              "            progress.value = downloaded;\n",
              "          }\n",
              "        }\n",
              "      }\n",
              "      const blob = new Blob(buffers, {type: 'application/binary'});\n",
              "      const a = document.createElement('a');\n",
              "      a.href = window.URL.createObjectURL(blob);\n",
              "      a.download = filename;\n",
              "      div.appendChild(a);\n",
              "      a.click();\n",
              "      div.remove();\n",
              "    }\n",
              "  "
            ],
            "text/plain": [
              "<IPython.core.display.Javascript object>"
            ]
          },
          "metadata": {
            "tags": []
          }
        },
        {
          "output_type": "display_data",
          "data": {
            "application/javascript": [
              "download(\"download_4b640309-18fd-46d9-b992-cef8f257a433\", \"Graph.png\", 37602)"
            ],
            "text/plain": [
              "<IPython.core.display.Javascript object>"
            ]
          },
          "metadata": {
            "tags": []
          }
        }
      ]
    }
  ]
}