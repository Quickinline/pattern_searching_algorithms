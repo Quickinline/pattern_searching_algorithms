{
  "nbformat": 4,
  "nbformat_minor": 0,
  "metadata": {
    "colab": {
      "name": "TP2BioAlgo.ipynb",
      "provenance": [],
      "collapsed_sections": [],
      "toc_visible": true
    },
    "kernelspec": {
      "display_name": "Python 3",
      "name": "python3"
    },
    "language_info": {
      "name": "python"
    }
  },
  "cells": [
    {
      "cell_type": "markdown",
      "metadata": {
        "id": "OjTcY0Wgh6o7"
      },
      "source": [
        "# Aho Corasik\n",
        "\n",
        "## prefixes de M"
      ]
    },
    {
      "cell_type": "code",
      "metadata": {
        "id": "4p7Pk_tQh06k"
      },
      "source": [
        "# def prefm(M:list):\n",
        "#   output = []\n",
        "#   for word in M:\n",
        "#     for i in range(1,len(word)):\n",
        "#       output.append(word[:i])\n",
        "#   return output\n"
      ],
      "execution_count": null,
      "outputs": []
    },
    {
      "cell_type": "markdown",
      "metadata": {
        "id": "K6ZLPgUsh0BF"
      },
      "source": [
        "##Table des  préfixes"
      ]
    },
    {
      "cell_type": "code",
      "metadata": {
        "id": "x5GZkwmFDl-Q"
      },
      "source": [
        "from typing import List\n",
        "def prefm(M:List[str]):\n",
        "  output = []\n",
        "  for word in M:\n",
        "    for i in range(1,len(word)+1):\n",
        "      if word[:i] not in output:\n",
        "        output.append(word[:i])\n",
        "  output.sort(key=lambda x : len(x))\n",
        "  return output\n"
      ],
      "execution_count": null,
      "outputs": []
    },
    {
      "cell_type": "code",
      "metadata": {
        "colab": {
          "base_uri": "https://localhost:8080/"
        },
        "id": "g8orKEzsS8wQ",
        "outputId": "0209a011-4b38-4343-995d-f94cbc96d854"
      },
      "source": [
        "thing = prefm(['at','tatt','tt'])\n",
        "#thing.sort(key=lambda x : len(x))\n",
        "print(thing)"
      ],
      "execution_count": null,
      "outputs": [
        {
          "output_type": "stream",
          "text": [
            "['a', 't', 'at', 'ta', 'tt', 'tat', 'tatt']\n"
          ],
          "name": "stdout"
        }
      ]
    },
    {
      "cell_type": "markdown",
      "metadata": {
        "id": "zViDDz5dhppp"
      },
      "source": [
        "##fonction de suppliance"
      ]
    },
    {
      "cell_type": "code",
      "metadata": {
        "id": "PvE0L4u3Vp74"
      },
      "source": [
        "from typing import List\n",
        "\n",
        "def echec (prefixes:List[str]):\n",
        "  suppliance = {}\n",
        "  for prefix in prefixes:\n",
        "    for i in range(1,len(prefix)):\n",
        "      suffix = prefix[i:]\n",
        "      if suffix in prefixes:\n",
        "        suppliance[prefix]=suffix\n",
        "        break\n",
        "    if suppliance.get(prefix) is None:\n",
        "      suppliance[prefix]=''\n",
        "  # suppliance = \n",
        "  return suppliance\n",
        "\n"
      ],
      "execution_count": null,
      "outputs": []
    },
    {
      "cell_type": "code",
      "metadata": {
        "colab": {
          "base_uri": "https://localhost:8080/"
        },
        "id": "AcAyNy0HTRW8",
        "outputId": "9486648b-7a7f-47ca-d0f8-8285f0cb1cf8"
      },
      "source": [
        "echec(prefm(['at','tatt','tt']))"
      ],
      "execution_count": null,
      "outputs": [
        {
          "output_type": "execute_result",
          "data": {
            "text/plain": [
              "{'a': '', 'at': 't', 't': '', 'ta': 'a', 'tat': 'at', 'tatt': 'tt', 'tt': 't'}"
            ]
          },
          "metadata": {
            "tags": []
          },
          "execution_count": 4
        }
      ]
    },
    {
      "cell_type": "markdown",
      "metadata": {
        "id": "uvp_Hkbsh-YI"
      },
      "source": [
        "##Table de sortie"
      ]
    },
    {
      "cell_type": "code",
      "metadata": {
        "id": "JkNaUW0IiDTL"
      },
      "source": [
        "from typing import List\n",
        "\n",
        "def sortie(prefixes:List[str], words:List[str]):\n",
        "  # output dictionary initilization\n",
        "  output={}\n",
        "  # for each prefix in the prefixes table (list)\n",
        "  for prefix in prefixes:\n",
        "    # we initialize the output of the prefix as empty\n",
        "    output[prefix] = []\n",
        "    # foreach suffix of the current prefix\n",
        "    for i in range(len(prefix)):\n",
        "      suffix = prefix[i:]\n",
        "      # if the suffix belongs to the final words, we append it\n",
        "      if suffix in words:\n",
        "        output[prefix].append(suffix)\n",
        "  \n",
        "  return output\n"
      ],
      "execution_count": null,
      "outputs": []
    },
    {
      "cell_type": "code",
      "metadata": {
        "colab": {
          "base_uri": "https://localhost:8080/"
        },
        "id": "xbPEDsYM7mzv",
        "outputId": "25eefa2d-8977-4cc5-8600-8c40b1e16c9c"
      },
      "source": [
        "# course example output\n",
        "sortie(prefm(['at','tatt','tt']),['at','tatt','tt'])"
      ],
      "execution_count": null,
      "outputs": [
        {
          "output_type": "execute_result",
          "data": {
            "text/plain": [
              "{'a': [],\n",
              " 'at': ['at'],\n",
              " 't': [],\n",
              " 'ta': [],\n",
              " 'tat': ['at'],\n",
              " 'tatt': ['tatt', 'tt'],\n",
              " 'tt': ['tt']}"
            ]
          },
          "metadata": {
            "tags": []
          },
          "execution_count": 6
        }
      ]
    },
    {
      "cell_type": "markdown",
      "metadata": {
        "id": "YB0EmoEAioW4"
      },
      "source": [
        "##Automate"
      ]
    },
    {
      "cell_type": "markdown",
      "metadata": {
        "id": "UPUtZhBbDteN"
      },
      "source": [
        "###Noeud"
      ]
    },
    {
      "cell_type": "code",
      "metadata": {
        "id": "tQCE_fe5YUlz"
      },
      "source": [
        "from typing import Dict\n",
        "\n",
        "class Noeud():\n",
        "  def __init__(self,name = '',nexts = {}, final=False):\n",
        "    self.name = name\n",
        "    self.nexts = nexts\n",
        "    self.final = final\n",
        "\n",
        "  def next(self, char):\n",
        "    if self.nexts.get(char) is not None:\n",
        "      return self.nexts.get(char)\n",
        "    else:\n",
        "      return None\n",
        "  \n",
        "  def __str__(self):\n",
        "    return self.name\n",
        "  \n",
        "  @property\n",
        "  def transitions(self):\n",
        "    return [*self.nexts.keys]\n",
        "\n",
        "  def addNext(self,char,final=False):\n",
        "    if self.nexts.get(char) is not None:\n",
        "      raise Exception(\"Char path Node already exists\")\n",
        "    else:\n",
        "      successor = Noeud(self.name+ char, {}, final)\n",
        "      self.nexts[char] = successor\n",
        "      return successor\n",
        "  \n",
        "  def setNext(self, char:str, next):\n",
        "    self.nexts[char] = next\n"
      ],
      "execution_count": null,
      "outputs": []
    },
    {
      "cell_type": "markdown",
      "metadata": {
        "id": "YwhfU0dWD1UY"
      },
      "source": [
        "###Arbre"
      ]
    },
    {
      "cell_type": "code",
      "metadata": {
        "id": "4aB3pndvDreh"
      },
      "source": [
        "\n",
        "class Arbre():\n",
        "  def __init__(self, root:Noeud):\n",
        "    self.root = root\n",
        "    self.nodes = {'':root}\n",
        "    self.cursor = root\n",
        "    self.words = []\n",
        "  \n",
        "  def addWord(self, word:str):\n",
        "    # initalize the cursor to the root node\n",
        "    self.words.append(word)\n",
        "    self.cursor = self.root\n",
        "\n",
        "    for i in range(len(word)):\n",
        "      letter = word[i]\n",
        "      final = False\n",
        "      # si c'est le dernier caractère, le noeud est final\n",
        "      if i == len(word) - 1:\n",
        "        final = True\n",
        "      # si le cursor n'a pas de successeur\n",
        "      if self.cursor.next(letter) is None:\n",
        "        self.cursor = self.cursor.addNext(letter, final)\n",
        "        self.nodes[self.cursor.name] = self.cursor\n",
        "      else:\n",
        "        self.cursor =self.cursor.next(letter)\n",
        "\n",
        "    self.cursor = self.root\n",
        "    # self.optimizeRoutes()\n",
        "  \n",
        "  def setWords(self, words):\n",
        "    for word in words:\n",
        "      self.addWord(word)\n",
        "    \n",
        "    self.prefixes = prefm(self.words)\n",
        "    self.supliance = echec(self.prefixes)\n",
        "    self.tableSortie = sortie(self.prefixes, self.words)\n",
        "    self.optimizeRoutes()\n",
        "  \n",
        "\n",
        "  def __str__(self):\n",
        "    return str(self.root)\n",
        "  \n",
        "  def search(self,text:str):\n",
        "    self.cursor = self.root\n",
        "    indicies = {}\n",
        "    i=0\n",
        "    while i < len(text):\n",
        "      letter = text[i]\n",
        "      if self.cursor.next(letter) is None:\n",
        "        # cas non trouvé\n",
        "        if self.cursor.next('') is not None:\n",
        "          # si une transition vide existe, on transitionnne\n",
        "          self.cursor = self.cursor.next('')\n",
        "        else:\n",
        "          # dans le cas contraire on avance dans le texte\n",
        "          # on sait qu'on revient à root\n",
        "          i+=1\n",
        "      else:\n",
        "        # cas trouvé\n",
        "        self.cursor = self.cursor.next(letter)\n",
        "        i+=1\n",
        "      \n",
        "      if self.cursor.final:\n",
        "        foundWords = self.tableSortie[self.cursor.name]\n",
        "        for foundWord in foundWords:\n",
        "          index = i - len(foundWord) + 1\n",
        "          if indicies.get(foundWord) is None:\n",
        "            indicies[foundWord] = [index]\n",
        "          else:\n",
        "            if index not in indicies[foundWord]:\n",
        "              indicies[foundWord].append(index)\n",
        "\n",
        "    return indicies\n",
        "\n",
        "\n",
        "\n",
        "  def optimizeRoutes(self):\n",
        "    prefixes = self.prefixes\n",
        "    supliance = self.supliance\n",
        "    # self.tableSortie = self.tableSortie\n",
        "\n",
        "    for prefix in supliance:\n",
        "      try:\n",
        "        self.nodes[prefix].setNext(\n",
        "            '',\n",
        "            self.nodes[supliance[prefix]]\n",
        "            )\n",
        "      except:\n",
        "        print(self.nodes)\n",
        "        print(prefix)\n",
        "        import sys\n",
        "        sys.exit(\"Error message\")\n",
        "    \n",
        "    for item in self.tableSortie:\n",
        "      if self.tableSortie[item] != []:\n",
        "        try:\n",
        "          self.nodes[item].final = True\n",
        "        except:\n",
        "          print(str(self.tableSortie))\n",
        "\n",
        "\n",
        "  def print(self):\n",
        "    import networkx as nx\n",
        "    DG = nx.DiGraph()\n",
        "    for node in self.nodes:\n",
        "      DG.add_node(node)\n",
        "    \n",
        "    for node in self.nodes:\n",
        "      for edge in self.nodes[node].nexts:\n",
        "        end = self.nodes[node].nexts[edge]\n",
        "        DG.add_edge(node,end.name)\n",
        "    \n",
        "    nx.draw(DG, with_labels=True)\n",
        "\n",
        "\n",
        "  def readChar(self, char:str):\n",
        "    return self.cursor.next(char)\n",
        "  \n"
      ],
      "execution_count": null,
      "outputs": []
    },
    {
      "cell_type": "code",
      "metadata": {
        "id": "DYaiwWPkvgFf"
      },
      "source": [
        "def draw_graph(tree:Arbre):\n",
        "  import networkx as nx\n",
        "  import matplotlib.pyplot as plt\n",
        "  # import pydot\n",
        "  # from networkx.drawing.nx_pydot import graphviz_layout\n",
        "  G = nx.DiGraph()\n",
        "\n",
        "  plt.figure(figsize=(10, 5))\n",
        "\n",
        "\n",
        "  end = 'red'\n",
        "  root = 'green'\n",
        "  normal = 'blue'\n",
        "\n",
        "  labels = {}\n",
        "\n",
        "  nodeList = []\n",
        "  color_map = []\n",
        "\n",
        "  # fill nodeList and color_map\n",
        "  for prefix in tree.nodes:\n",
        "    node = tree.nodes[prefix]\n",
        "    nodeList.append(prefix)\n",
        "    if prefix == '':\n",
        "      color_map.append(root)\n",
        "    else:\n",
        "      if node.final:\n",
        "        color_map.append(end)\n",
        "      else:\n",
        "        color_map.append(normal)\n",
        "  \n",
        "  G.add_nodes_from(nodeList)\n",
        "\n",
        "  # specify edges\n",
        "  for prefix in tree.nodes:\n",
        "    node = tree.nodes[prefix]\n",
        "    for transition in node.nexts:\n",
        "      if transition == '':\n",
        "        G.add_edge(node.name, node.next('').name, color='red')\n",
        "      else:\n",
        "        G.add_edge(node.name, node.next(transition).name, color='black')\n",
        "        labels[(node.name, node.next(transition).name)]= transition\n",
        "  \n",
        "  #  getting the color for edges and puting them into  a list\n",
        "  colors = nx.get_edge_attributes(G, 'color').values()\n",
        "\n",
        "  # tebe3t yacine\n",
        "  pos = nx.kamada_kawai_layout(G)\n",
        "\n",
        "  nx.draw_networkx_edge_labels(\n",
        "        G, pos, edge_labels=labels, font_size=15)\n",
        "\n",
        "  nx.draw_networkx(G, pos, edge_color=colors,\n",
        "                     connectionstyle=\"arc3,rad=0.2\")  \n",
        "\n",
        "  # to change noud color\n",
        "  print(\"color_map length\" + str(len(color_map)))\n",
        "  print(\"tree.nodes length\" + str(len(tree.nodes)))\n",
        "  print(G.nodes)\n",
        "  nx.draw_networkx_nodes(G, pos, node_color=color_map, node_size=500)\n",
        "  # just to chnage noud lables color\n",
        "  nx.draw_networkx_labels(G, pos, font_color='#000')\n",
        "  plt.show()\n",
        "    "
      ],
      "execution_count": null,
      "outputs": []
    },
    {
      "cell_type": "markdown",
      "metadata": {
        "id": "AKFMKSamS9g5"
      },
      "source": [
        "###Test\n"
      ]
    },
    {
      "cell_type": "markdown",
      "metadata": {
        "id": "xF8eddrETOoS"
      },
      "source": [
        "####Exemple du Cours"
      ]
    },
    {
      "cell_type": "code",
      "metadata": {
        "colab": {
          "base_uri": "https://localhost:8080/",
          "height": 354
        },
        "id": "1cVo7Ty0HaPf",
        "outputId": "4d4cfc19-0f7b-4261-a694-5b6d3d0f8cec"
      },
      "source": [
        "\n",
        "arbre = Arbre(Noeud('',{}))\n",
        "arbre.setWords(['at','tt','tatt'])\n",
        "# arbre.addWord('at')\n",
        "# arbre.addWord('tt')\n",
        "# arbre.addWord('tatt')\n",
        "draw_graph(arbre)\n",
        "# arbre.search('tatattaatt')"
      ],
      "execution_count": null,
      "outputs": [
        {
          "output_type": "stream",
          "text": [
            "color_map length8\n",
            "tree.nodes length8\n",
            "['', 'a', 'at', 't', 'tt', 'ta', 'tat', 'tatt']\n"
          ],
          "name": "stdout"
        },
        {
          "output_type": "display_data",
          "data": {
            "image/png": "[encoded data removed]",
            "text/plain": [
              "<Figure size 720x360 with 1 Axes>"
            ]
          },
          "metadata": {
            "tags": []
          }
        }
      ]
    },
    {
      "cell_type": "code",
      "metadata": {
        "colab": {
          "base_uri": "https://localhost:8080/"
        },
        "id": "SCk_oU3mTSw_",
        "outputId": "008c0eea-e600-43a2-c9f8-0ca0cbfb47ff"
      },
      "source": [
        "\n",
        "arbre = Arbre(Noeud('',{}))\n",
        "# arbre.addWord('aac')\n",
        "# arbre.addWord('agt')\n",
        "# arbre.addWord('gta')\n",
        "arbre.setWords(['aac','agt','gta'])\n",
        "\n",
        "arbre.search('cagtaaccgta')"
      ],
      "execution_count": null,
      "outputs": [
        {
          "output_type": "execute_result",
          "data": {
            "text/plain": [
              "{'aac': [5], 'agt': [2], 'gta': [3, 9]}"
            ]
          },
          "metadata": {
            "tags": []
          },
          "execution_count": 13
        }
      ]
    },
    {
      "cell_type": "markdown",
      "metadata": {
        "id": "hpX82Y0e6CyZ"
      },
      "source": [
        "#Knuth Moris Pratt"
      ]
    },
    {
      "cell_type": "markdown",
      "metadata": {
        "id": "5-5i6aQO6UPv"
      },
      "source": [
        "##Borders"
      ]
    },
    {
      "cell_type": "code",
      "metadata": {
        "id": "kpg-qLP_6IZr",
        "colab": {
          "base_uri": "https://localhost:8080/"
        },
        "outputId": "863bf9e8-0ef2-4eb0-d5ca-263cdf4fc8e9"
      },
      "source": [
        "def knuthBorders(pattern:str):\n",
        "  # initializations\n",
        "  m = len(pattern) # initialize the length\n",
        "  output = [0 for x in range(m+1)] # initialize the output list\n",
        "  output[0] = -1\n",
        "  i = -1\n",
        "  # for each character in the pattern\n",
        "  for j in range(m):\n",
        "    while i >=0 and pattern[i] != pattern[j]:\n",
        "      i = output[i]\n",
        "    i+=1\n",
        "    if j == m-1:\n",
        "      output[j+1] = i\n",
        "    else:\n",
        "      if pattern[j + 1] != pattern[i]:\n",
        "        output[j+1] = i\n",
        "      else:\n",
        "        output[j+1] = output[i]\n",
        "  return output\n",
        "\n",
        "knuthBorders(\"aaacataaa\")"
      ],
      "execution_count": null,
      "outputs": [
        {
          "output_type": "execute_result",
          "data": {
            "text/plain": [
              "[-1, -1, -1, 2, -1, 1, -1, -1, -1, 3]"
            ]
          },
          "metadata": {
            "tags": []
          },
          "execution_count": 11
        }
      ]
    },
    {
      "cell_type": "markdown",
      "metadata": {
        "id": "5PDWmIgG6Z3G"
      },
      "source": [
        "##kmp"
      ]
    },
    {
      "cell_type": "code",
      "metadata": {
        "id": "nSGfwqxJ6l4u"
      },
      "source": [
        "def Kmp(needle:str, haystack:str, time=False, firstOccurence=False):\n",
        "  # Initialisations\n",
        "  output = [] # initializing the output list\n",
        "  borders = knuthBorders(needle) # compute the borders List\n",
        "  startTime= 0 # initialize the time counter\n",
        "  c=0 # initialize the comparison counter\n",
        "  i,j =0,0\n",
        "  m,n = len(needle),len(haystack) # length of pattern and text\n",
        "  \n",
        "  # if the timer is specified, we start counting\n",
        "  if time:\n",
        "    import time\n",
        "    startTime = time.perf_counter_ns()\n",
        "\n",
        "  while(i < n-m+1): # for each window in text\n",
        "    while j < m and haystack[i+j] == needle[j]:\n",
        "      c+=1 # counting when there's a match from the while statement\n",
        "      j=j+1 # we compare the next character when ther's a match\n",
        "    \n",
        "    # if there's a whole match\n",
        "    if j == m:\n",
        "      # if firstOccurence is mentioned we return it\n",
        "      if firstOccurence:\n",
        "        if time:\n",
        "          # if time is specified we return the time\n",
        "          endTime = time.perf_counter_ns()\n",
        "          return {'index': i,'time': endTime-startTime,'comparisons': c}\n",
        "        else:\n",
        "          # else, we return the indicies only\n",
        "          return {'index': i,'comparisons': c}\n",
        "      # else, we append the result to the output list\n",
        "      else:\n",
        "        output.append(i)\n",
        "    else:\n",
        "      #  counting when there's no match \n",
        "      if haystack[i+j] != needle[j]:\n",
        "        c+=1\n",
        "    \n",
        "    # shifting by the border values\n",
        "    i = i + j - borders[j]\n",
        "    if borders[j] > 0:\n",
        "      j = borders[j]\n",
        "    else:\n",
        "      j = 0\n",
        "  # if time is specified we return the time\n",
        "  if time:\n",
        "    endTime = time.perf_counter_ns()\n",
        "    return {'index': i,'time': endTime-startTime,'comparisons': c}\n",
        "  return {'indicies': output,'comparisons': c}"
      ],
      "execution_count": null,
      "outputs": []
    },
    {
      "cell_type": "code",
      "metadata": {
        "id": "K3z2y2nu69Mq"
      },
      "source": [
        "# dataset['time_kmp'] = result.apply(lambda row: Kmp(row['needles'], row['haystacks'], time=True, firstOccurence=True)['time'], axis=1)"
      ],
      "execution_count": null,
      "outputs": []
    },
    {
      "cell_type": "markdown",
      "metadata": {
        "id": "taeBj36mTxI7"
      },
      "source": [
        "#Analysis"
      ]
    },
    {
      "cell_type": "code",
      "metadata": {
        "colab": {
          "base_uri": "https://localhost:8080/"
        },
        "id": "qmcbvjfYVpBQ",
        "outputId": "eb7db64f-e67b-4706-d60d-36385413bc6b"
      },
      "source": [
        "# imoprting dependencies\n",
        "import pandas as pd\n",
        "print(pd.__version__)"
      ],
      "execution_count": null,
      "outputs": [
        {
          "output_type": "stream",
          "text": [
            "1.1.5\n"
          ],
          "name": "stdout"
        }
      ]
    },
    {
      "cell_type": "code",
      "metadata": {
        "id": "-a1mJtftLUrg"
      },
      "source": [
        "# defining the Data Shape\n",
        "needle_lengths = [10, 20, 80, 120, 150]\n",
        "haystack_lengths = [500, 2000, 8000 , 16000, 32000, 64000, 100000, 400000, 500000, 900000, 1200000, 2400000]\n",
        "importData=False"
      ],
      "execution_count": null,
      "outputs": []
    },
    {
      "cell_type": "markdown",
      "metadata": {
        "id": "tB4gTsjqGE4a"
      },
      "source": [
        "##Importing the data"
      ]
    },
    {
      "cell_type": "code",
      "metadata": {
        "id": "StBkwUYGGB8h"
      },
      "source": [
        "if importData:\n",
        "  !git clone https://github.com/Quickinline/dna_sequences_data\n",
        "  %cd ./dna_sequences_data\n",
        "  # !git checkout 4e3d25d1621f4fbe2cbc2eea8ded0b1933544811\n",
        "  dataset = pd.read_csv('data.csv')"
      ],
      "execution_count": null,
      "outputs": []
    },
    {
      "cell_type": "code",
      "metadata": {
        "id": "fm6LHyBn8erD"
      },
      "source": [
        "dataset.drop(dataset.columns[0], axis=1, inplace=True)"
      ],
      "execution_count": null,
      "outputs": []
    },
    {
      "cell_type": "markdown",
      "metadata": {
        "id": "naJJm5a_C6Td"
      },
      "source": [
        "##Generate the Data"
      ]
    },
    {
      "cell_type": "code",
      "metadata": {
        "id": "mMW5cF_qVngM"
      },
      "source": [
        "# Function for generating random dna Sequences\n",
        "from random import randint\n",
        "def generate_dna(length: int):\n",
        "        ADN = ''\n",
        "        for i in range(0,length):\n",
        "            ADN+='ACGT'[randint(0,3)]\n",
        "        return ADN\n",
        "\n",
        "def generate_from(text:str, length:int):\n",
        "  start = randint(0,len(text) - length)\n",
        "  return text[start:start+length]"
      ],
      "execution_count": null,
      "outputs": []
    },
    {
      "cell_type": "code",
      "metadata": {
        "id": "UFRqo2ye_rvH",
        "colab": {
          "base_uri": "https://localhost:8080/",
          "height": 128
        },
        "outputId": "bcaa6154-cd71-4f85-e957-0cb2aa8011b5"
      },
      "source": [
        "# Generating the Haystacks\n",
        "# generating 20 haystacks (the text) of lengths [ 500, 2000, 8000 , 16000, 32000, 64000, 100000, 400000, 500000, 900000, 1200000]\n",
        "if not importData:\n",
        "  haystacks = pd.Series([generate_dna(y) for y in haystack_lengths])\n"
      ],
      "execution_count": null,
      "outputs": [
        {
          "output_type": "error",
          "ename": "SyntaxError",
          "evalue": "ignored",
          "traceback": [
            "\u001b[0;36m  File \u001b[0;32m\"<ipython-input-1-f6bee6df51b8>\"\u001b[0;36m, line \u001b[0;32m4\u001b[0m\n\u001b[0;31m    haystacks = pd.Series([y,generate_dna(y) for y in haystack_lengths])\u001b[0m\n\u001b[0m                                               ^\u001b[0m\n\u001b[0;31mSyntaxError\u001b[0m\u001b[0;31m:\u001b[0m invalid syntax\n"
          ]
        }
      ]
    },
    {
      "cell_type": "code",
      "metadata": {
        "id": "ZeUMMNARZD1K"
      },
      "source": [
        "if not importData:\n",
        "  dataset = pd.DataFrame({'haystacks':haystacks})\n",
        "  dataset['haystack_length'] = dataset.apply(lambda row: len(row['haystacks']) ,axis=1)\n",
        "  for length in needle_lengths:\n",
        "    dataset[f'needle_{length}'] = dataset.apply(lambda row: generate_from(row['haystacks'], length), axis=1)\n"
      ],
      "execution_count": null,
      "outputs": []
    },
    {
      "cell_type": "code",
      "metadata": {
        "id": "eit2s1VwZxKk"
      },
      "source": [
        "dataset"
      ],
      "execution_count": null,
      "outputs": []
    },
    {
      "cell_type": "markdown",
      "metadata": {
        "id": "T11eFI6ADcQ6"
      },
      "source": [
        "##Testing Aho-Corasick"
      ]
    },
    {
      "cell_type": "code",
      "metadata": {
        "id": "LEfoKunNak7V"
      },
      "source": [
        "from typing import List\n",
        "def aho_corasick(haystack:str, needles:List[str]):\n",
        "  tree = Arbre(Noeud('',{}))\n",
        "\n",
        "  tree.setWords(needles)\n",
        "  \n",
        "  import time\n",
        "  startTime = time.perf_counter_ns()\n",
        "  result = tree.search(haystack)\n",
        "  endTime = time.perf_counter_ns()\n",
        "\n",
        "  return endTime - startTime"
      ],
      "execution_count": null,
      "outputs": []
    },
    {
      "cell_type": "code",
      "metadata": {
        "id": "diJhlWcxbkIm"
      },
      "source": [
        "def test_aho(row):\n",
        "  \n",
        "  needles = [row[f'needle_{x}'] for x in needle_lengths]\n",
        "  # if pd.isna(row['time_aho_corasick']):\n",
        "  return aho_corasick(row['haystacks'],needles)\n",
        "  # else:\n",
        "  #   return row['time_aho_corasick']\n",
        "\n",
        "dataset['time_aho_corasick'] = dataset.apply(test_aho, axis=1)\n"
      ],
      "execution_count": null,
      "outputs": []
    },
    {
      "cell_type": "code",
      "metadata": {
        "id": "-vq1xo33BBiA",
        "colab": {
          "base_uri": "https://localhost:8080/",
          "height": 439
        },
        "outputId": "968fd4ec-1ec8-471d-e196-a5b39ffcc1bd"
      },
      "source": [
        "dataset"
      ],
      "execution_count": null,
      "outputs": [
        {
          "output_type": "execute_result",
          "data": {
            "text/html": [
              "<div>\n",
              "<style scoped>\n",
              "    .dataframe tbody tr th:only-of-type {\n",
              "        vertical-align: middle;\n",
              "    }\n",
              "\n",
              "    .dataframe tbody tr th {\n",
              "        vertical-align: top;\n",
              "    }\n",
              "\n",
              "    .dataframe thead th {\n",
              "        text-align: right;\n",
              "    }\n",
              "</style>\n",
              "<table border=\"1\" class=\"dataframe\">\n",
              "  <thead>\n",
              "    <tr style=\"text-align: right;\">\n",
              "      <th></th>\n",
              "      <th>Unnamed: 0</th>\n",
              "      <th>haystacks</th>\n",
              "      <th>haystack_length</th>\n",
              "      <th>needle_10</th>\n",
              "      <th>needle_20</th>\n",
              "      <th>needle_80</th>\n",
              "      <th>needle_120</th>\n",
              "      <th>needle_150</th>\n",
              "      <th>time_aho_corasick</th>\n",
              "      <th>time_kmp</th>\n",
              "    </tr>\n",
              "  </thead>\n",
              "  <tbody>\n",
              "    <tr>\n",
              "      <th>0</th>\n",
              "      <td>0</td>\n",
              "      <td>CGAAAATCTGGTGTGCCGCAGTGAATAAAACTAGACGTATCATCCT...</td>\n",
              "      <td>500</td>\n",
              "      <td>TGCACGAAGG</td>\n",
              "      <td>AGCTTACAGTTATAGACCCA</td>\n",
              "      <td>GCCCCATCACCAGCTTACAGTTATAGACCCAATTTTAGCGCTCACC...</td>\n",
              "      <td>GTGTGCCGCAGTGAATAAAACTAGACGTATCATCCTCCTGACCACC...</td>\n",
              "      <td>ACTGAACCGATTCATGTGTGGTTCTGGGGCGCAGCATGATGGACGT...</td>\n",
              "      <td>739579</td>\n",
              "      <td>938982</td>\n",
              "    </tr>\n",
              "    <tr>\n",
              "      <th>1</th>\n",
              "      <td>1</td>\n",
              "      <td>CTCATAGATTCTTTTGCCCCTAATAACACTCTCTACCCCTCCCCGC...</td>\n",
              "      <td>2000</td>\n",
              "      <td>TCGCAGCCCC</td>\n",
              "      <td>GGTTGACGTTCCACGTGGTG</td>\n",
              "      <td>CCACGAATCATTTTGGGCGTACTACTCTGTAGAATTGAACCAATTA...</td>\n",
              "      <td>GGGAATGCACCTACTGGAGCCCGTGCGCGAAGCGCGTAACAAATCT...</td>\n",
              "      <td>CCCATGGGGTGCTATCCTATACATTGAAAGGTCGCAGCCCCAACAA...</td>\n",
              "      <td>4577835</td>\n",
              "      <td>8674728</td>\n",
              "    </tr>\n",
              "    <tr>\n",
              "      <th>2</th>\n",
              "      <td>2</td>\n",
              "      <td>TACATCTACCTGACACTTCTTCATAACATTTCAACTGACGACTTGA...</td>\n",
              "      <td>8000</td>\n",
              "      <td>TTAATGTATA</td>\n",
              "      <td>GCTATGACCACAGAGATTGC</td>\n",
              "      <td>CAACTTCGCCACCTTGCCACCGCCCTGACACAGGCTCTCAGGCGCG...</td>\n",
              "      <td>GTTCTCAGGCAGCACAGGATTATACTCCCAGACGTCATTCATGCTC...</td>\n",
              "      <td>CAGATAATAGTATGTGCTAAATCATACTTAAGCCTCTACAGTTTAC...</td>\n",
              "      <td>20902019</td>\n",
              "      <td>21535379</td>\n",
              "    </tr>\n",
              "    <tr>\n",
              "      <th>3</th>\n",
              "      <td>3</td>\n",
              "      <td>GACGAGCCGCTTGCGGGGTGCAAGATAGCCGGATCGAATGGTGTTC...</td>\n",
              "      <td>16000</td>\n",
              "      <td>TTAAATGGGA</td>\n",
              "      <td>ATCACTAGCTGTTAGTTCAT</td>\n",
              "      <td>TATCGACAGGGCCACACGTGTACAGTCTTCCCACGCGAAGTAATTG...</td>\n",
              "      <td>TGTTTTGTGCTCCATGTCCCGTGAGTTAATAGTTCTTAAGAGGGCA...</td>\n",
              "      <td>TGTTAGGGTTGTCAAACAACAGACAGTGTCACACCGAAAAAGTGTC...</td>\n",
              "      <td>26144865</td>\n",
              "      <td>39006094</td>\n",
              "    </tr>\n",
              "    <tr>\n",
              "      <th>4</th>\n",
              "      <td>4</td>\n",
              "      <td>CAAACTCAGTTGAACATGCGCGGCATTAAGTTGGTGATTAATTGAG...</td>\n",
              "      <td>32000</td>\n",
              "      <td>TAGGCTTGAA</td>\n",
              "      <td>AGGTCACCAGACGCCGCTGA</td>\n",
              "      <td>CGGACGAAGGTTGTCAGGATAATCCAGAGGTCAAGGTCCAGTAAAT...</td>\n",
              "      <td>GGTAATCACCGGCAGGATAACTATCTTGACTGATAGGTACGTAAAA...</td>\n",
              "      <td>TCAAGCGATCGATAGTGAGCATGTTAGTGTGTAAAGCATCCCCTCA...</td>\n",
              "      <td>72035355</td>\n",
              "      <td>79057790</td>\n",
              "    </tr>\n",
              "    <tr>\n",
              "      <th>5</th>\n",
              "      <td>5</td>\n",
              "      <td>TCAAGTTAGCCAACCGTGCTTTATGACACCCCCCCCTACAATACCG...</td>\n",
              "      <td>64000</td>\n",
              "      <td>CCCAACTCAC</td>\n",
              "      <td>AATATCTGTATATTTATAAC</td>\n",
              "      <td>CTCCCTCACCGAAGCTGGGGTGCGTACACGTGGAACAAGACCGAAT...</td>\n",
              "      <td>ACGAGTACTAAATGACCGAACTGGAGGACAGCGAATATAATCCGCC...</td>\n",
              "      <td>CATAGAGTTGTTAAGTAGCTCTTGTAGAATCTTGGCAATTTAGTGG...</td>\n",
              "      <td>96082338</td>\n",
              "      <td>159619268</td>\n",
              "    </tr>\n",
              "    <tr>\n",
              "      <th>6</th>\n",
              "      <td>6</td>\n",
              "      <td>AACTGGTCGTGTAAATGGACGTGAGCCACAAACTAGCGGCGGAACG...</td>\n",
              "      <td>100000</td>\n",
              "      <td>AGAGGGCGAT</td>\n",
              "      <td>TACGCGCTGTAGCCATGCGC</td>\n",
              "      <td>TTGGAGGTTATTAGGCTTGCCTCTCTGGAAAGTGGGCAGTTTGTCC...</td>\n",
              "      <td>TTTATCCAGCGTTATCCGAAACCTCCTATACGCAGTAGACATTATT...</td>\n",
              "      <td>GTGCTAAAGCTGCTTGGTCTACACCACTCATCACAGCCGTGAAAGT...</td>\n",
              "      <td>177294658</td>\n",
              "      <td>256015713</td>\n",
              "    </tr>\n",
              "    <tr>\n",
              "      <th>7</th>\n",
              "      <td>7</td>\n",
              "      <td>CCGCATCCATGAACCAACTACCGCAAATCTTCGCAACAAGCGTAAG...</td>\n",
              "      <td>400000</td>\n",
              "      <td>GACGGGCCCA</td>\n",
              "      <td>CCCGAGAAACATCTGCATCT</td>\n",
              "      <td>TCGTTTTTTCTACGAGACCCAAAACGGCGGGCTCGAGAGCGCCATT...</td>\n",
              "      <td>TCAGGGTATTTTACCCTGCTTAGACGAACGCATCGTCGAGCTGTGC...</td>\n",
              "      <td>TCGCGAGCGTGCACGTAGCGTCGACGTTTCCGCCGCGACGACTCTT...</td>\n",
              "      <td>739291304</td>\n",
              "      <td>1019429226</td>\n",
              "    </tr>\n",
              "    <tr>\n",
              "      <th>8</th>\n",
              "      <td>8</td>\n",
              "      <td>GCGGGAGCATCGTGAGGCATCGATGAGCTATTCGTAAACGGTCTAT...</td>\n",
              "      <td>500000</td>\n",
              "      <td>TATTGAGAAC</td>\n",
              "      <td>CTTTTTTGATCCCGTGCTGC</td>\n",
              "      <td>TTGCTCACGAGCGAAAGTCTTTTTTCGACGAATACTCGATCAGTAG...</td>\n",
              "      <td>TCCGGTACTTTATGACGTGGCTAAAGATCCGACTTGGTAGATCAAA...</td>\n",
              "      <td>GTAGGGCGATGGTGTTTCCGCCCTCCGCTATGACCAGCCATTCGGC...</td>\n",
              "      <td>928631112</td>\n",
              "      <td>1256665040</td>\n",
              "    </tr>\n",
              "    <tr>\n",
              "      <th>9</th>\n",
              "      <td>9</td>\n",
              "      <td>AGGGTGTTCCACTCACGACTTCGATGCTACATAAGCTGGCCGTAGG...</td>\n",
              "      <td>900000</td>\n",
              "      <td>CAGAGGACAG</td>\n",
              "      <td>TTAAAGATGACAAGATCCGT</td>\n",
              "      <td>ATGGACCTCACCCGGTGTGCATGAATGCCTATTCTCGTATTGGTAC...</td>\n",
              "      <td>CATATGCTCCCCTGACTCCATACGAGACGCGTGTTTCCGCGCGGTA...</td>\n",
              "      <td>ATGATGAACCGACAGCCGGACAGAATTCCTTACAGATTCGTAGTAG...</td>\n",
              "      <td>1656387408</td>\n",
              "      <td>2295546460</td>\n",
              "    </tr>\n",
              "    <tr>\n",
              "      <th>10</th>\n",
              "      <td>10</td>\n",
              "      <td>TTGAAGCTGCCATTAACGTATCCGAGATGACCCCATAACCCAAGGG...</td>\n",
              "      <td>1200000</td>\n",
              "      <td>CGCTGCATCC</td>\n",
              "      <td>GGGACAGTAATCTCGCGTGC</td>\n",
              "      <td>ATGGGCATCGTCGATAGCGAGATTCAAGAGTGAAATGGTACCTGCG...</td>\n",
              "      <td>GTACGATAAGTTATACTGTAATTGGGCTCTCGCTCGTTAGACCACC...</td>\n",
              "      <td>TTAACGCTATAGCTTGCTCAGTAGACGGGCGGGACCCGATTGCCAA...</td>\n",
              "      <td>2541041439</td>\n",
              "      <td>2931648022</td>\n",
              "    </tr>\n",
              "    <tr>\n",
              "      <th>11</th>\n",
              "      <td>11</td>\n",
              "      <td>ATGTAGACCGGTCTGTTTGGCCATCGATTGCTATGAGTCGCCAGGC...</td>\n",
              "      <td>2400000</td>\n",
              "      <td>ACAACAATCA</td>\n",
              "      <td>GCAAGTGTATATAAATTGGG</td>\n",
              "      <td>TCGCGCTTGAAGCGTCTGTGCTGCGATAGGTTGTCCCGCAACATGA...</td>\n",
              "      <td>GGTTACTCAATTAGCAAGTAAGTTGCTGCGCTGGACCAGTGTATTA...</td>\n",
              "      <td>GATATTAGGATAAACAGCTCATGGTAAGCCTGACCTATCCTGCTTG...</td>\n",
              "      <td>4471372682</td>\n",
              "      <td>6023502541</td>\n",
              "    </tr>\n",
              "  </tbody>\n",
              "</table>\n",
              "</div>"
            ],
            "text/plain": [
              "    Unnamed: 0  ...    time_kmp\n",
              "0            0  ...      938982\n",
              "1            1  ...     8674728\n",
              "2            2  ...    21535379\n",
              "3            3  ...    39006094\n",
              "4            4  ...    79057790\n",
              "5            5  ...   159619268\n",
              "6            6  ...   256015713\n",
              "7            7  ...  1019429226\n",
              "8            8  ...  1256665040\n",
              "9            9  ...  2295546460\n",
              "10          10  ...  2931648022\n",
              "11          11  ...  6023502541\n",
              "\n",
              "[12 rows x 10 columns]"
            ]
          },
          "metadata": {
            "tags": []
          },
          "execution_count": 19
        }
      ]
    },
    {
      "cell_type": "markdown",
      "metadata": {
        "id": "rNtesZLM_xMJ"
      },
      "source": [
        "##Testing KMP"
      ]
    },
    {
      "cell_type": "code",
      "metadata": {
        "id": "8A-w7_FzFZFL"
      },
      "source": [
        "from typing import List\n",
        "def test_kmp(row):\n",
        "\n",
        "  # if not pd.isna(row['time_kmp']):\n",
        "  #   return row['time_kmp']\n",
        "\n",
        "  haystack = row['haystacks']\n",
        "  needles = [row[f'needle_{x}'] for x in needle_lengths]\n",
        "  # import time\n",
        "  # startTime = time.perf_counter_ns()\n",
        "  times = []\n",
        "  for needle in needles:\n",
        "    times.append(Kmp(needle, haystack, time=True)[\"time\"])\n",
        "  # endTime = time.perf_counter_ns()\n",
        "\n",
        "  return sum(times)"
      ],
      "execution_count": null,
      "outputs": []
    },
    {
      "cell_type": "code",
      "metadata": {
        "id": "SO2tp96mGmyU"
      },
      "source": [
        "dataset['time_kmp'] = dataset.apply(test_kmp, axis=1)"
      ],
      "execution_count": null,
      "outputs": []
    },
    {
      "cell_type": "markdown",
      "metadata": {
        "id": "E06TBDPnJNdv"
      },
      "source": [
        "#Data Visualization"
      ]
    },
    {
      "cell_type": "code",
      "metadata": {
        "id": "l4G3lv8IJQtV"
      },
      "source": [
        "dataset"
      ],
      "execution_count": null,
      "outputs": []
    },
    {
      "cell_type": "code",
      "metadata": {
        "id": "hQVnoBLKLHHP",
        "colab": {
          "base_uri": "https://localhost:8080/",
          "height": 444
        },
        "outputId": "2eef6ec1-8fc0-4976-cf53-5ae4307be968"
      },
      "source": [
        "# Plotting the Execution Time of the four algorithms\n",
        "\n",
        "import matplotlib.pyplot as plt\n",
        "from matplotlib.pyplot import figure\n",
        "\n",
        "figure(figsize=(8, 6), dpi=80)\n",
        "\n",
        "plt.plot(dataset['haystack_length'],dataset['time_aho_corasick'],label='Aho Corasick')\n",
        "plt.plot(dataset['haystack_length'],dataset['time_kmp'],label='Kmp')\n",
        "\n",
        "motifs = ','.join([str(n) for n in needle_lengths])\n",
        "\n",
        "plt.title(f'Aho Corasick vs Kmp (Motifs={motifs})')\n",
        "# Set the y axis label of the current axis.\n",
        "plt.xlabel('Taille du Texte')\n",
        "plt.ylabel('Temps d\\'éxécution')\n",
        "# show a legend on the plot\n",
        "plt.legend()\n",
        "\n",
        "fig1 = plt.gcf()\n",
        "# Display a figure.\n",
        "plt.show()\n",
        "fig1.savefig(f'Graph.png')"
      ],
      "execution_count": null,
      "outputs": [
        {
          "output_type": "display_data",
          "data": {
            "image/png": "[encoded data removed]",
            "text/plain": [
              "<Figure size 640x480 with 1 Axes>"
            ]
          },
          "metadata": {
            "tags": [],
            "needs_background": "light"
          }
        }
      ]
    },
    {
      "cell_type": "code",
      "metadata": {
        "colab": {
          "base_uri": "https://localhost:8080/",
          "height": 17
        },
        "id": "GiDlJKRaE0vf",
        "outputId": "ad0f704d-5113-4745-c2f0-0e49e1561c98"
      },
      "source": [
        "from google.colab import files\n",
        "files.download('Graph.png')"
      ],
      "execution_count": null,
      "outputs": [
        {
          "output_type": "display_data",
          "data": {
            "application/javascript": [
              "\n",
              "    async function download(id, filename, size) {\n",
              "      if (!google.colab.kernel.accessAllowed) {\n",
              "        return;\n",
              "      }\n",
              "      const div = document.createElement('div');\n",
              "      const label = document.createElement('label');\n",
              "      label.textContent = `Downloading \"${filename}\": `;\n",
              "      div.appendChild(label);\n",
              "      const progress = document.createElement('progress');\n",
              "      progress.max = size;\n",
              "      div.appendChild(progress);\n",
              "      document.body.appendChild(div);\n",
              "\n",
              "      const buffers = [];\n",
              "      let downloaded = 0;\n",
              "\n",
              "      const channel = await google.colab.kernel.comms.open(id);\n",
              "      // Send a message to notify the kernel that we're ready.\n",
              "      channel.send({})\n",
              "\n",
              "      for await (const message of channel.messages) {\n",
              "        // Send a message to notify the kernel that we're ready.\n",
              "        channel.send({})\n",
              "        if (message.buffers) {\n",
              "          for (const buffer of message.buffers) {\n",
              "            buffers.push(buffer);\n",
              "            downloaded += buffer.byteLength;\n",
              "            progress.value = downloaded;\n",
              "          }\n",
              "        }\n",
              "      }\n",
              "      const blob = new Blob(buffers, {type: 'application/binary'});\n",
              "      const a = document.createElement('a');\n",
              "      a.href = window.URL.createObjectURL(blob);\n",
              "      a.download = filename;\n",
              "      div.appendChild(a);\n",
              "      a.click();\n",
              "      div.remove();\n",
              "    }\n",
              "  "
            ],
            "text/plain": [
              "<IPython.core.display.Javascript object>"
            ]
          },
          "metadata": {
            "tags": []
          }
        },
        {
          "output_type": "display_data",
          "data": {
            "application/javascript": [
              "download(\"download_8edbaeb6-a2bd-45d8-9d43-737c7260b0b0\", \"Graph.png\", 26548)"
            ],
            "text/plain": [
              "<IPython.core.display.Javascript object>"
            ]
          },
          "metadata": {
            "tags": []
          }
        }
      ]
    },
    {
      "cell_type": "markdown",
      "metadata": {
        "id": "b0y4eZJdJzwE"
      },
      "source": [
        "#Export Data"
      ]
    },
    {
      "cell_type": "code",
      "metadata": {
        "colab": {
          "base_uri": "https://localhost:8080/",
          "height": 17
        },
        "id": "H41ZqzvxJ184",
        "outputId": "d6204f07-a14f-4517-f228-346b8db9848e"
      },
      "source": [
        "dataset.to_csv('data.csv')\n",
        "from google.colab import files\n",
        "files.download(\"data.csv\")"
      ],
      "execution_count": null,
      "outputs": [
        {
          "output_type": "display_data",
          "data": {
            "application/javascript": [
              "\n",
              "    async function download(id, filename, size) {\n",
              "      if (!google.colab.kernel.accessAllowed) {\n",
              "        return;\n",
              "      }\n",
              "      const div = document.createElement('div');\n",
              "      const label = document.createElement('label');\n",
              "      label.textContent = `Downloading \"${filename}\": `;\n",
              "      div.appendChild(label);\n",
              "      const progress = document.createElement('progress');\n",
              "      progress.max = size;\n",
              "      div.appendChild(progress);\n",
              "      document.body.appendChild(div);\n",
              "\n",
              "      const buffers = [];\n",
              "      let downloaded = 0;\n",
              "\n",
              "      const channel = await google.colab.kernel.comms.open(id);\n",
              "      // Send a message to notify the kernel that we're ready.\n",
              "      channel.send({})\n",
              "\n",
              "      for await (const message of channel.messages) {\n",
              "        // Send a message to notify the kernel that we're ready.\n",
              "        channel.send({})\n",
              "        if (message.buffers) {\n",
              "          for (const buffer of message.buffers) {\n",
              "            buffers.push(buffer);\n",
              "            downloaded += buffer.byteLength;\n",
              "            progress.value = downloaded;\n",
              "          }\n",
              "        }\n",
              "      }\n",
              "      const blob = new Blob(buffers, {type: 'application/binary'});\n",
              "      const a = document.createElement('a');\n",
              "      a.href = window.URL.createObjectURL(blob);\n",
              "      a.download = filename;\n",
              "      div.appendChild(a);\n",
              "      a.click();\n",
              "      div.remove();\n",
              "    }\n",
              "  "
            ],
            "text/plain": [
              "<IPython.core.display.Javascript object>"
            ]
          },
          "metadata": {
            "tags": []
          }
        },
        {
          "output_type": "display_data",
          "data": {
            "application/javascript": [
              "download(\"download_9168c4bb-6945-4d5e-bf08-d76b16827351\", \"data.csv\", 5627571)"
            ],
            "text/plain": [
              "<IPython.core.display.Javascript object>"
            ]
          },
          "metadata": {
            "tags": []
          }
        }
      ]
    }
  ]
}