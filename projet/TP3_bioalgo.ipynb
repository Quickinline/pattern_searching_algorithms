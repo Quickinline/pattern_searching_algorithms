{
  "nbformat": 4,
  "nbformat_minor": 0,
  "metadata": {
    "colab": {
      "name": "TP3_bioalgo.ipynb",
      "provenance": [],
      "collapsed_sections": [
        "HkKpNQ8mFIa7"
      ],
      "toc_visible": true
    },
    "kernelspec": {
      "display_name": "Python 3",
      "language": "python",
      "name": "python3"
    },
    "language_info": {
      "codemirror_mode": {
        "name": "ipython",
        "version": 3
      },
      "file_extension": ".py",
      "mimetype": "text/x-python",
      "name": "python",
      "nbconvert_exporter": "python",
      "pygments_lexer": "ipython3",
      "version": "3.9.2"
    }
  },
  "cells": [
    {
      "cell_type": "code",
      "metadata": {
        "id": "9iveAso8BPwR",
        "colab": {
          "base_uri": "https://localhost:8080/"
        },
        "outputId": "8a135206-8eec-46c1-b8d6-45c192c0b316"
      },
      "source": [
        "!jt -t chesterish"
      ],
      "execution_count": null,
      "outputs": [
        {
          "output_type": "stream",
          "text": [
            "/bin/bash: jt: command not found\n"
          ],
          "name": "stdout"
        }
      ]
    },
    {
      "cell_type": "code",
      "metadata": {
        "id": "NLWBRd0WKCx6"
      },
      "source": [
        ""
      ],
      "execution_count": null,
      "outputs": []
    },
    {
      "cell_type": "markdown",
      "metadata": {
        "id": "EZUlFQI8gE7h"
      },
      "source": [
        "# Suffix Array"
      ]
    },
    {
      "cell_type": "markdown",
      "metadata": {
        "id": "SWJtJqtcorha"
      },
      "source": [
        "## Construction\n"
      ]
    },
    {
      "cell_type": "code",
      "metadata": {
        "colab": {
          "base_uri": "https://localhost:8080/"
        },
        "id": "WKvhMAjPgBE7",
        "outputId": "2f748119-fa43-4b2a-aad6-1a43a88513ab"
      },
      "source": [
        "\n",
        "# naive algorithm O(n²)\n",
        "def suffix_table (text:str):\n",
        "    n = len(text)\n",
        "    suffixes = []\n",
        "    for i in range(n):\n",
        "        suffix = text[i:]\n",
        "        suffixes.append(suffix)\n",
        "    suffixes.sort()\n",
        "\n",
        "    table = []\n",
        "    for suffix in suffixes:\n",
        "        table.append(n - len(suffix))\n",
        "\n",
        "    return table\n",
        "\n",
        "\n",
        "suffix_table('CACGTACGTACTA')"
      ],
      "execution_count": null,
      "outputs": [
        {
          "output_type": "execute_result",
          "data": {
            "text/plain": [
              "[12, 1, 5, 9, 0, 2, 6, 10, 3, 7, 11, 4, 8]"
            ]
          },
          "metadata": {
            "tags": []
          },
          "execution_count": 2
        }
      ]
    },
    {
      "cell_type": "code",
      "metadata": {
        "id": "qsl_vmDa-gmp"
      },
      "source": [
        "# Better Approach\n",
        "# https://www.youtube.com/watch?v=_TUeAdu-U_k\n",
        "\n",
        "def suffix_array(text:str):\n",
        "  n = len(text)\n",
        "\n",
        "  # convert text to list of ASCII Values\n",
        "  text_values = [ord(text[x]) - ord('A') for x in range(n)]\n",
        "\n",
        "  main_vals = text_values\n",
        "  b = len(main_vals) != len(set(main_vals))\n",
        "  i= 1\n",
        "  while b:\n",
        "\n",
        "    # extract a set of tuples, each tuples representing the first two characters of each suffix\n",
        "    two_tuples = [(main_vals[i],main_vals[i+1] if i+1 < n else -1) for i in range(n)]\n",
        "\n",
        "\n",
        "    # sorting the list of tuples and assigning ranks\n",
        "    sorted_tuples = sorted(two_tuples)\n",
        "    \n",
        "    # convert tuples to their ranking\n",
        "    conversion_dict = {}\n",
        "\n",
        "    for x in range(len(sorted_tuples)):\n",
        "      if x - 1 < 0 or (sorted_tuples[x-1] != sorted_tuples[x]):\n",
        "        conversion_dict[sorted_tuples[x]] = x\n",
        "    \n",
        "    # construct a list of the tuple's ranking as our new array order\n",
        "    main_vals = [conversion_dict[x] for x in two_tuples]\n",
        "\n",
        "    b = len(main_vals) != len(set(main_vals))\n",
        "    i+=1\n",
        "  \n",
        "  # now all the values of main_vals are unique\n",
        "  \n",
        "  output = [-1 for x in range(len(main_vals))]\n",
        "  for i in range(len(main_vals)):\n",
        "    output[main_vals[i]] = i\n",
        "  \n",
        "  return output\n",
        "\n",
        "suffix_array('CACGTACGTACTA')"
      ],
      "execution_count": null,
      "outputs": []
    },
    {
      "cell_type": "markdown",
      "metadata": {
        "id": "U4K2nbTUot-k"
      },
      "source": [
        "##Search\n"
      ]
    },
    {
      "cell_type": "code",
      "metadata": {
        "id": "pB1FhpuR0r-n"
      },
      "source": [
        "def search_with_suffix(text:str, pattern:str, suffixes:list):\n",
        "  # defining lengths\n",
        "  n = len(text)\n",
        "  m = len(pattern)\n",
        "\n",
        "  # defining the beginning and end indicies\n",
        "  d = 0\n",
        "  f = n -1\n",
        "\n",
        "  while d < f:\n",
        "    middle = int((d + f) /2)\n",
        "    # print(f'd = {d}, f = {f} ')\n",
        "    # print(f'middle is {middle} => {suffixes[middle]}')\n",
        "    # print(f'is  {pattern} < {text[suffixes[middle]:]}')\n",
        "    if pattern <= text[suffixes[middle]:]:\n",
        "      f = middle\n",
        "    else:\n",
        "      d = middle + 1\n",
        "  # print(f'first d = {d} and f = {f}')\n",
        "  deb = d\n",
        "\n",
        "  f = n -1\n",
        "  while d < f:\n",
        "    middle = int((d + f) /2)\n",
        "    # print(f'd = {d}, f = {f} ')\n",
        "    # print(f'middle is {middle} => {suffixes[middle]}')\n",
        "    # print(f'is  {pattern} = {text[suffixes[middle]:suffixes[middle] + m]}')\n",
        "    if pattern == text[suffixes[middle]: suffixes[middle] + m]:\n",
        "      d = middle +1\n",
        "    else:\n",
        "      f = middle -1\n",
        "#   print(f'second d = {d} and f = {f}')\n",
        "  fin = f\n",
        "  if fin - deb == 1:\n",
        "    return suffixes[deb: fin + 1]\n",
        "  return suffixes[deb:fin]"
      ],
      "execution_count": null,
      "outputs": []
    },
    {
      "cell_type": "code",
      "metadata": {
        "collapsed": true,
        "id": "rzP2Eq0Iezfr",
        "colab": {
          "base_uri": "https://localhost:8080/"
        },
        "outputId": "05b8a3eb-6f75-47c6-93e8-74da0c1f451f"
      },
      "source": [
        "from pprint import pprint\n",
        "text= 'CACGTACGTACTACACGTACGTACTACACGTACGTACTA'\n",
        "sf_ar = suffix_array(text)\n",
        "pprint([ (x,sf_ar[x],text[sf_ar[x]:]) for x in range(len(sf_ar))])\n",
        "search_with_suffix(text,'TAC',suffix_array(text))"
      ],
      "execution_count": null,
      "outputs": [
        {
          "output_type": "stream",
          "text": [
            "[(0, 38, 'A'),\n",
            " (1, 25, 'ACACGTACGTACTA'),\n",
            " (2, 12, 'ACACGTACGTACTACACGTACGTACTA'),\n",
            " (3, 27, 'ACGTACGTACTA'),\n",
            " (4, 14, 'ACGTACGTACTACACGTACGTACTA'),\n",
            " (5, 1, 'ACGTACGTACTACACGTACGTACTACACGTACGTACTA'),\n",
            " (6, 31, 'ACGTACTA'),\n",
            " (7, 18, 'ACGTACTACACGTACGTACTA'),\n",
            " (8, 5, 'ACGTACTACACGTACGTACTACACGTACGTACTA'),\n",
            " (9, 35, 'ACTA'),\n",
            " (10, 22, 'ACTACACGTACGTACTA'),\n",
            " (11, 9, 'ACTACACGTACGTACTACACGTACGTACTA'),\n",
            " (12, 26, 'CACGTACGTACTA'),\n",
            " (13, 13, 'CACGTACGTACTACACGTACGTACTA'),\n",
            " (14, 0, 'CACGTACGTACTACACGTACGTACTACACGTACGTACTA'),\n",
            " (15, 28, 'CGTACGTACTA'),\n",
            " (16, 15, 'CGTACGTACTACACGTACGTACTA'),\n",
            " (17, 2, 'CGTACGTACTACACGTACGTACTACACGTACGTACTA'),\n",
            " (18, 32, 'CGTACTA'),\n",
            " (19, 19, 'CGTACTACACGTACGTACTA'),\n",
            " (20, 6, 'CGTACTACACGTACGTACTACACGTACGTACTA'),\n",
            " (21, 36, 'CTA'),\n",
            " (22, 23, 'CTACACGTACGTACTA'),\n",
            " (23, 10, 'CTACACGTACGTACTACACGTACGTACTA'),\n",
            " (24, 29, 'GTACGTACTA'),\n",
            " (25, 16, 'GTACGTACTACACGTACGTACTA'),\n",
            " (26, 3, 'GTACGTACTACACGTACGTACTACACGTACGTACTA'),\n",
            " (27, 33, 'GTACTA'),\n",
            " (28, 20, 'GTACTACACGTACGTACTA'),\n",
            " (29, 7, 'GTACTACACGTACGTACTACACGTACGTACTA'),\n",
            " (30, 37, 'TA'),\n",
            " (31, 24, 'TACACGTACGTACTA'),\n",
            " (32, 11, 'TACACGTACGTACTACACGTACGTACTA'),\n",
            " (33, 30, 'TACGTACTA'),\n",
            " (34, 17, 'TACGTACTACACGTACGTACTA'),\n",
            " (35, 4, 'TACGTACTACACGTACGTACTACACGTACGTACTA'),\n",
            " (36, 34, 'TACTA'),\n",
            " (37, 21, 'TACTACACGTACGTACTA'),\n",
            " (38, 8, 'TACTACACGTACGTACTACACGTACGTACTA')]\n"
          ],
          "name": "stdout"
        },
        {
          "output_type": "execute_result",
          "data": {
            "text/plain": [
              "[24, 11, 30, 17, 4, 34, 21]"
            ]
          },
          "metadata": {
            "tags": []
          },
          "execution_count": 5
        }
      ]
    },
    {
      "cell_type": "code",
      "metadata": {
        "id": "Mxw__1CGhsLT",
        "colab": {
          "base_uri": "https://localhost:8080/"
        },
        "outputId": "7f0e93a4-a6e8-4cea-b119-4950de32bb3d"
      },
      "source": [
        "print(suffix_array('CACGTACGTACTA'))\n",
        "search_with_suffix('CACGTACGTACTA','TAC',suffix_array('CACGTACGTACTA'))"
      ],
      "execution_count": null,
      "outputs": [
        {
          "output_type": "stream",
          "text": [
            "[12, 1, 5, 9, 0, 2, 6, 10, 3, 7, 11, 4, 8]\n"
          ],
          "name": "stdout"
        },
        {
          "output_type": "execute_result",
          "data": {
            "text/plain": [
              "[4, 8]"
            ]
          },
          "metadata": {
            "tags": []
          },
          "execution_count": 6
        }
      ]
    },
    {
      "cell_type": "code",
      "metadata": {
        "id": "JLvKXOwlBPwd",
        "colab": {
          "base_uri": "https://localhost:8080/"
        },
        "outputId": "f8a1891f-7f0e-4123-a0a6-2db0d2ae0df9"
      },
      "source": [
        "suffix_array('CACGTACGTACTA')[9:11]"
      ],
      "execution_count": null,
      "outputs": [
        {
          "output_type": "execute_result",
          "data": {
            "text/plain": [
              "[7, 11]"
            ]
          },
          "metadata": {
            "tags": []
          },
          "execution_count": 7
        }
      ]
    },
    {
      "cell_type": "code",
      "metadata": {
        "id": "SXzfGEVZOxmK",
        "colab": {
          "base_uri": "https://localhost:8080/"
        },
        "outputId": "45995a09-cbde-4b5d-ee41-8b93cd6bf1b1"
      },
      "source": [
        "from pprint import pprint\n",
        "text = 'CACGTACGTACTA'\n",
        "sf = suffix_array(text)\n",
        "pprint([(i,sf[i],text[sf[i]:]) for i in range(len(sf))])\n",
        "search_with_suffix(text,'CGT',sf)"
      ],
      "execution_count": null,
      "outputs": [
        {
          "output_type": "stream",
          "text": [
            "[(0, 12, 'A'),\n",
            " (1, 1, 'ACGTACGTACTA'),\n",
            " (2, 5, 'ACGTACTA'),\n",
            " (3, 9, 'ACTA'),\n",
            " (4, 0, 'CACGTACGTACTA'),\n",
            " (5, 2, 'CGTACGTACTA'),\n",
            " (6, 6, 'CGTACTA'),\n",
            " (7, 10, 'CTA'),\n",
            " (8, 3, 'GTACGTACTA'),\n",
            " (9, 7, 'GTACTA'),\n",
            " (10, 11, 'TA'),\n",
            " (11, 4, 'TACGTACTA'),\n",
            " (12, 8, 'TACTA')]\n"
          ],
          "name": "stdout"
        },
        {
          "output_type": "execute_result",
          "data": {
            "text/plain": [
              "[2, 6]"
            ]
          },
          "metadata": {
            "tags": []
          },
          "execution_count": 8
        }
      ]
    },
    {
      "cell_type": "code",
      "metadata": {
        "id": "FTtxMu_6nXgC",
        "colab": {
          "base_uri": "https://localhost:8080/"
        },
        "outputId": "49d3391f-f806-4137-cbfd-41cebdf5097f"
      },
      "source": [
        "text = 'GCATCGC'\n",
        "print(suffix_array(text))\n",
        "print([text[i:] for i in suffix_array(text) ])\n",
        "search_with_suffix(text,'ATC',suffix_array(text))"
      ],
      "execution_count": null,
      "outputs": [
        {
          "output_type": "stream",
          "text": [
            "[2, 6, 1, 4, 5, 0, 3]\n",
            "['ATCGC', 'C', 'CATCGC', 'CGC', 'GC', 'GCATCGC', 'TCGC']\n"
          ],
          "name": "stdout"
        },
        {
          "output_type": "execute_result",
          "data": {
            "text/plain": [
              "[]"
            ]
          },
          "metadata": {
            "tags": []
          },
          "execution_count": 9
        }
      ]
    },
    {
      "cell_type": "markdown",
      "metadata": {
        "id": "FG12Rn-ToxY9"
      },
      "source": [
        "#LCP Array (HTR)\n",
        "Longest Common Prefix"
      ]
    },
    {
      "cell_type": "code",
      "metadata": {
        "id": "9G-sApN5kiSC"
      },
      "source": [
        "def lcp_length(s1:str, s2:str, n=0):\n",
        "  \"\"\"\n",
        "  Recursive function to return \n",
        "  the length of the longest common prefix of two given strings\n",
        "  \"\"\"\n",
        "  # if the current n character matches\n",
        "  if s1[n] == s2[n]:\n",
        "    # if we can't compare the following characters, we return one\n",
        "    if n == len(s1)-1 or n == len(s2)-1:\n",
        "      return 1\n",
        "    # if we can compare the following characters, we compare them\n",
        "    return 1 + lcp_length(s1,s2,n+1)\n",
        "  # if this comparison failed, we return 0\n",
        "  else:\n",
        "    return 0\n",
        "\n",
        "def lcp_lengths(strings:list, n=0):\n",
        "  # initialize lengths\n",
        "  m = len(strings)\n",
        "  min_length = min([len(s) for s in strings])\n",
        "\n",
        "  char_val = strings[0][n]\n",
        "  i = 1\n",
        "\n",
        "  while i < m and char_val == strings[i][n]:\n",
        "    i+=1\n",
        "\n",
        "  # if all strings have the same nth character  \n",
        "  if i == m:\n",
        "    # we check if the next character still falls under the min_length\n",
        "    if n + 1 < min_length:\n",
        "      # if it does, we recurse\n",
        "      return 1 + lcp_lengths(strings, n+1)\n",
        "    else:\n",
        "      return 1\n",
        "  else:\n",
        "    # there's a mismatch\n",
        "    return 0\n",
        "\n",
        "\n",
        "def lcp_array(text:str,suff_arr:list, k= 2):\n",
        "  # the first element of the lcp array is always undefined\n",
        "  # so we set it to -1 because no length is -1\n",
        "  output= [-1 for k in range(k-1)]\n",
        "  # for each element in the suffix array\n",
        "  for i in range(1,len(suff_arr)):\n",
        "    # current suffix from the suffix array\n",
        "    curr_suffix = text[suff_arr[i]:]\n",
        "\n",
        "    # previous suffix from the suffix array\n",
        "    prev_suffix = text[suff_arr[i-1]:]\n",
        "\n",
        "    suffixes = [text[suff_arr[i-k]:] for k in range(k)]\n",
        "    # appending the lcp length of the two\n",
        "    output.append(lcp_lengths(suffixes))\n",
        "\n",
        "  return output"
      ],
      "execution_count": null,
      "outputs": []
    },
    {
      "cell_type": "code",
      "metadata": {
        "colab": {
          "base_uri": "https://localhost:8080/"
        },
        "id": "R1NQH-pipwG_",
        "outputId": "c34ea3c6-b662-460a-85de-4392242ff0af"
      },
      "source": [
        "# testing lcp array\n",
        "\n",
        "# lcp_array('CACGTACGTACTA',suffix_array('CACGTACGTACTA'))\n",
        "\n",
        "# Tested with online example\n",
        "# https://www.educative.io/edpresso/what-is-an-lcp-array\n",
        "lcp_array('papaya',suffix_array('papaya'))"
      ],
      "execution_count": null,
      "outputs": [
        {
          "output_type": "execute_result",
          "data": {
            "text/plain": [
              "[-1, 1, 1, 0, 2, 0]"
            ]
          },
          "metadata": {
            "tags": []
          },
          "execution_count": 12
        }
      ]
    },
    {
      "cell_type": "markdown",
      "metadata": {
        "id": "nSzWb0n5t3ps"
      },
      "source": [
        "#LCS\n",
        "Longest Common Substring"
      ]
    },
    {
      "cell_type": "code",
      "metadata": {
        "id": "2K9c6DNKuOCn"
      },
      "source": [
        "def lcs(text:str):\n",
        "  suff_arr = suffix_array(text)\n",
        "  lcp_arr = lcp_array(text,suff_arr)\n",
        "\n",
        "  max_len = -1\n",
        "  indicies = []\n",
        "\n",
        "  for i in range(len(lcp_arr)):\n",
        "    if lcp_arr[i] > max_len:\n",
        "      max_len= lcp_arr[i]\n",
        "      indicies = [suff_arr[i]]\n",
        "    else:\n",
        "      if lcp_arr[i] == max_len:\n",
        "        indicies.append(suff_arr[i])\n",
        "  \n",
        "\n",
        "  substrings = [text[i:i+max_len] for i in indicies]\n",
        "\n",
        "  return substrings"
      ],
      "execution_count": null,
      "outputs": []
    },
    {
      "cell_type": "code",
      "metadata": {
        "id": "XaXFd70kJoYT"
      },
      "source": [
        "def lcs_v2(text:str):\n",
        "  suff_arr = suffix_array(text)\n",
        "  lcp_arr = lcp_array(text,suff_arr)\n",
        "  \n",
        "  # getting the max of lcp and it's first occurence\n",
        "  max_len = max(lcp_arr)\n",
        "  start = lcp_arr.index(max_len)\n",
        "  indicies = []\n",
        "\n",
        "  # iterating through the table from the first occurence of max\n",
        "  i = start\n",
        "  while i < len(lcp_arr):\n",
        "    # if there's an equality we append the substring then\n",
        "    # iterate until there isn't\n",
        "    if lcp_arr[i] == max_len:\n",
        "      indicies.append(suff_arr[i])\n",
        "      j = i\n",
        "      while lcp_arr[j] == max_len:\n",
        "        j+=1\n",
        "      i = j\n",
        "    else:\n",
        "      # if there's no equality we iterate\n",
        "      i+=1  \n",
        "\n",
        "  # acquire the substrings of indicies\n",
        "  substrings = [text[i:i+max_len] for i in indicies]\n",
        "\n",
        "  return substrings"
      ],
      "execution_count": null,
      "outputs": []
    },
    {
      "cell_type": "code",
      "metadata": {
        "id": "sc-ACOnNJ-Dz",
        "colab": {
          "base_uri": "https://localhost:8080/"
        },
        "outputId": "ae73ad93-1b20-4cb2-adb3-ffbed2f23e12"
      },
      "source": [
        "lcs_v2('CAGACGGAAGAGTGAACGACCCGACGT')"
      ],
      "execution_count": null,
      "outputs": [
        {
          "output_type": "execute_result",
          "data": {
            "text/plain": [
              "['CGAC', 'GACG']"
            ]
          },
          "metadata": {
            "tags": []
          },
          "execution_count": 15
        }
      ]
    },
    {
      "cell_type": "code",
      "metadata": {
        "colab": {
          "base_uri": "https://localhost:8080/"
        },
        "id": "tXwTzXGEwtC2",
        "outputId": "b1c32fa4-7638-4a49-abe6-34683dc8cfbe"
      },
      "source": [
        "lcs('CAGACGGAAGAGTGAACGACCCGACGT')\n",
        "# CAGACGGAAGAGTGAACGACCCGACGT"
      ],
      "execution_count": null,
      "outputs": [
        {
          "output_type": "execute_result",
          "data": {
            "text/plain": [
              "['CGAC', 'GACG']"
            ]
          },
          "metadata": {
            "tags": []
          },
          "execution_count": 16
        }
      ]
    },
    {
      "cell_type": "markdown",
      "metadata": {
        "id": "yMVPO8mNBhDm"
      },
      "source": [
        "#ITS Array"
      ]
    },
    {
      "cell_type": "code",
      "metadata": {
        "id": "jX76z1SaBgfK"
      },
      "source": [
        "def its_array(suff_arr:list):\n",
        "  n = len(suff_arr)\n",
        "  output = [-1 for i in range(n)]\n",
        "  for i in range(n):\n",
        "    output[suff_arr[i]] = i\n",
        "  \n",
        "  return output\n"
      ],
      "execution_count": null,
      "outputs": []
    },
    {
      "cell_type": "code",
      "metadata": {
        "colab": {
          "base_uri": "https://localhost:8080/"
        },
        "id": "HhsQZrjhE3Nh",
        "outputId": "80f32d6f-0d4b-44e4-9ba8-90344063dfab"
      },
      "source": [
        "# testing course example\n",
        "suff_arr = suffix_array('GATGATTGAG')\n",
        "its_array(suff_arr)"
      ],
      "execution_count": null,
      "outputs": [
        {
          "output_type": "execute_result",
          "data": {
            "text/plain": [
              "[5, 1, 8, 6, 2, 9, 7, 4, 0, 3]"
            ]
          },
          "metadata": {
            "tags": []
          },
          "execution_count": 18
        }
      ]
    },
    {
      "cell_type": "markdown",
      "metadata": {
        "id": "ffuwx_TTCdMR"
      },
      "source": [
        "#Shortest Common substring\n",
        "##List of Substring Lengths"
      ]
    },
    {
      "cell_type": "code",
      "metadata": {
        "id": "RGhS6FBJCrft"
      },
      "source": [
        "def subs_lengths(text:str):\n",
        "  ts = suffix_array(text)\n",
        "  its = its_array(ts)\n",
        "  htr = lcp_array(text,ts)\n",
        "  n = len(text)\n",
        "\n",
        "  output=[]\n",
        "  for i in range(n):\n",
        "    first = htr[its[i]]\n",
        "    second = htr[its[i]+1] if its[i] +1 < len(htr) else 0\n",
        "    output.append( 1 + max( first,second ))\n",
        "  output.append(1)\n",
        "  return output\n",
        "\n",
        "def scs(text:str):\n",
        "  sl = subs_lengths(text)\n",
        "  n = len(text)\n",
        "  i = 0\n",
        "\n",
        "  result = []\n",
        "  while i + sl[i] <= n:\n",
        "    if sl[i] <= sl[i + 1]:\n",
        "      result.append(text[i:i + sl[i]])\n",
        "    i+=1\n",
        "  \n",
        "  return result"
      ],
      "execution_count": null,
      "outputs": []
    },
    {
      "cell_type": "code",
      "metadata": {
        "colab": {
          "base_uri": "https://localhost:8080/"
        },
        "id": "7FXLUqZoDiDy",
        "outputId": "38dd7cce-0461-486b-9b9f-ed4a59831d5b"
      },
      "source": [
        "text = 'GATGATTGAG'\n",
        "ts = suffix_array(text)\n",
        "print(f'TS: {ts}')\n",
        "print(f'ITS: {its_array(ts)}')\n",
        "print(f'HTR: {lcp_array(\"GATGATTGAG\",ts)} ')\n",
        "sl = subs_lengths(text)\n",
        "print(f'SL: {sl}')\n",
        "print([text[i: i + sl[i]] for i in range(len(sl))])\n",
        "scs(text)"
      ],
      "execution_count": null,
      "outputs": [
        {
          "output_type": "stream",
          "text": [
            "TS: [8, 1, 4, 9, 7, 0, 3, 6, 2, 5]\n",
            "ITS: [5, 1, 8, 6, 2, 9, 7, 4, 0, 3]\n",
            "HTR: [-1, 1, 2, 0, 1, 2, 3, 0, 3, 1] \n",
            "SL: [4, 3, 4, 4, 3, 2, 4, 3, 2, 2, 1]\n",
            "['GATG', 'ATG', 'TGAT', 'GATT', 'ATT', 'TT', 'TGAG', 'GAG', 'AG', 'G', '']\n"
          ],
          "name": "stdout"
        },
        {
          "output_type": "execute_result",
          "data": {
            "text/plain": [
              "['ATG', 'TGAT', 'TT', 'AG']"
            ]
          },
          "metadata": {
            "tags": []
          },
          "execution_count": 20
        }
      ]
    },
    {
      "cell_type": "markdown",
      "metadata": {
        "id": "MbVHjXtIabgI"
      },
      "source": [
        "#Répétitions super Maximales"
      ]
    },
    {
      "cell_type": "code",
      "metadata": {
        "id": "sZopCaTljLMr"
      },
      "source": [
        "def rsm(text:str, alphabet_length=4):\n",
        "  \n",
        "  # first step, retrieve the substring w,\n",
        "  # where w is represened by a local maximain the lcp array (HTR)\n",
        "\n",
        "  # we retrieve both the suffix array\n",
        "  # and lcp array\n",
        "  ts = suffix_array(text)\n",
        "  htr = lcp_array(text,ts)\n",
        "  \n",
        "  # this is our result of local maxes\n",
        "  # each substring is the index and the value\n",
        "  # is an array of his occuring indicies\n",
        "  local_max = {}\n",
        "\n",
        "  # this is a buffer registering the length of the prefix\n",
        "  # our way to find the local minimum\n",
        "  buff = htr[0]\n",
        "\n",
        "  for i in range(len(htr)):\n",
        "\n",
        "    # if we find that the current value is larger than our buffer\n",
        "    # we assign it to our buffer\n",
        "    if htr[i] > buff:\n",
        "      buff = htr[i]\n",
        "\n",
        "    # in the case of equality we do nothing,\n",
        "    # however if the htr[i] is smaller, then\n",
        "    # we would have found a local maxima\n",
        "    else:\n",
        "      if htr[i] < buff:\n",
        "        # we now that the previous index is our maxima and we record k, the count of our word occurences\n",
        "        j = i -1\n",
        "        k = 1\n",
        "        # we get our word using the suffix array\n",
        "        w = text[ts[j]: ts[j] + buff]\n",
        "        # we initialize the table containing the occurences of our w\n",
        "        local_max[w] = []\n",
        "        # for each value in htr[i] that belongs to our local minimum\n",
        "        while htr[j] == buff:\n",
        "          # we append its index to our array\n",
        "          k+=1\n",
        "          local_max[w].append(ts[j])\n",
        "          j-=1\n",
        "        # we also append the previous value to our local maxima\n",
        "        # it's also an occurence based on the definition of htr\n",
        "        local_max[w].append(ts[j])\n",
        "        buff = htr[i]\n",
        "        # if there's more than alphabet_length occurences then the suffixes\n",
        "        # and prefixes can't be unique\n",
        "        if k > alphabet_length:\n",
        "          local_max.pop(w)\n",
        "        \n",
        "    \n",
        "    # local max dictionary containing all the W\n",
        "    # and their occurences\n",
        "    \n",
        "    # TODO: finish excluding the rest\n",
        "    rsm_values = {}\n",
        "    for word in local_max:\n",
        "      prefs = []\n",
        "      suffs = []\n",
        "      for idx in local_max[word]:\n",
        "        pref_index = idx -1\n",
        "        if pref_index >= 0:\n",
        "          prefs.append(text[pref_index])\n",
        "        \n",
        "        suff_index = idx + len(word)\n",
        "        if suff_index < len(text):\n",
        "          suffs.append(text[suff_index])\n",
        "      \n",
        "      if len(prefs) == len(set(prefs)) and len(suffs) == len(set(suffs)):\n",
        "        rsm_values[word] = local_max[word]\n",
        "      \n",
        "\n",
        "  return rsm_values"
      ],
      "execution_count": null,
      "outputs": []
    },
    {
      "cell_type": "code",
      "metadata": {
        "id": "IivB9V_GDQ2C"
      },
      "source": [
        "def rsm_v2(text:str, alphabet_length = 4):\n",
        "  \n",
        "  # first step, retrieve the substring w,\n",
        "  # where w is represened by a local maximain the lcp array (HTR)\n",
        "\n",
        "  # we retrieve both the suffix array\n",
        "  # and lcp array\n",
        "  ts = suffix_array(text)\n",
        "  htr = lcp_array(text,ts)\n",
        "  \n",
        "  # this is our result of local maxes\n",
        "  # each substring is the index and the value\n",
        "  # is an array of his occuring indicies\n",
        "  local_max = {}\n",
        "\n",
        "  # this is a buffer registering the length of the prefix\n",
        "  # our way to find the local minimum\n",
        "  buff = htr[0]\n",
        "\n",
        "  for i in range(len(htr)):\n",
        "\n",
        "    # if we find that the current value is larger than our buffer\n",
        "    # we assign it to our buffer\n",
        "    if htr[i] > buff:\n",
        "      buff = htr[i]\n",
        "      # a larger substring is found, we record the beggining of it's occurence\n",
        "      start = i\n",
        "\n",
        "    # in the case of equality we do nothing,\n",
        "    # however if the htr[i] is smaller, then\n",
        "    # we would have found a local maxima\n",
        "    else:\n",
        "      if htr[i] < buff:\n",
        "        # we set the end of it's occurences\n",
        "        end = i -1\n",
        "        # get it's occurences from the suffix array\n",
        "        if end - start <= 1:\n",
        "          occurences = ts[start: end +1]\n",
        "        occurences = ts[start:end]\n",
        "\n",
        "        # get the word\n",
        "        w = text[ts[end]: ts[end] + buff]\n",
        "\n",
        "        # if the number of occurences is larger than the alphabet length\n",
        "        # there is no way the suffixes and prefixes are unique, so we exclude that case\n",
        "        if len(occurences) <= alphabet_length:\n",
        "          local_max[w] = []        \n",
        "          # for each value in htr[i] that belongs to our local minimum\n",
        "          while htr[end] == buff:\n",
        "            # we append its index to our array\n",
        "            local_max[w].append(ts[end])\n",
        "            end-=1\n",
        "          # we also append the previous value to our local maxima\n",
        "          # it's also an occurence based on the definition of htr\n",
        "          local_max[w].append(ts[end])\n",
        "          buff = htr[i]\n",
        "    \n",
        "    # local max dictionary containing all the W\n",
        "    # and their occurences\n",
        "    \n",
        "    # TODO: finish excluding the rest\n",
        "    rsm_values = {}\n",
        "    for word in local_max:\n",
        "      prefs = []\n",
        "      suffs = []\n",
        "      for idx in local_max[word]:\n",
        "        pref_index = idx -1\n",
        "        if pref_index >= 0:\n",
        "          prefs.append(text[pref_index])\n",
        "        \n",
        "        suff_index = idx + len(word)\n",
        "        if suff_index < len(text):\n",
        "          suffs.append(text[suff_index])\n",
        "      \n",
        "      if len(prefs) == len(set(prefs)) and len(suffs) == len(set(suffs)):\n",
        "        rsm_values[word] = local_max[word]\n",
        "      \n",
        "\n",
        "  return rsm_values"
      ],
      "execution_count": null,
      "outputs": []
    },
    {
      "cell_type": "code",
      "metadata": {
        "colab": {
          "base_uri": "https://localhost:8080/",
          "height": 35
        },
        "id": "YYmNb8dGpm3Q",
        "outputId": "9925ec30-9463-4ef0-8975-a53b9015c0a0"
      },
      "source": [
        "'GATAAGATTGATG'[0+3]"
      ],
      "execution_count": null,
      "outputs": [
        {
          "output_type": "execute_result",
          "data": {
            "application/vnd.google.colaboratory.intrinsic+json": {
              "type": "string"
            },
            "text/plain": [
              "'A'"
            ]
          },
          "metadata": {
            "tags": []
          },
          "execution_count": 23
        }
      ]
    },
    {
      "cell_type": "code",
      "metadata": {
        "colab": {
          "base_uri": "https://localhost:8080/"
        },
        "id": "1rMWPkWvfzAW",
        "outputId": "d4ad1cd6-ccec-49b1-c8c8-769358fad2a5"
      },
      "source": [
        "rsm('GATAAGATTGATG')"
      ],
      "execution_count": null,
      "outputs": [
        {
          "output_type": "execute_result",
          "data": {
            "text/plain": [
              "{'GAT': [5, 9, 0], 'TG': [8, 11]}"
            ]
          },
          "metadata": {
            "tags": []
          },
          "execution_count": 24
        }
      ]
    },
    {
      "cell_type": "code",
      "metadata": {
        "colab": {
          "base_uri": "https://localhost:8080/"
        },
        "id": "66hKnkTXE9of",
        "outputId": "1dfcb749-c2f4-4477-cb29-dd3551c5c716"
      },
      "source": [
        "rsm_v2('GATAAGATTGATG')"
      ],
      "execution_count": null,
      "outputs": [
        {
          "output_type": "execute_result",
          "data": {
            "text/plain": [
              "{'GAT': [5, 9, 0], 'TG': [8, 11]}"
            ]
          },
          "metadata": {
            "tags": []
          },
          "execution_count": 25
        }
      ]
    },
    {
      "cell_type": "markdown",
      "metadata": {
        "id": "qDIDYZmpA1bA"
      },
      "source": [
        "#Data Analysis\n"
      ]
    },
    {
      "cell_type": "code",
      "metadata": {
        "colab": {
          "base_uri": "https://localhost:8080/"
        },
        "id": "D9G_9N_EA04K",
        "outputId": "bf0c4d7b-9102-4637-ee8a-cc05d775763b"
      },
      "source": [
        "# imoprting dependencies\n",
        "import pandas as pd\n",
        "print(pd.__version__)"
      ],
      "execution_count": null,
      "outputs": [
        {
          "output_type": "stream",
          "text": [
            "1.1.5\n"
          ],
          "name": "stdout"
        }
      ]
    },
    {
      "cell_type": "code",
      "metadata": {
        "id": "kOzXOR9fBETT"
      },
      "source": [
        "# defining the Data Shape\n",
        "needle_lengths = [4, 8, 12, 20, 30, 50]\n",
        "haystack_lengths = [1000, 2000, 6000, 10000, 20000, 60000, 80000, 100000]\n",
        "importData=False"
      ],
      "execution_count": null,
      "outputs": []
    },
    {
      "cell_type": "code",
      "metadata": {
        "id": "Emhf0JVZBU1k"
      },
      "source": [
        "# Function for generating random dna Sequences\n",
        "from random import randint\n",
        "def generate_dna(length: int):\n",
        "        ADN = ''\n",
        "        for i in range(0,length):\n",
        "            ADN+='ACGT'[randint(0,3)]\n",
        "        return ADN\n",
        "\n",
        "# Generate random dna sequences from a larger text\n",
        "def generate_from(text:str, length:int):\n",
        "  start = randint(0,len(text) - length)\n",
        "  return text[start:start+length]"
      ],
      "execution_count": null,
      "outputs": []
    },
    {
      "cell_type": "code",
      "metadata": {
        "id": "K3yoDnjmBdzc"
      },
      "source": [
        "# Generating the Haystacks\n",
        "def generate_haystacks():\n",
        "  dnaList = []\n",
        "  lengthsList = []\n",
        "  for y in haystack_lengths:\n",
        "    for x in range(10):\n",
        "      dnaList.append(generate_dna(y))\n",
        "      lengthsList.append(y)\n",
        "  return (dnaList, lengthsList)\n",
        "if not importData:\n",
        "  # haystacks = pd.Series([generate_dna(y) for y in haystack_lengths])\n",
        "  data = generate_haystacks()\n",
        "  dataset = pd.DataFrame({'haystack':data[0],'haystack_length':data[1]})\n"
      ],
      "execution_count": null,
      "outputs": []
    },
    {
      "cell_type": "code",
      "metadata": {
        "id": "jmNheNMzCzMR",
        "colab": {
          "base_uri": "https://localhost:8080/",
          "height": 417
        },
        "outputId": "d18b5ddb-c3f2-4dcc-bbb9-120e37afd0b3"
      },
      "source": [
        "dataset"
      ],
      "execution_count": null,
      "outputs": [
        {
          "output_type": "execute_result",
          "data": {
            "text/html": [
              "<div>\n",
              "<style scoped>\n",
              "    .dataframe tbody tr th:only-of-type {\n",
              "        vertical-align: middle;\n",
              "    }\n",
              "\n",
              "    .dataframe tbody tr th {\n",
              "        vertical-align: top;\n",
              "    }\n",
              "\n",
              "    .dataframe thead th {\n",
              "        text-align: right;\n",
              "    }\n",
              "</style>\n",
              "<table border=\"1\" class=\"dataframe\">\n",
              "  <thead>\n",
              "    <tr style=\"text-align: right;\">\n",
              "      <th></th>\n",
              "      <th>haystack</th>\n",
              "      <th>haystack_length</th>\n",
              "    </tr>\n",
              "  </thead>\n",
              "  <tbody>\n",
              "    <tr>\n",
              "      <th>0</th>\n",
              "      <td>AAGGCAGTTAATGCCGTTGTCGCCTTTTATGATAATAAAAGACTAT...</td>\n",
              "      <td>1000</td>\n",
              "    </tr>\n",
              "    <tr>\n",
              "      <th>1</th>\n",
              "      <td>CGTTCGTCCATCTACCGTCGAAATAACAGACAATACATGGGTCCTG...</td>\n",
              "      <td>1000</td>\n",
              "    </tr>\n",
              "    <tr>\n",
              "      <th>2</th>\n",
              "      <td>TTAAGGGCCAACACCCCTGGGTGCATATCTGACCCATACGATACGC...</td>\n",
              "      <td>1000</td>\n",
              "    </tr>\n",
              "    <tr>\n",
              "      <th>3</th>\n",
              "      <td>TGCGGGTGTCCCTTGTAATGATCCAGCGCAGGGAAGGTCCCAGCAA...</td>\n",
              "      <td>1000</td>\n",
              "    </tr>\n",
              "    <tr>\n",
              "      <th>4</th>\n",
              "      <td>ATCTCGTTCTGTGTGGGTGAACGCGGGCGTGCGGATGGTTGACCTG...</td>\n",
              "      <td>1000</td>\n",
              "    </tr>\n",
              "    <tr>\n",
              "      <th>...</th>\n",
              "      <td>...</td>\n",
              "      <td>...</td>\n",
              "    </tr>\n",
              "    <tr>\n",
              "      <th>85</th>\n",
              "      <td>AAGAGCGCTCCCGACAGCAAAGAAGGCGGAGCTTATTTCCGCACGG...</td>\n",
              "      <td>200000</td>\n",
              "    </tr>\n",
              "    <tr>\n",
              "      <th>86</th>\n",
              "      <td>CGTCGTGCGCACCACGCGGGGAGTAGTACAACGCTGGACCCCCATT...</td>\n",
              "      <td>200000</td>\n",
              "    </tr>\n",
              "    <tr>\n",
              "      <th>87</th>\n",
              "      <td>CAGGAGCTTTCACCCCCAGGGTCGTTGGTCGGATGGAGATACATTC...</td>\n",
              "      <td>200000</td>\n",
              "    </tr>\n",
              "    <tr>\n",
              "      <th>88</th>\n",
              "      <td>GAGGGGGAAACGAGGTATAACCGCCAGAAGCTGGCTAAACGAGCAG...</td>\n",
              "      <td>200000</td>\n",
              "    </tr>\n",
              "    <tr>\n",
              "      <th>89</th>\n",
              "      <td>GGGTGCGGCGAGTGAAACTATCGTGTCTAGGTAATGCCGGCAGACG...</td>\n",
              "      <td>200000</td>\n",
              "    </tr>\n",
              "  </tbody>\n",
              "</table>\n",
              "<p>90 rows × 2 columns</p>\n",
              "</div>"
            ],
            "text/plain": [
              "                                             haystack  haystack_length\n",
              "0   AAGGCAGTTAATGCCGTTGTCGCCTTTTATGATAATAAAAGACTAT...             1000\n",
              "1   CGTTCGTCCATCTACCGTCGAAATAACAGACAATACATGGGTCCTG...             1000\n",
              "2   TTAAGGGCCAACACCCCTGGGTGCATATCTGACCCATACGATACGC...             1000\n",
              "3   TGCGGGTGTCCCTTGTAATGATCCAGCGCAGGGAAGGTCCCAGCAA...             1000\n",
              "4   ATCTCGTTCTGTGTGGGTGAACGCGGGCGTGCGGATGGTTGACCTG...             1000\n",
              "..                                                ...              ...\n",
              "85  AAGAGCGCTCCCGACAGCAAAGAAGGCGGAGCTTATTTCCGCACGG...           200000\n",
              "86  CGTCGTGCGCACCACGCGGGGAGTAGTACAACGCTGGACCCCCATT...           200000\n",
              "87  CAGGAGCTTTCACCCCCAGGGTCGTTGGTCGGATGGAGATACATTC...           200000\n",
              "88  GAGGGGGAAACGAGGTATAACCGCCAGAAGCTGGCTAAACGAGCAG...           200000\n",
              "89  GGGTGCGGCGAGTGAAACTATCGTGTCTAGGTAATGCCGGCAGACG...           200000\n",
              "\n",
              "[90 rows x 2 columns]"
            ]
          },
          "metadata": {
            "tags": []
          },
          "execution_count": 30
        }
      ]
    },
    {
      "cell_type": "code",
      "metadata": {
        "id": "7UConoBmBPwv"
      },
      "source": [
        "# indexing the haystack\n",
        "\n",
        "def generate_suffix_array(row):\n",
        "  text = row['haystack']\n",
        "  import time\n",
        "  start_naive_time = time.perf_counter_ns()\n",
        "  suff_arr = suffix_table(text)\n",
        "  end_naive_time = time.perf_counter_ns()\n",
        "\n",
        "  # start_smarter_time = time.perf_counter_ns()\n",
        "  # suffix_array(text)\n",
        "  # end_smarter_time = time.perf_counter_ns()\n",
        "\n",
        "  # return (end_naive_time - start_naive_time,\n",
        "  #         suff_arr,\n",
        "  #         end_smarter_time - start_smarter_time)\n",
        "  return (end_naive_time - start_naive_time,\n",
        "          suff_arr)\n",
        "\n",
        "dataset[['naive_time' ,'suffix_array']] = dataset.apply(generate_suffix_array, axis=1, result_type='expand')"
      ],
      "execution_count": null,
      "outputs": []
    },
    {
      "cell_type": "code",
      "metadata": {
        "id": "OX8fiVt-wQKH"
      },
      "source": [
        "dataset[[ 'haystack_length', 'naive_time' ,'suffix_array']].head()"
      ],
      "execution_count": null,
      "outputs": []
    },
    {
      "cell_type": "code",
      "metadata": {
        "id": "NliCY5gCAsOw"
      },
      "source": [
        "# generating the needles\n",
        "if not importData:\n",
        "  dataset['needle'] = dataset.apply(lambda row: [generate_from(row['haystack'], length) for length in needle_lengths], axis=1)\n",
        "  dataset = dataset.explode('needle')"
      ],
      "execution_count": null,
      "outputs": []
    },
    {
      "cell_type": "code",
      "metadata": {
        "id": "3jvgiatBCIXd"
      },
      "source": [
        "dataset['needle_length'] = dataset.apply(lambda row: len(row['needle']),axis=1)"
      ],
      "execution_count": null,
      "outputs": []
    },
    {
      "cell_type": "code",
      "metadata": {
        "id": "-kO9JbLBAuVB"
      },
      "source": [
        "dataset.head()"
      ],
      "execution_count": null,
      "outputs": []
    },
    {
      "cell_type": "code",
      "metadata": {
        "id": "0NvkGrjdBPwv"
      },
      "source": [
        "# testing the suffix array search\n",
        "\n",
        "def search_time(row):\n",
        "    \n",
        "    needle = row['needle']\n",
        "    haystack = row['haystack']\n",
        "    suff_arr = row['suffix_array']\n",
        "    \n",
        "    import time\n",
        "    startTime = time.perf_counter_ns()\n",
        "    search_with_suffix(haystack, needle, suff_arr)\n",
        "    endTime = time.perf_counter_ns()\n",
        "    return endTime - startTime"
      ],
      "execution_count": null,
      "outputs": []
    },
    {
      "cell_type": "code",
      "metadata": {
        "id": "UYDeEGRNBPwv"
      },
      "source": [
        "# dataset['time_suffix_search'] = \n",
        "\n",
        "# dataset.assign(**testing_suffix_array_search())\n",
        "needle_row_names = [f'needle_{x}' for x in needle_lengths]\n",
        "\n",
        "dataset['search_time'] = dataset.apply(lambda row: search_time(row), axis=1)"
      ],
      "execution_count": null,
      "outputs": []
    },
    {
      "cell_type": "code",
      "metadata": {
        "id": "4zlnMtYkBPww"
      },
      "source": [
        "dataset.head()"
      ],
      "execution_count": null,
      "outputs": []
    },
    {
      "cell_type": "markdown",
      "metadata": {
        "id": "TQARSzcNXM2y"
      },
      "source": [
        "##Data Visualization"
      ]
    },
    {
      "cell_type": "markdown",
      "metadata": {
        "id": "Qf7-vuHDY9Rd"
      },
      "source": [
        "### Suffix array Construction"
      ]
    },
    {
      "cell_type": "code",
      "metadata": {
        "id": "TA0eMpcXXPBP"
      },
      "source": [
        "# Plotting the Execution Time of the four algorithms\n",
        "\n",
        "import matplotlib.pyplot as plt\n",
        "from matplotlib.pyplot import figure\n",
        "\n",
        "figure(figsize=(8, 6), dpi=80)\n",
        "\n",
        "plt.scatter(dataset['haystack_length'],dataset['smarter_time'],label='Approche Efficace')\n",
        "plt.scatter(dataset['haystack_length'],dataset['naive_time'],label='Approche Naîve')\n",
        "\n",
        "motifs = ','.join([str(n) for n in needle_lengths])\n",
        "\n",
        "plt.title(f'Suffix array construction time ')\n",
        "# Set the y axis label of the current axis.\n",
        "plt.xlabel('Taille du Texte')\n",
        "plt.ylabel('Temps d\\'éxécution')\n",
        "# show a legend on the plot\n",
        "plt.legend()\n",
        "\n",
        "fig1 = plt.gcf()\n",
        "# Display a figure.\n",
        "plt.show()\n",
        "fig1.savefig(f'Graph.png')"
      ],
      "execution_count": null,
      "outputs": []
    },
    {
      "cell_type": "markdown",
      "metadata": {
        "id": "mm18rXlkZCT_"
      },
      "source": [
        "### Search performance"
      ]
    },
    {
      "cell_type": "code",
      "metadata": {
        "colab": {
          "base_uri": "https://localhost:8080/"
        },
        "id": "PyW6YKwmFoJD",
        "outputId": "9b57eb21-085f-40a6-d7d5-a26c490f4386"
      },
      "source": [
        "size_data = dataset[dataset.haystack_length == 1000]\n",
        "size_data['needle_length'].unique()"
      ],
      "execution_count": null,
      "outputs": [
        {
          "output_type": "execute_result",
          "data": {
            "text/plain": [
              "array([ 4,  8, 12, 20, 30, 50])"
            ]
          },
          "metadata": {
            "tags": []
          },
          "execution_count": 40
        }
      ]
    },
    {
      "cell_type": "code",
      "metadata": {
        "colab": {
          "base_uri": "https://localhost:8080/",
          "height": 444
        },
        "id": "X4PD8Ky5BdvR",
        "outputId": "179d0556-8db8-4a41-b536-530f677b5ab1"
      },
      "source": [
        "# Plotting the Execution Time of the four algorithms\n",
        "\n",
        "import matplotlib.pyplot as plt\n",
        "from matplotlib.pyplot import figure\n",
        "\n",
        "figure(figsize=(8, 6), dpi=80)\n",
        "\n",
        "for haysize in dataset['haystack_length'].unique():\n",
        "  size_data = dataset[dataset.haystack_length == haysize]\n",
        "  # plt.scatter(size_data['needle_length'],size_data['search_time'],label=f'Taille {haysize}')\n",
        "  plt.plot(size_data['needle_length'].unique(),size_data.groupby('needle_length').mean()['search_time'],label=f'Taille {haysize}')\n",
        "# plt.plot(dataset['haystack_length'],dataset['naive_time'],label='Approche Naîve')\n",
        "\n",
        "# motifs = ','.join([str(n) for n in needle_lengths])\n",
        "\n",
        "plt.title(f'Temps d\\'execution')\n",
        "# Set the y axis label of the current axis.\n",
        "plt.xlabel('Taille du Motif')\n",
        "plt.ylabel('Temps d\\'éxécution')\n",
        "# show a legend on the plot\n",
        "plt.legend()\n",
        "\n",
        "fig1 = plt.gcf()\n",
        "# Display a figure.\n",
        "plt.show()\n",
        "fig1.savefig(f'Graph.png')"
      ],
      "execution_count": null,
      "outputs": [
        {
          "output_type": "display_data",
          "data": {
            "image/png": "[encoded data removed]",
            "text/plain": [
              "<Figure size 640x480 with 1 Axes>"
            ]
          },
          "metadata": {
            "tags": [],
            "needs_background": "light"
          }
        }
      ]
    },
    {
      "cell_type": "markdown",
      "metadata": {
        "id": "HkKpNQ8mFIa7"
      },
      "source": [
        "#haw wch lazem dir"
      ]
    },
    {
      "cell_type": "code",
      "metadata": {
        "colab": {
          "base_uri": "https://localhost:8080/"
        },
        "id": "RAyyGIHXgjq5",
        "outputId": "e8331454-1de9-466a-a2ff-392a2a38c326"
      },
      "source": [
        "from\tbisect\timport\tbisect_left,\tbisect_right\n",
        "\n",
        "text\t= 'CACGTACGTACTA'\n",
        "#create the suffixes table\n",
        "suffixes= sorted([text[i:]\tfor\ti\tin range(len(text))]) \n",
        "\n",
        "#search of needle if exist in the text using 'devision du tableau par deux' \"only 1 occurence\"\n",
        "st,\ten\t=\tbisect_left(suffixes,\t'TA'), bisect_right(suffixes,\t'TA')   \n",
        "\n",
        "print(st,\ten)\n",
        "print(suffixes)"
      ],
      "execution_count": null,
      "outputs": [
        {
          "output_type": "stream",
          "text": [
            "10 11\n",
            "['A', 'ACGTACGTACTA', 'ACGTACTA', 'ACTA', 'CACGTACGTACTA', 'CGTACGTACTA', 'CGTACTA', 'CTA', 'GTACGTACTA', 'GTACTA', 'TA', 'TACGTACTA', 'TACTA']\n"
          ],
          "name": "stdout"
        }
      ]
    }
  ]
}