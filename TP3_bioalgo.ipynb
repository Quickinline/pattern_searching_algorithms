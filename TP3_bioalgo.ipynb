{
 "cells": [
  {
   "cell_type": "markdown",
   "metadata": {
    "id": "EZUlFQI8gE7h"
   },
   "source": [
    "# Suffix Array"
   ]
  },
  {
   "cell_type": "markdown",
   "metadata": {
    "id": "SWJtJqtcorha"
   },
   "source": [
    "## Construction\n"
   ]
  },
  {
   "cell_type": "code",
   "execution_count": 1,
   "metadata": {
    "colab": {
     "base_uri": "https://localhost:8080/"
    },
    "id": "WKvhMAjPgBE7",
    "outputId": "85424a6e-3447-4fda-ccb2-23513e552889"
   },
   "outputs": [
    {
     "data": {
      "text/plain": [
       "[12, 1, 5, 9, 0, 2, 6, 10, 3, 7, 11, 4, 8]"
      ]
     },
     "execution_count": 1,
     "metadata": {},
     "output_type": "execute_result"
    }
   ],
   "source": [
    "\n",
    "# naive algorithm O(n²)\n",
    "def suffix_table (text:str):\n",
    "    n = len(text)\n",
    "    suffixes = []\n",
    "    for i in range(n):\n",
    "        suffix = text[i:]\n",
    "        suffixes.append(suffix)\n",
    "    suffixes.sort()\n",
    "\n",
    "    table = []\n",
    "    for suffix in suffixes:\n",
    "        table.append(n - len(suffix))\n",
    "\n",
    "    return table\n",
    "\n",
    "\n",
    "suffix_table('CACGTACGTACTA')"
   ]
  },
  {
   "cell_type": "code",
   "execution_count": 43,
   "metadata": {
    "colab": {
     "base_uri": "https://localhost:8080/"
    },
    "id": "qsl_vmDa-gmp",
    "outputId": "171b9214-dabc-444e-df0e-2647d00634e1"
   },
   "outputs": [
    {
     "data": {
      "text/plain": [
       "[12, 1, 5, 9, 0, 2, 6, 10, 3, 7, 11, 4, 8]"
      ]
     },
     "execution_count": 43,
     "metadata": {},
     "output_type": "execute_result"
    }
   ],
   "source": [
    "# Better Approach\n",
    "# https://www.youtube.com/watch?v=_TUeAdu-U_k\n",
    "\n",
    "def suffix_array(text:str):\n",
    "  n = len(text)\n",
    "\n",
    "  # convert text to list of ASCII Values\n",
    "  text_values = [ord(text[x]) - ord('A') for x in range(n)]\n",
    "\n",
    "  main_vals = text_values\n",
    "  b = len(main_vals) != len(set(main_vals))\n",
    "  i= 1\n",
    "  while b:\n",
    "\n",
    "    # extract a set of tuples, each tuples representing the first two characters of each suffix\n",
    "    two_tuples = [(main_vals[i],main_vals[i+1] if i+1 < n else -1) for i in range(n)]\n",
    "\n",
    "\n",
    "    # sorting the list of tuples and assigning ranks\n",
    "    sorted_tuples = sorted(two_tuples)\n",
    "    \n",
    "    # convert tuples to their ranking\n",
    "    conversion_dict = {}\n",
    "\n",
    "    for x in range(len(sorted_tuples)):\n",
    "      if x - 1 < 0 or (sorted_tuples[x-1] != sorted_tuples[x]):\n",
    "        conversion_dict[sorted_tuples[x]] = x\n",
    "    \n",
    "    # construct a list of the tuple's ranking as our new array order\n",
    "    main_vals = [conversion_dict[x] for x in two_tuples]\n",
    "\n",
    "    b = len(main_vals) != len(set(main_vals))\n",
    "    i+=1\n",
    "  \n",
    "  # now all the values of main_vals are unique\n",
    "  \n",
    "  output = [-1 for x in range(len(main_vals))]\n",
    "  for i in range(len(main_vals)):\n",
    "    output[main_vals[i]] = i\n",
    "  \n",
    "  return output\n",
    "\n",
    "suffix_array('CACGTACGTACTA')"
   ]
  },
  {
   "cell_type": "markdown",
   "metadata": {
    "id": "U4K2nbTUot-k"
   },
   "source": [
    "##Search\n"
   ]
  },
  {
   "cell_type": "code",
   "execution_count": 91,
   "metadata": {
    "id": "pB1FhpuR0r-n"
   },
   "outputs": [],
   "source": [
    "def search_with_suffix(text:str, pattern:str, suffixes:list):\n",
    "  # defining lengths\n",
    "  n = len(text)\n",
    "  m = len(pattern)\n",
    "\n",
    "  # defining the beginning and end indicies\n",
    "  d = 0\n",
    "  f = n -1\n",
    "\n",
    "  while d < f:\n",
    "    middle = int((d + f) /2)\n",
    "#     print(f'd = {d}, f = {f} ')\n",
    "#     print(f'middle is {middle} => {suffixes[middle]}')\n",
    "#     print(f'is  {pattern} < {text[suffixes[middle]:]}')\n",
    "    if pattern <= text[suffixes[middle]:]:\n",
    "      f = middle\n",
    "    else:\n",
    "      d = middle + 1\n",
    "#   print(f'first d = {d} and f = {f}')\n",
    "  deb = d\n",
    "\n",
    "  f = n -1\n",
    "  while d < f:\n",
    "    middle = int((d + f) /2)\n",
    "#     print(f'd = {d}, f = {f} ')\n",
    "#     print(f'middle is {middle} => {suffixes[middle]}')\n",
    "#     print(f'is  {pattern} = {text[suffixes[middle]:suffixes[middle] + m]}')\n",
    "    if pattern == text[suffixes[middle]: suffixes[middle] + m]:\n",
    "      d = middle +1\n",
    "    else:\n",
    "      f = middle -1\n",
    "#   print(f'second d = {d} and f = {f}')\n",
    "  fin = f +1\n",
    "\n",
    "  return suffixes[deb:fin]"
   ]
  },
  {
   "cell_type": "code",
   "execution_count": 4,
   "metadata": {
    "id": "rzP2Eq0Iezfr"
   },
   "outputs": [
    {
     "name": "stdout",
     "output_type": "stream",
     "text": [
      "[(0, 38, 'A'),\n",
      " (1, 25, 'ACACGTACGTACTA'),\n",
      " (2, 12, 'ACACGTACGTACTACACGTACGTACTA'),\n",
      " (3, 27, 'ACGTACGTACTA'),\n",
      " (4, 14, 'ACGTACGTACTACACGTACGTACTA'),\n",
      " (5, 1, 'ACGTACGTACTACACGTACGTACTACACGTACGTACTA'),\n",
      " (6, 31, 'ACGTACTA'),\n",
      " (7, 18, 'ACGTACTACACGTACGTACTA'),\n",
      " (8, 5, 'ACGTACTACACGTACGTACTACACGTACGTACTA'),\n",
      " (9, 35, 'ACTA'),\n",
      " (10, 22, 'ACTACACGTACGTACTA'),\n",
      " (11, 9, 'ACTACACGTACGTACTACACGTACGTACTA'),\n",
      " (12, 26, 'CACGTACGTACTA'),\n",
      " (13, 13, 'CACGTACGTACTACACGTACGTACTA'),\n",
      " (14, 0, 'CACGTACGTACTACACGTACGTACTACACGTACGTACTA'),\n",
      " (15, 28, 'CGTACGTACTA'),\n",
      " (16, 15, 'CGTACGTACTACACGTACGTACTA'),\n",
      " (17, 2, 'CGTACGTACTACACGTACGTACTACACGTACGTACTA'),\n",
      " (18, 32, 'CGTACTA'),\n",
      " (19, 19, 'CGTACTACACGTACGTACTA'),\n",
      " (20, 6, 'CGTACTACACGTACGTACTACACGTACGTACTA'),\n",
      " (21, 36, 'CTA'),\n",
      " (22, 23, 'CTACACGTACGTACTA'),\n",
      " (23, 10, 'CTACACGTACGTACTACACGTACGTACTA'),\n",
      " (24, 29, 'GTACGTACTA'),\n",
      " (25, 16, 'GTACGTACTACACGTACGTACTA'),\n",
      " (26, 3, 'GTACGTACTACACGTACGTACTACACGTACGTACTA'),\n",
      " (27, 33, 'GTACTA'),\n",
      " (28, 20, 'GTACTACACGTACGTACTA'),\n",
      " (29, 7, 'GTACTACACGTACGTACTACACGTACGTACTA'),\n",
      " (30, 37, 'TA'),\n",
      " (31, 24, 'TACACGTACGTACTA'),\n",
      " (32, 11, 'TACACGTACGTACTACACGTACGTACTA'),\n",
      " (33, 30, 'TACGTACTA'),\n",
      " (34, 17, 'TACGTACTACACGTACGTACTA'),\n",
      " (35, 4, 'TACGTACTACACGTACGTACTACACGTACGTACTA'),\n",
      " (36, 34, 'TACTA'),\n",
      " (37, 21, 'TACTACACGTACGTACTA'),\n",
      " (38, 8, 'TACTACACGTACGTACTACACGTACGTACTA')]\n",
      "d = 0, f = 38 \n",
      "middle is 19 => 19\n",
      "is  TAC < CGTACTACACGTACGTACTA\n",
      "d = 20, f = 38 \n",
      "middle is 29 => 7\n",
      "is  TAC < GTACTACACGTACGTACTACACGTACGTACTA\n",
      "d = 30, f = 38 \n",
      "middle is 34 => 17\n",
      "is  TAC < TACGTACTACACGTACGTACTA\n",
      "d = 30, f = 34 \n",
      "middle is 32 => 11\n",
      "is  TAC < TACACGTACGTACTACACGTACGTACTA\n",
      "d = 30, f = 32 \n",
      "middle is 31 => 24\n",
      "is  TAC < TACACGTACGTACTA\n",
      "d = 30, f = 31 \n",
      "middle is 30 => 37\n",
      "is  TAC < TA\n",
      "first d = 31 and f = 31\n",
      "d = 31, f = 38 \n",
      "middle is 34 => 17\n",
      "is  TAC = TAC\n",
      "d = 35, f = 38 \n",
      "middle is 36 => 34\n",
      "is  TAC = TAC\n",
      "d = 37, f = 38 \n",
      "middle is 37 => 21\n",
      "is  TAC = TAC\n",
      "second d = 38 and f = 38\n"
     ]
    },
    {
     "data": {
      "text/plain": [
       "[24, 11, 30, 17, 4, 34, 21, 8]"
      ]
     },
     "execution_count": 4,
     "metadata": {},
     "output_type": "execute_result"
    }
   ],
   "source": [
    "from pprint import pprint\n",
    "text= 'CACGTACGTACTACACGTACGTACTACACGTACGTACTA'\n",
    "sf_ar = suffix_array(text)\n",
    "pprint([ (x,sf_ar[x],text[sf_ar[x]:]) for x in range(len(sf_ar))])\n",
    "search_with_suffix(text,'TAC',suffix_array(text))"
   ]
  },
  {
   "cell_type": "code",
   "execution_count": 5,
   "metadata": {
    "id": "Mxw__1CGhsLT"
   },
   "outputs": [
    {
     "name": "stdout",
     "output_type": "stream",
     "text": [
      "[12, 1, 5, 9, 0, 2, 6, 10, 3, 7, 11, 4, 8]\n",
      "d = 0, f = 12 \n",
      "middle is 6 => 6\n",
      "is  TAC < CGTACTA\n",
      "d = 7, f = 12 \n",
      "middle is 9 => 7\n",
      "is  TAC < GTACTA\n",
      "d = 10, f = 12 \n",
      "middle is 11 => 4\n",
      "is  TAC < TACGTACTA\n",
      "d = 10, f = 11 \n",
      "middle is 10 => 11\n",
      "is  TAC < TA\n",
      "first d = 11 and f = 11\n",
      "d = 11, f = 12 \n",
      "middle is 11 => 4\n",
      "is  TAC = TAC\n",
      "second d = 12 and f = 12\n"
     ]
    },
    {
     "data": {
      "text/plain": [
       "[4, 8]"
      ]
     },
     "execution_count": 5,
     "metadata": {},
     "output_type": "execute_result"
    }
   ],
   "source": [
    "print(suffix_array('CACGTACGTACTA'))\n",
    "search_with_suffix('CACGTACGTACTA','TAC',suffix_array('CACGTACGTACTA'))"
   ]
  },
  {
   "cell_type": "code",
   "execution_count": 6,
   "metadata": {
    "id": "SXzfGEVZOxmK"
   },
   "outputs": [
    {
     "name": "stdout",
     "output_type": "stream",
     "text": [
      "[12, 1, 5, 9, 0, 2, 6, 10, 3, 7, 11, 4, 8]\n",
      "d = 0, f = 12 \n",
      "middle is 6 => 6\n",
      "is  CGT < CGTACTA\n",
      "d = 0, f = 6 \n",
      "middle is 3 => 9\n",
      "is  CGT < ACTA\n",
      "d = 4, f = 6 \n",
      "middle is 5 => 2\n",
      "is  CGT < CGTACGTACTA\n",
      "d = 4, f = 5 \n",
      "middle is 4 => 0\n",
      "is  CGT < CACGTACGTACTA\n",
      "first d = 5 and f = 5\n",
      "d = 5, f = 12 \n",
      "middle is 8 => 3\n",
      "is  CGT = GTA\n",
      "d = 5, f = 7 \n",
      "middle is 6 => 6\n",
      "is  CGT = CGT\n",
      "second d = 7 and f = 7\n"
     ]
    },
    {
     "data": {
      "text/plain": [
       "[2, 6, 10]"
      ]
     },
     "execution_count": 6,
     "metadata": {},
     "output_type": "execute_result"
    }
   ],
   "source": [
    "print(suffix_array('CACGTACGTACTA'))\n",
    "search_with_suffix('CACGTACGTACTA','CGT',suffix_array('CACGTACGTACTA'))"
   ]
  },
  {
   "cell_type": "code",
   "execution_count": 7,
   "metadata": {
    "id": "FTtxMu_6nXgC"
   },
   "outputs": [
    {
     "name": "stdout",
     "output_type": "stream",
     "text": [
      "[2, 6, 1, 4, 5, 0, 3]\n",
      "['ATCGC', 'C', 'CATCGC', 'CGC', 'GC', 'GCATCGC', 'TCGC']\n",
      "d = 0, f = 6 \n",
      "middle is 3 => 4\n",
      "is  ATC < CGC\n",
      "d = 0, f = 3 \n",
      "middle is 1 => 6\n",
      "is  ATC < C\n",
      "d = 0, f = 1 \n",
      "middle is 0 => 2\n",
      "is  ATC < ATCGC\n",
      "first d = 0 and f = 0\n",
      "d = 0, f = 6 \n",
      "middle is 3 => 4\n",
      "is  ATC = CGC\n",
      "d = 0, f = 2 \n",
      "middle is 1 => 6\n",
      "is  ATC = C\n",
      "second d = 0 and f = 0\n"
     ]
    },
    {
     "data": {
      "text/plain": [
       "[2]"
      ]
     },
     "execution_count": 7,
     "metadata": {},
     "output_type": "execute_result"
    }
   ],
   "source": [
    "text = 'GCATCGC'\n",
    "print(suffix_array(text))\n",
    "print([text[i:] for i in suffix_array(text) ])\n",
    "search_with_suffix(text,'ATC',suffix_array(text))"
   ]
  },
  {
   "cell_type": "markdown",
   "metadata": {
    "id": "FG12Rn-ToxY9"
   },
   "source": [
    "#LCP Array (HTR)\n",
    "Longest Common Prefix"
   ]
  },
  {
   "cell_type": "code",
   "execution_count": 8,
   "metadata": {
    "id": "TGo7Uz5WuQtH"
   },
   "outputs": [],
   "source": [
    "# def lcp(s1:str, s2:str, n=None):\n",
    "#   \"\"\"\n",
    "#   Recursive function to return \n",
    "#   the length of the longest common prefix of two given strings\n",
    "#   \"\"\"\n",
    "#   # if n isn't specified(first run) we assign it the length if the shortest strings\n",
    "#   # minus 1 because indexing starts at 0\n",
    "#   if n is None:\n",
    "#     m = len(s1)\n",
    "#     l = len(s2)\n",
    "#     n = (m if m < l else l) -1\n",
    "  \n",
    "#   # if n is zero it means that there are no\n",
    "#   # common prefixes in this string\n",
    "#   if n==0:\n",
    "#     return 0\n",
    "  \n",
    "#   if s1[:n] == s2[:n]:\n",
    "#     return n\n",
    "#   else:\n",
    "#     return lcp(s1,s2, n -1)\n"
   ]
  },
  {
   "cell_type": "code",
   "execution_count": 9,
   "metadata": {
    "id": "9G-sApN5kiSC"
   },
   "outputs": [],
   "source": [
    "def lcp_length(s1:str, s2:str, n=0):\n",
    "  \"\"\"\n",
    "  Recursive function to return \n",
    "  the length of the longest common prefix of two given strings\n",
    "  \"\"\"\n",
    "  # if the current n character matches\n",
    "  if s1[n] == s2[n]:\n",
    "    # if we can't compare the following characters, we return one\n",
    "    if n == len(s1)-1 or n == len(s2)-1:\n",
    "      return 1\n",
    "    # if we can compare the following characters, we compare them\n",
    "    return 1 + lcp_length(s1,s2,n+1)\n",
    "  # if this comparison failed, we return 0\n",
    "  else:\n",
    "    return 0\n",
    "\n",
    "def lcp_lengths(strings:list, n=0):\n",
    "  # initialize lengths\n",
    "  m = len(strings)\n",
    "  min_length = min([len(s) for s in strings])\n",
    "\n",
    "  char_val = strings[0][n]\n",
    "  i = 1\n",
    "\n",
    "  while i < m and char_val == strings[i][n]:\n",
    "    i+=1\n",
    "\n",
    "  # if all strings have the same nth character  \n",
    "  if i == m:\n",
    "    # we check if the next character still falls under the min_length\n",
    "    if n + 1 < min_length:\n",
    "      # if it does, we recurse\n",
    "      return 1 + lcp_lengths(strings, n+1)\n",
    "    else:\n",
    "      return 1\n",
    "  else:\n",
    "    # there's a mismatch\n",
    "    return 0\n",
    "\n",
    "\n",
    "def lcp_array(text:str,suff_arr:list, k= 2):\n",
    "  # the first element of the lcp array is always undefined\n",
    "  # so we set it to -1 because no length is -1\n",
    "  output= [-1 for k in range(k-1)]\n",
    "  # for each element in the suffix array\n",
    "  for i in range(1,len(suff_arr)):\n",
    "    # current suffix from the suffix array\n",
    "    curr_suffix = text[suff_arr[i]:]\n",
    "\n",
    "    # previous suffix from the suffix array\n",
    "    prev_suffix = text[suff_arr[i-1]:]\n",
    "\n",
    "    suffixes = [text[suff_arr[i-k]:] for k in range(k)]\n",
    "    # appending the lcp length of the two\n",
    "    output.append(lcp_lengths(suffixes))\n",
    "\n",
    "  return output"
   ]
  },
  {
   "cell_type": "code",
   "execution_count": 10,
   "metadata": {
    "colab": {
     "base_uri": "https://localhost:8080/"
    },
    "id": "R1NQH-pipwG_",
    "outputId": "587b3cba-3754-4352-be04-26998a07b154"
   },
   "outputs": [
    {
     "data": {
      "text/plain": [
       "[-1, 1, 1, 0, 2, 0]"
      ]
     },
     "execution_count": 10,
     "metadata": {},
     "output_type": "execute_result"
    }
   ],
   "source": [
    "# testing lcp array\n",
    "\n",
    "# lcp_array('CACGTACGTACTA',suffix_array('CACGTACGTACTA'))\n",
    "\n",
    "# Tested with online example\n",
    "# https://www.educative.io/edpresso/what-is-an-lcp-array\n",
    "lcp_array('papaya',suffix_array('papaya'))"
   ]
  },
  {
   "cell_type": "markdown",
   "metadata": {
    "id": "nSzWb0n5t3ps"
   },
   "source": [
    "#LCS\n",
    "Longest Common Substring"
   ]
  },
  {
   "cell_type": "code",
   "execution_count": 11,
   "metadata": {
    "id": "2K9c6DNKuOCn"
   },
   "outputs": [],
   "source": [
    "def lcs(text:str):\n",
    "  suff_arr = suffix_array(text)\n",
    "  lcp_arr = lcp_array(text,suff_arr)\n",
    "\n",
    "  max_len = -1\n",
    "  indicies = []\n",
    "\n",
    "  for i in range(len(lcp_arr)):\n",
    "    if lcp_arr[i] > max_len:\n",
    "      max_len= lcp_arr[i]\n",
    "      indicies = [suff_arr[i]]\n",
    "    else:\n",
    "      if lcp_arr[i] == max_len:\n",
    "        indicies.append(suff_arr[i])\n",
    "  \n",
    "\n",
    "  substrings = [text[i:i+max_len] for i in indicies]\n",
    "\n",
    "  return substrings"
   ]
  },
  {
   "cell_type": "code",
   "execution_count": 12,
   "metadata": {
    "colab": {
     "base_uri": "https://localhost:8080/"
    },
    "id": "tXwTzXGEwtC2",
    "outputId": "ee6ee37b-3cf4-4041-f3b1-24ec32c3919e"
   },
   "outputs": [
    {
     "data": {
      "text/plain": [
       "['CGAC', 'GACG']"
      ]
     },
     "execution_count": 12,
     "metadata": {},
     "output_type": "execute_result"
    }
   ],
   "source": [
    "lcs('CAGACGGAAGAGTGAACGACCCGACGT')\n",
    "# CAGACGGAAGAGTGAACGACCCGACGT"
   ]
  },
  {
   "cell_type": "markdown",
   "metadata": {
    "id": "yMVPO8mNBhDm"
   },
   "source": [
    "#ITS Array"
   ]
  },
  {
   "cell_type": "code",
   "execution_count": 13,
   "metadata": {
    "id": "jX76z1SaBgfK"
   },
   "outputs": [],
   "source": [
    "def its_array(suff_arr:list):\n",
    "  n = len(suff_arr)\n",
    "  output = [-1 for i in range(n)]\n",
    "  for i in range(n):\n",
    "    output[suff_arr[i]] = i\n",
    "  \n",
    "  return output\n"
   ]
  },
  {
   "cell_type": "code",
   "execution_count": 14,
   "metadata": {
    "colab": {
     "base_uri": "https://localhost:8080/"
    },
    "id": "HhsQZrjhE3Nh",
    "outputId": "aa7d6622-2c1c-4be5-fb60-c9efcdad2444"
   },
   "outputs": [
    {
     "data": {
      "text/plain": [
       "[5, 1, 8, 6, 2, 9, 7, 4, 0, 3]"
      ]
     },
     "execution_count": 14,
     "metadata": {},
     "output_type": "execute_result"
    }
   ],
   "source": [
    "# testing course example\n",
    "suff_arr = suffix_array('GATGATTGAG')\n",
    "its_array(suff_arr)"
   ]
  },
  {
   "cell_type": "markdown",
   "metadata": {
    "id": "ffuwx_TTCdMR"
   },
   "source": [
    "#Shortest Common substring\n",
    "##List of Substring Lengths"
   ]
  },
  {
   "cell_type": "code",
   "execution_count": 15,
   "metadata": {
    "id": "RGhS6FBJCrft"
   },
   "outputs": [],
   "source": [
    "def subs_lengths(text:str):\n",
    "  ts = suffix_array(text)\n",
    "  its = its_array(ts)\n",
    "  htr = lcp_array(text,ts)\n",
    "  n = len(text)\n",
    "\n",
    "  output=[]\n",
    "  for i in range(n):\n",
    "    first = htr[its[i]]\n",
    "    second = htr[its[i]+1] if its[i] +1 < len(htr) else 0\n",
    "    output.append( 1 + max( first,second ))\n",
    "  output.append(1)\n",
    "  return output\n",
    "\n",
    "def scs(text:str):\n",
    "  sl = subs_lengths(text)\n",
    "  n = len(text)\n",
    "  i = 0\n",
    "\n",
    "  result = []\n",
    "  while i + sl[i] <= n:\n",
    "    if sl[i] <= sl[i + 1]:\n",
    "      result.append(text[i:i + sl[i]])\n",
    "    i+=1\n",
    "  \n",
    "  return result"
   ]
  },
  {
   "cell_type": "code",
   "execution_count": 16,
   "metadata": {
    "colab": {
     "base_uri": "https://localhost:8080/"
    },
    "id": "7FXLUqZoDiDy",
    "outputId": "d0d07fff-e225-4606-8fe4-00bba67df2b1"
   },
   "outputs": [
    {
     "name": "stdout",
     "output_type": "stream",
     "text": [
      "TS: [8, 1, 4, 9, 7, 0, 3, 6, 2, 5]\n",
      "ITS: [5, 1, 8, 6, 2, 9, 7, 4, 0, 3]\n",
      "HTR: [-1, 1, 2, 0, 1, 2, 3, 0, 3, 1] \n",
      "SL: [4, 3, 4, 4, 3, 2, 4, 3, 2, 2, 1]\n",
      "['GATG', 'ATG', 'TGAT', 'GATT', 'ATT', 'TT', 'TGAG', 'GAG', 'AG', 'G', '']\n"
     ]
    },
    {
     "data": {
      "text/plain": [
       "['ATG', 'TGAT', 'TT', 'AG']"
      ]
     },
     "execution_count": 16,
     "metadata": {},
     "output_type": "execute_result"
    }
   ],
   "source": [
    "text = 'GATGATTGAG'\n",
    "ts = suffix_array(text)\n",
    "print(f'TS: {ts}')\n",
    "print(f'ITS: {its_array(ts)}')\n",
    "print(f'HTR: {lcp_array(\"GATGATTGAG\",ts)} ')\n",
    "sl = subs_lengths(text)\n",
    "print(f'SL: {sl}')\n",
    "print([text[i: i + sl[i]] for i in range(len(sl))])\n",
    "scs(text)"
   ]
  },
  {
   "cell_type": "markdown",
   "metadata": {
    "id": "MbVHjXtIabgI"
   },
   "source": [
    "#Répétitions super Maximales"
   ]
  },
  {
   "cell_type": "code",
   "execution_count": 17,
   "metadata": {
    "id": "sZopCaTljLMr"
   },
   "outputs": [],
   "source": [
    "def rsm(text:str):\n",
    "  \n",
    "  # first step, retrieve the substring w,\n",
    "  # where w is represened by a local maximain the lcp array (HTR)\n",
    "\n",
    "  # we retrieve both the suffix array\n",
    "  # and lcp array\n",
    "  ts = suffix_array(text)\n",
    "  htr = lcp_array(text,ts)\n",
    "  \n",
    "  # this is our result of local maxes\n",
    "  # each substring is the index and the value\n",
    "  # is an array of his occuring indicies\n",
    "  local_max = {}\n",
    "\n",
    "  # this is a buffer registering the length of the prefix\n",
    "  # our way to find the local minimum\n",
    "  buff = htr[0]\n",
    "\n",
    "  for i in range(len(htr)):\n",
    "\n",
    "    # if we find that the current value is larger than our buffer\n",
    "    # we assign it to our buffer\n",
    "    if htr[i] > buff:\n",
    "      buff = htr[i]\n",
    "\n",
    "    # in the case of equality we do nothing,\n",
    "    # however if the htr[i] is smaller, then\n",
    "    # we would have found a local maxima\n",
    "    else:\n",
    "      if htr[i] < buff:\n",
    "        # we now that the previous index is our maxima\n",
    "        j = i -1\n",
    "        # we get our word using the suffix array\n",
    "        w = text[ts[j]: ts[j] + buff]\n",
    "        # we initialize the table containing the occurences of our w\n",
    "        local_max[w] = []\n",
    "        # for each value in htr[i] that belongs to our local minimum\n",
    "        while htr[j] == buff:\n",
    "          # we append its index to our array\n",
    "          local_max[w].append(ts[j])\n",
    "          j-=1\n",
    "        # we also append the previous value to our local maxima\n",
    "        # it's also an occurence based on the definition of htr\n",
    "        local_max[w].append(ts[j])\n",
    "        buff = htr[i]\n",
    "    \n",
    "    # local max dictionary containing all the W\n",
    "    # and their occurences\n",
    "    \n",
    "    # TODO: finish excluding the rest\n",
    "    rsm_values = {}\n",
    "    for word in local_max:\n",
    "      prefs = []\n",
    "      suffs = []\n",
    "      for idx in local_max[word]:\n",
    "        pref_index = idx -1\n",
    "        if pref_index >= 0:\n",
    "          prefs.append(text[pref_index])\n",
    "        \n",
    "        suff_index = idx + len(word)\n",
    "        if suff_index < len(text):\n",
    "          suffs.append(text[suff_index])\n",
    "      \n",
    "      if len(prefs) == len(set(prefs)) and len(suffs) == len(set(suffs)):\n",
    "        rsm_values[word] = local_max[word]\n",
    "      \n",
    "\n",
    "  return rsm_values"
   ]
  },
  {
   "cell_type": "code",
   "execution_count": 18,
   "metadata": {
    "colab": {
     "base_uri": "https://localhost:8080/",
     "height": 35
    },
    "id": "YYmNb8dGpm3Q",
    "outputId": "0a28a0a2-08d8-4043-c7e3-03f65d4663db"
   },
   "outputs": [
    {
     "data": {
      "text/plain": [
       "'A'"
      ]
     },
     "execution_count": 18,
     "metadata": {},
     "output_type": "execute_result"
    }
   ],
   "source": [
    "'GATAAGATTGATG'[0+3]"
   ]
  },
  {
   "cell_type": "code",
   "execution_count": 19,
   "metadata": {
    "colab": {
     "base_uri": "https://localhost:8080/"
    },
    "id": "1rMWPkWvfzAW",
    "outputId": "87465ff2-5390-4e8c-cca6-e77bace99c84"
   },
   "outputs": [
    {
     "data": {
      "text/plain": [
       "{'GAT': [5, 9, 0], 'TG': [8, 11]}"
      ]
     },
     "execution_count": 19,
     "metadata": {},
     "output_type": "execute_result"
    }
   ],
   "source": [
    "rsm('GATAAGATTGATG')"
   ]
  },
  {
   "cell_type": "markdown",
   "metadata": {
    "id": "qDIDYZmpA1bA"
   },
   "source": [
    "#Data Analysis\n"
   ]
  },
  {
   "cell_type": "code",
   "execution_count": 20,
   "metadata": {
    "colab": {
     "base_uri": "https://localhost:8080/"
    },
    "id": "D9G_9N_EA04K",
    "outputId": "2d653d1a-cf64-4220-f7ca-dcd722cbf82e"
   },
   "outputs": [
    {
     "name": "stdout",
     "output_type": "stream",
     "text": [
      "1.2.4\n"
     ]
    }
   ],
   "source": [
    "# imoprting dependencies\n",
    "import pandas as pd\n",
    "print(pd.__version__)"
   ]
  },
  {
   "cell_type": "code",
   "execution_count": 60,
   "metadata": {
    "id": "kOzXOR9fBETT"
   },
   "outputs": [],
   "source": [
    "# defining the Data Shape\n",
    "needle_lengths = [4, 8, 12, 20, 30, 50]\n",
    "haystack_lengths = [1000, 2000, 6000, 10000, 20000, 60000, 80000, 100000]\n",
    "importData=False"
   ]
  },
  {
   "cell_type": "code",
   "execution_count": 61,
   "metadata": {
    "id": "Emhf0JVZBU1k"
   },
   "outputs": [],
   "source": [
    "# Function for generating random dna Sequences\n",
    "from random import randint\n",
    "def generate_dna(length: int):\n",
    "        ADN = ''\n",
    "        for i in range(0,length):\n",
    "            ADN+='ACGT'[randint(0,3)]\n",
    "        return ADN\n",
    "\n",
    "# Generate random dna sequences from a larger text\n",
    "def generate_from(text:str, length:int):\n",
    "  start = randint(0,len(text) - length)\n",
    "  return text[start:start+length]"
   ]
  },
  {
   "cell_type": "code",
   "execution_count": 62,
   "metadata": {
    "id": "K3yoDnjmBdzc"
   },
   "outputs": [],
   "source": [
    "# Generating the Haystacks\n",
    "def generate_haystacks():\n",
    "  dnaList = []\n",
    "  lengthsList = []\n",
    "  for y in haystack_lengths:\n",
    "    dnaList.append(generate_dna(y))\n",
    "    lengthsList.append(y)\n",
    "  return (dnaList, lengthsList)\n",
    "if not importData:\n",
    "  # haystacks = pd.Series([generate_dna(y) for y in haystack_lengths])\n",
    "  data = generate_haystacks()\n",
    "  dataset = pd.DataFrame({'haystack':data[0],'haystack_length':data[1]})\n"
   ]
  },
  {
   "cell_type": "code",
   "execution_count": 63,
   "metadata": {
    "id": "jmNheNMzCzMR"
   },
   "outputs": [
    {
     "data": {
      "text/html": [
       "<div>\n",
       "<style scoped>\n",
       "    .dataframe tbody tr th:only-of-type {\n",
       "        vertical-align: middle;\n",
       "    }\n",
       "\n",
       "    .dataframe tbody tr th {\n",
       "        vertical-align: top;\n",
       "    }\n",
       "\n",
       "    .dataframe thead th {\n",
       "        text-align: right;\n",
       "    }\n",
       "</style>\n",
       "<table border=\"1\" class=\"dataframe\">\n",
       "  <thead>\n",
       "    <tr style=\"text-align: right;\">\n",
       "      <th></th>\n",
       "      <th>haystack</th>\n",
       "      <th>haystack_length</th>\n",
       "    </tr>\n",
       "  </thead>\n",
       "  <tbody>\n",
       "    <tr>\n",
       "      <th>0</th>\n",
       "      <td>TCTCGAAGTTTAGATGGGGAAGATGACGATTTACAGCTTAACTCAT...</td>\n",
       "      <td>1000</td>\n",
       "    </tr>\n",
       "    <tr>\n",
       "      <th>1</th>\n",
       "      <td>CCACAGCGTAAGCAGGCATACACCCAGTTATAACCATTTGAGGACA...</td>\n",
       "      <td>2000</td>\n",
       "    </tr>\n",
       "    <tr>\n",
       "      <th>2</th>\n",
       "      <td>AGAGGGCCTCATGGACTCACCATAAATGTAGAACTATGGCTATCTA...</td>\n",
       "      <td>6000</td>\n",
       "    </tr>\n",
       "    <tr>\n",
       "      <th>3</th>\n",
       "      <td>AACTGCGCAGGAAAAAACGCTTAGCATAGGCACGTAATCGCCGACA...</td>\n",
       "      <td>10000</td>\n",
       "    </tr>\n",
       "    <tr>\n",
       "      <th>4</th>\n",
       "      <td>GTAGCGTCTAATCCCCGTGTTCTCCCATTTCCTACGGTGCTTCATT...</td>\n",
       "      <td>20000</td>\n",
       "    </tr>\n",
       "    <tr>\n",
       "      <th>5</th>\n",
       "      <td>AGAATTGCATATCGCGAGATATGAGAGGGATGGCAAATTAATGCGG...</td>\n",
       "      <td>60000</td>\n",
       "    </tr>\n",
       "    <tr>\n",
       "      <th>6</th>\n",
       "      <td>GCTGGCATCATGATCCTGCTCCCCGATGCGGGACTGAACTGCCTGG...</td>\n",
       "      <td>80000</td>\n",
       "    </tr>\n",
       "    <tr>\n",
       "      <th>7</th>\n",
       "      <td>TCACCATTCAGATAGTGAGACACATTCGGTCATAAAGGCTGCGCGA...</td>\n",
       "      <td>100000</td>\n",
       "    </tr>\n",
       "  </tbody>\n",
       "</table>\n",
       "</div>"
      ],
      "text/plain": [
       "                                            haystack  haystack_length\n",
       "0  TCTCGAAGTTTAGATGGGGAAGATGACGATTTACAGCTTAACTCAT...             1000\n",
       "1  CCACAGCGTAAGCAGGCATACACCCAGTTATAACCATTTGAGGACA...             2000\n",
       "2  AGAGGGCCTCATGGACTCACCATAAATGTAGAACTATGGCTATCTA...             6000\n",
       "3  AACTGCGCAGGAAAAAACGCTTAGCATAGGCACGTAATCGCCGACA...            10000\n",
       "4  GTAGCGTCTAATCCCCGTGTTCTCCCATTTCCTACGGTGCTTCATT...            20000\n",
       "5  AGAATTGCATATCGCGAGATATGAGAGGGATGGCAAATTAATGCGG...            60000\n",
       "6  GCTGGCATCATGATCCTGCTCCCCGATGCGGGACTGAACTGCCTGG...            80000\n",
       "7  TCACCATTCAGATAGTGAGACACATTCGGTCATAAAGGCTGCGCGA...           100000"
      ]
     },
     "execution_count": 63,
     "metadata": {},
     "output_type": "execute_result"
    }
   ],
   "source": [
    "dataset"
   ]
  },
  {
   "cell_type": "code",
   "execution_count": 64,
   "metadata": {
    "id": "463_ZXxzCF0l"
   },
   "outputs": [],
   "source": [
    "if not importData:\n",
    "  for length in needle_lengths:\n",
    "    dataset[f'needle_{length}'] = dataset.apply(lambda row: generate_from(row['haystack'], length), axis=1)\n"
   ]
  },
  {
   "cell_type": "code",
   "execution_count": 70,
   "metadata": {},
   "outputs": [
    {
     "data": {
      "text/html": [
       "<div>\n",
       "<style scoped>\n",
       "    .dataframe tbody tr th:only-of-type {\n",
       "        vertical-align: middle;\n",
       "    }\n",
       "\n",
       "    .dataframe tbody tr th {\n",
       "        vertical-align: top;\n",
       "    }\n",
       "\n",
       "    .dataframe thead th {\n",
       "        text-align: right;\n",
       "    }\n",
       "</style>\n",
       "<table border=\"1\" class=\"dataframe\">\n",
       "  <thead>\n",
       "    <tr style=\"text-align: right;\">\n",
       "      <th></th>\n",
       "      <th>haystack</th>\n",
       "      <th>haystack_length</th>\n",
       "      <th>needle_4</th>\n",
       "      <th>needle_8</th>\n",
       "      <th>needle_12</th>\n",
       "      <th>needle_20</th>\n",
       "      <th>needle_30</th>\n",
       "      <th>needle_50</th>\n",
       "      <th>suffix_array</th>\n",
       "    </tr>\n",
       "  </thead>\n",
       "  <tbody>\n",
       "    <tr>\n",
       "      <th>0</th>\n",
       "      <td>TCTCGAAGTTTAGATGGGGAAGATGACGATTTACAGCTTAACTCAT...</td>\n",
       "      <td>1000</td>\n",
       "      <td>TCCT</td>\n",
       "      <td>TATTTAAA</td>\n",
       "      <td>CAGGATTATCAG</td>\n",
       "      <td>TCAGCAACACGTAGTACCCT</td>\n",
       "      <td>CGGTTTAATAGGCATATTATGCACAAATCG</td>\n",
       "      <td>TACAGGGTAATCTGGTTTGTACTCATCTCGTCTACGTCCCAATGTA...</td>\n",
       "      <td>[999, 278, 176, 279, 177, 280, 337, 557, 178, ...</td>\n",
       "    </tr>\n",
       "    <tr>\n",
       "      <th>1</th>\n",
       "      <td>CCACAGCGTAAGCAGGCATACACCCAGTTATAACCATTTGAGGACA...</td>\n",
       "      <td>2000</td>\n",
       "      <td>CTCC</td>\n",
       "      <td>ACGGAAGG</td>\n",
       "      <td>CGCGGAGCGTAT</td>\n",
       "      <td>ATACCGTATTGAACTCTAGA</td>\n",
       "      <td>TCTCCGAGGACAGCCGCCGGAGTCGGACCG</td>\n",
       "      <td>TCCACATCATCACTCACCATATGGCACTCCCGCAGTGCAGATTGTT...</td>\n",
       "      <td>[1999, 1998, 112, 969, 113, 1636, 1784, 604, 8...</td>\n",
       "    </tr>\n",
       "    <tr>\n",
       "      <th>2</th>\n",
       "      <td>AGAGGGCCTCATGGACTCACCATAAATGTAGAACTATGGCTATCTA...</td>\n",
       "      <td>6000</td>\n",
       "      <td>GACT</td>\n",
       "      <td>AGATCATG</td>\n",
       "      <td>AAGAACTACCTG</td>\n",
       "      <td>GCGGCAGTGTGTGTCCGCAA</td>\n",
       "      <td>GCTATTCAGTAGTTATTGAGTGTAGGGCAG</td>\n",
       "      <td>TTAAATGGCAAGCGCATGAACCTACTGTGACTAGCTATCGACGGCA...</td>\n",
       "      <td>[3221, 2050, 3222, 1970, 4676, 5195, 4075, 547...</td>\n",
       "    </tr>\n",
       "    <tr>\n",
       "      <th>3</th>\n",
       "      <td>AACTGCGCAGGAAAAAACGCTTAGCATAGGCACGTAATCGCCGACA...</td>\n",
       "      <td>10000</td>\n",
       "      <td>CGTG</td>\n",
       "      <td>TTGGAGGA</td>\n",
       "      <td>GGTAAGGGGAGA</td>\n",
       "      <td>CGAGGGATGAATCCATACAT</td>\n",
       "      <td>CTCGCACAAAAGATAGCGTTAAGGCCGCGC</td>\n",
       "      <td>ATCGGCAGAACGGGGTGAGGCTATTTGCAGATATAAGGGATAGGCA...</td>\n",
       "      <td>[5119, 11, 1746, 5120, 12, 1747, 8582, 570, 28...</td>\n",
       "    </tr>\n",
       "    <tr>\n",
       "      <th>4</th>\n",
       "      <td>GTAGCGTCTAATCCCCGTGTTCTCCCATTTCCTACGGTGCTTCATT...</td>\n",
       "      <td>20000</td>\n",
       "      <td>GCTC</td>\n",
       "      <td>TCTGGGAA</td>\n",
       "      <td>CAACGGTGTACC</td>\n",
       "      <td>TACACGAGTCGGCATCAGTA</td>\n",
       "      <td>CCTGTTAGTATGTGATCTTGAGTTAGAGGG</td>\n",
       "      <td>CAGAATTTACTTGCAACTCAAGACAGCATGCAGATAAGGCGCGGCG...</td>\n",
       "      <td>[19999, 19998, 19997, 5441, 16403, 19648, 1927...</td>\n",
       "    </tr>\n",
       "    <tr>\n",
       "      <th>5</th>\n",
       "      <td>AGAATTGCATATCGCGAGATATGAGAGGGATGGCAAATTAATGCGG...</td>\n",
       "      <td>60000</td>\n",
       "      <td>ACTA</td>\n",
       "      <td>GCCATCCG</td>\n",
       "      <td>CGTGCTCGGTGA</td>\n",
       "      <td>TAATTAATGCTTTCACGAAC</td>\n",
       "      <td>AGAATGGGCAAAGAATCAATACAGCCCGGC</td>\n",
       "      <td>CCTTAGCGACATCAGCCAGCATTATGGTCCGCGCTCCACGCGGGAT...</td>\n",
       "      <td>[5589, 21537, 15043, 29052, 2666, 26435, 17692...</td>\n",
       "    </tr>\n",
       "    <tr>\n",
       "      <th>6</th>\n",
       "      <td>GCTGGCATCATGATCCTGCTCCCCGATGCGGGACTGAACTGCCTGG...</td>\n",
       "      <td>80000</td>\n",
       "      <td>TCAA</td>\n",
       "      <td>TTATATGA</td>\n",
       "      <td>GGCCTATTCTAC</td>\n",
       "      <td>ATTAGCGACGGATTCAAGGG</td>\n",
       "      <td>GACGGAGTACGGCGGCAGGATCGAAAGGCT</td>\n",
       "      <td>GAACCCATTCTCGTTGCATAATGGGAAAGAGACATACTCTGAGGTA...</td>\n",
       "      <td>[40968, 26961, 1600, 49642, 40969, 61809, 3864...</td>\n",
       "    </tr>\n",
       "    <tr>\n",
       "      <th>7</th>\n",
       "      <td>TCACCATTCAGATAGTGAGACACATTCGGTCATAAAGGCTGCGCGA...</td>\n",
       "      <td>100000</td>\n",
       "      <td>ACCA</td>\n",
       "      <td>CTCTATCA</td>\n",
       "      <td>GTGTTTGGTCGC</td>\n",
       "      <td>GGATGGTGGTGCATCTCTCA</td>\n",
       "      <td>CATGTTGAACCCTTCGGTACGAACACAGGA</td>\n",
       "      <td>CGCGCAAGGGGTGCATTGCAAGAAGTACTACCTGTAAAGATATTGA...</td>\n",
       "      <td>[55417, 45126, 63152, 18763, 38311, 6715, 3762...</td>\n",
       "    </tr>\n",
       "  </tbody>\n",
       "</table>\n",
       "</div>"
      ],
      "text/plain": [
       "                                            haystack  haystack_length  \\\n",
       "0  TCTCGAAGTTTAGATGGGGAAGATGACGATTTACAGCTTAACTCAT...             1000   \n",
       "1  CCACAGCGTAAGCAGGCATACACCCAGTTATAACCATTTGAGGACA...             2000   \n",
       "2  AGAGGGCCTCATGGACTCACCATAAATGTAGAACTATGGCTATCTA...             6000   \n",
       "3  AACTGCGCAGGAAAAAACGCTTAGCATAGGCACGTAATCGCCGACA...            10000   \n",
       "4  GTAGCGTCTAATCCCCGTGTTCTCCCATTTCCTACGGTGCTTCATT...            20000   \n",
       "5  AGAATTGCATATCGCGAGATATGAGAGGGATGGCAAATTAATGCGG...            60000   \n",
       "6  GCTGGCATCATGATCCTGCTCCCCGATGCGGGACTGAACTGCCTGG...            80000   \n",
       "7  TCACCATTCAGATAGTGAGACACATTCGGTCATAAAGGCTGCGCGA...           100000   \n",
       "\n",
       "  needle_4  needle_8     needle_12             needle_20  \\\n",
       "0     TCCT  TATTTAAA  CAGGATTATCAG  TCAGCAACACGTAGTACCCT   \n",
       "1     CTCC  ACGGAAGG  CGCGGAGCGTAT  ATACCGTATTGAACTCTAGA   \n",
       "2     GACT  AGATCATG  AAGAACTACCTG  GCGGCAGTGTGTGTCCGCAA   \n",
       "3     CGTG  TTGGAGGA  GGTAAGGGGAGA  CGAGGGATGAATCCATACAT   \n",
       "4     GCTC  TCTGGGAA  CAACGGTGTACC  TACACGAGTCGGCATCAGTA   \n",
       "5     ACTA  GCCATCCG  CGTGCTCGGTGA  TAATTAATGCTTTCACGAAC   \n",
       "6     TCAA  TTATATGA  GGCCTATTCTAC  ATTAGCGACGGATTCAAGGG   \n",
       "7     ACCA  CTCTATCA  GTGTTTGGTCGC  GGATGGTGGTGCATCTCTCA   \n",
       "\n",
       "                        needle_30  \\\n",
       "0  CGGTTTAATAGGCATATTATGCACAAATCG   \n",
       "1  TCTCCGAGGACAGCCGCCGGAGTCGGACCG   \n",
       "2  GCTATTCAGTAGTTATTGAGTGTAGGGCAG   \n",
       "3  CTCGCACAAAAGATAGCGTTAAGGCCGCGC   \n",
       "4  CCTGTTAGTATGTGATCTTGAGTTAGAGGG   \n",
       "5  AGAATGGGCAAAGAATCAATACAGCCCGGC   \n",
       "6  GACGGAGTACGGCGGCAGGATCGAAAGGCT   \n",
       "7  CATGTTGAACCCTTCGGTACGAACACAGGA   \n",
       "\n",
       "                                           needle_50  \\\n",
       "0  TACAGGGTAATCTGGTTTGTACTCATCTCGTCTACGTCCCAATGTA...   \n",
       "1  TCCACATCATCACTCACCATATGGCACTCCCGCAGTGCAGATTGTT...   \n",
       "2  TTAAATGGCAAGCGCATGAACCTACTGTGACTAGCTATCGACGGCA...   \n",
       "3  ATCGGCAGAACGGGGTGAGGCTATTTGCAGATATAAGGGATAGGCA...   \n",
       "4  CAGAATTTACTTGCAACTCAAGACAGCATGCAGATAAGGCGCGGCG...   \n",
       "5  CCTTAGCGACATCAGCCAGCATTATGGTCCGCGCTCCACGCGGGAT...   \n",
       "6  GAACCCATTCTCGTTGCATAATGGGAAAGAGACATACTCTGAGGTA...   \n",
       "7  CGCGCAAGGGGTGCATTGCAAGAAGTACTACCTGTAAAGATATTGA...   \n",
       "\n",
       "                                        suffix_array  \n",
       "0  [999, 278, 176, 279, 177, 280, 337, 557, 178, ...  \n",
       "1  [1999, 1998, 112, 969, 113, 1636, 1784, 604, 8...  \n",
       "2  [3221, 2050, 3222, 1970, 4676, 5195, 4075, 547...  \n",
       "3  [5119, 11, 1746, 5120, 12, 1747, 8582, 570, 28...  \n",
       "4  [19999, 19998, 19997, 5441, 16403, 19648, 1927...  \n",
       "5  [5589, 21537, 15043, 29052, 2666, 26435, 17692...  \n",
       "6  [40968, 26961, 1600, 49642, 40969, 61809, 3864...  \n",
       "7  [55417, 45126, 63152, 18763, 38311, 6715, 3762...  "
      ]
     },
     "execution_count": 70,
     "metadata": {},
     "output_type": "execute_result"
    }
   ],
   "source": [
    "dataset"
   ]
  },
  {
   "cell_type": "code",
   "execution_count": 66,
   "metadata": {},
   "outputs": [],
   "source": [
    "# indexing the haystack\n",
    "\n",
    "dataset['suffix_array'] = dataset.apply(lambda row:suffix_array(row['haystack']), axis=1)"
   ]
  },
  {
   "cell_type": "code",
   "execution_count": 88,
   "metadata": {},
   "outputs": [],
   "source": [
    "# testing the suffix array search\n",
    "\n",
    "def search_time(row, needle_name):\n",
    "    \n",
    "    needle = row[needle_name]\n",
    "    haystack = row['haystack']\n",
    "    suff_arr = row['suffix_array']\n",
    "    \n",
    "    import time\n",
    "    startTime = time.perf_counter_ns()\n",
    "    search_with_suffix(haystack, needle, suff_arr)\n",
    "    endTime = time.perf_counter_ns()\n",
    "    return endTime - startTime"
   ]
  },
  {
   "cell_type": "code",
   "execution_count": 92,
   "metadata": {},
   "outputs": [],
   "source": [
    "# dataset['time_suffix_search'] = \n",
    "\n",
    "# dataset.assign(**testing_suffix_array_search())\n",
    "needle_row_names = [f'needle_{x}' for x in needle_lengths]\n",
    "\n",
    "for needle_name in needle_row_names:\n",
    "    dataset['time_'+needle_name] = dataset.apply(lambda row: search_time(row,needle_name), axis=1)"
   ]
  },
  {
   "cell_type": "code",
   "execution_count": 93,
   "metadata": {},
   "outputs": [
    {
     "data": {
      "text/html": [
       "<div>\n",
       "<style scoped>\n",
       "    .dataframe tbody tr th:only-of-type {\n",
       "        vertical-align: middle;\n",
       "    }\n",
       "\n",
       "    .dataframe tbody tr th {\n",
       "        vertical-align: top;\n",
       "    }\n",
       "\n",
       "    .dataframe thead th {\n",
       "        text-align: right;\n",
       "    }\n",
       "</style>\n",
       "<table border=\"1\" class=\"dataframe\">\n",
       "  <thead>\n",
       "    <tr style=\"text-align: right;\">\n",
       "      <th></th>\n",
       "      <th>haystack</th>\n",
       "      <th>haystack_length</th>\n",
       "      <th>needle_4</th>\n",
       "      <th>needle_8</th>\n",
       "      <th>needle_12</th>\n",
       "      <th>needle_20</th>\n",
       "      <th>needle_30</th>\n",
       "      <th>needle_50</th>\n",
       "      <th>suffix_array</th>\n",
       "      <th>time_needle_4</th>\n",
       "      <th>time_needle_8</th>\n",
       "      <th>time_needle_12</th>\n",
       "      <th>time_needle_20</th>\n",
       "      <th>time_needle_30</th>\n",
       "      <th>time_needle_50</th>\n",
       "    </tr>\n",
       "  </thead>\n",
       "  <tbody>\n",
       "    <tr>\n",
       "      <th>0</th>\n",
       "      <td>TCTCGAAGTTTAGATGGGGAAGATGACGATTTACAGCTTAACTCAT...</td>\n",
       "      <td>1000</td>\n",
       "      <td>TCCT</td>\n",
       "      <td>TATTTAAA</td>\n",
       "      <td>CAGGATTATCAG</td>\n",
       "      <td>TCAGCAACACGTAGTACCCT</td>\n",
       "      <td>CGGTTTAATAGGCATATTATGCACAAATCG</td>\n",
       "      <td>TACAGGGTAATCTGGTTTGTACTCATCTCGTCTACGTCCCAATGTA...</td>\n",
       "      <td>[999, 278, 176, 279, 177, 280, 337, 557, 178, ...</td>\n",
       "      <td>73081</td>\n",
       "      <td>47049</td>\n",
       "      <td>37629</td>\n",
       "      <td>54539</td>\n",
       "      <td>29466</td>\n",
       "      <td>22796</td>\n",
       "    </tr>\n",
       "    <tr>\n",
       "      <th>1</th>\n",
       "      <td>CCACAGCGTAAGCAGGCATACACCCAGTTATAACCATTTGAGGACA...</td>\n",
       "      <td>2000</td>\n",
       "      <td>CTCC</td>\n",
       "      <td>ACGGAAGG</td>\n",
       "      <td>CGCGGAGCGTAT</td>\n",
       "      <td>ATACCGTATTGAACTCTAGA</td>\n",
       "      <td>TCTCCGAGGACAGCCGCCGGAGTCGGACCG</td>\n",
       "      <td>TCCACATCATCACTCACCATATGGCACTCCCGCAGTGCAGATTGTT...</td>\n",
       "      <td>[1999, 1998, 112, 969, 113, 1636, 1784, 604, 8...</td>\n",
       "      <td>79171</td>\n",
       "      <td>53644</td>\n",
       "      <td>36160</td>\n",
       "      <td>29263</td>\n",
       "      <td>26558</td>\n",
       "      <td>20941</td>\n",
       "    </tr>\n",
       "    <tr>\n",
       "      <th>2</th>\n",
       "      <td>AGAGGGCCTCATGGACTCACCATAAATGTAGAACTATGGCTATCTA...</td>\n",
       "      <td>6000</td>\n",
       "      <td>GACT</td>\n",
       "      <td>AGATCATG</td>\n",
       "      <td>AAGAACTACCTG</td>\n",
       "      <td>GCGGCAGTGTGTGTCCGCAA</td>\n",
       "      <td>GCTATTCAGTAGTTATTGAGTGTAGGGCAG</td>\n",
       "      <td>TTAAATGGCAAGCGCATGAACCTACTGTGACTAGCTATCGACGGCA...</td>\n",
       "      <td>[3221, 2050, 3222, 1970, 4676, 5195, 4075, 547...</td>\n",
       "      <td>89210</td>\n",
       "      <td>57676</td>\n",
       "      <td>43010</td>\n",
       "      <td>31747</td>\n",
       "      <td>32812</td>\n",
       "      <td>23083</td>\n",
       "    </tr>\n",
       "    <tr>\n",
       "      <th>3</th>\n",
       "      <td>AACTGCGCAGGAAAAAACGCTTAGCATAGGCACGTAATCGCCGACA...</td>\n",
       "      <td>10000</td>\n",
       "      <td>CGTG</td>\n",
       "      <td>TTGGAGGA</td>\n",
       "      <td>GGTAAGGGGAGA</td>\n",
       "      <td>CGAGGGATGAATCCATACAT</td>\n",
       "      <td>CTCGCACAAAAGATAGCGTTAAGGCCGCGC</td>\n",
       "      <td>ATCGGCAGAACGGGGTGAGGCTATTTGCAGATATAAGGGATAGGCA...</td>\n",
       "      <td>[5119, 11, 1746, 5120, 12, 1747, 8582, 570, 28...</td>\n",
       "      <td>66033</td>\n",
       "      <td>51525</td>\n",
       "      <td>85134</td>\n",
       "      <td>36668</td>\n",
       "      <td>36833</td>\n",
       "      <td>31334</td>\n",
       "    </tr>\n",
       "    <tr>\n",
       "      <th>4</th>\n",
       "      <td>GTAGCGTCTAATCCCCGTGTTCTCCCATTTCCTACGGTGCTTCATT...</td>\n",
       "      <td>20000</td>\n",
       "      <td>GCTC</td>\n",
       "      <td>TCTGGGAA</td>\n",
       "      <td>CAACGGTGTACC</td>\n",
       "      <td>TACACGAGTCGGCATCAGTA</td>\n",
       "      <td>CCTGTTAGTATGTGATCTTGAGTTAGAGGG</td>\n",
       "      <td>CAGAATTTACTTGCAACTCAAGACAGCATGCAGATAAGGCGCGGCG...</td>\n",
       "      <td>[19999, 19998, 19997, 5441, 16403, 19648, 1927...</td>\n",
       "      <td>83080</td>\n",
       "      <td>73695</td>\n",
       "      <td>58656</td>\n",
       "      <td>43152</td>\n",
       "      <td>88835</td>\n",
       "      <td>36419</td>\n",
       "    </tr>\n",
       "    <tr>\n",
       "      <th>5</th>\n",
       "      <td>AGAATTGCATATCGCGAGATATGAGAGGGATGGCAAATTAATGCGG...</td>\n",
       "      <td>60000</td>\n",
       "      <td>ACTA</td>\n",
       "      <td>GCCATCCG</td>\n",
       "      <td>CGTGCTCGGTGA</td>\n",
       "      <td>TAATTAATGCTTTCACGAAC</td>\n",
       "      <td>AGAATGGGCAAAGAATCAATACAGCCCGGC</td>\n",
       "      <td>CCTTAGCGACATCAGCCAGCATTATGGTCCGCGCTCCACGCGGGAT...</td>\n",
       "      <td>[5589, 21537, 15043, 29052, 2666, 26435, 17692...</td>\n",
       "      <td>145212</td>\n",
       "      <td>121585</td>\n",
       "      <td>93276</td>\n",
       "      <td>70831</td>\n",
       "      <td>72066</td>\n",
       "      <td>57511</td>\n",
       "    </tr>\n",
       "    <tr>\n",
       "      <th>6</th>\n",
       "      <td>GCTGGCATCATGATCCTGCTCCCCGATGCGGGACTGAACTGCCTGG...</td>\n",
       "      <td>80000</td>\n",
       "      <td>TCAA</td>\n",
       "      <td>TTATATGA</td>\n",
       "      <td>GGCCTATTCTAC</td>\n",
       "      <td>ATTAGCGACGGATTCAAGGG</td>\n",
       "      <td>GACGGAGTACGGCGGCAGGATCGAAAGGCT</td>\n",
       "      <td>GAACCCATTCTCGTTGCATAATGGGAAAGAGACATACTCTGAGGTA...</td>\n",
       "      <td>[40968, 26961, 1600, 49642, 40969, 61809, 3864...</td>\n",
       "      <td>169592</td>\n",
       "      <td>142778</td>\n",
       "      <td>123202</td>\n",
       "      <td>94777</td>\n",
       "      <td>95281</td>\n",
       "      <td>78408</td>\n",
       "    </tr>\n",
       "    <tr>\n",
       "      <th>7</th>\n",
       "      <td>TCACCATTCAGATAGTGAGACACATTCGGTCATAAAGGCTGCGCGA...</td>\n",
       "      <td>100000</td>\n",
       "      <td>ACCA</td>\n",
       "      <td>CTCTATCA</td>\n",
       "      <td>GTGTTTGGTCGC</td>\n",
       "      <td>GGATGGTGGTGCATCTCTCA</td>\n",
       "      <td>CATGTTGAACCCTTCGGTACGAACACAGGA</td>\n",
       "      <td>CGCGCAAGGGGTGCATTGCAAGAAGTACTACCTGTAAAGATATTGA...</td>\n",
       "      <td>[55417, 45126, 63152, 18763, 38311, 6715, 3762...</td>\n",
       "      <td>216150</td>\n",
       "      <td>119596</td>\n",
       "      <td>116354</td>\n",
       "      <td>102391</td>\n",
       "      <td>92478</td>\n",
       "      <td>84279</td>\n",
       "    </tr>\n",
       "  </tbody>\n",
       "</table>\n",
       "</div>"
      ],
      "text/plain": [
       "                                            haystack  haystack_length  \\\n",
       "0  TCTCGAAGTTTAGATGGGGAAGATGACGATTTACAGCTTAACTCAT...             1000   \n",
       "1  CCACAGCGTAAGCAGGCATACACCCAGTTATAACCATTTGAGGACA...             2000   \n",
       "2  AGAGGGCCTCATGGACTCACCATAAATGTAGAACTATGGCTATCTA...             6000   \n",
       "3  AACTGCGCAGGAAAAAACGCTTAGCATAGGCACGTAATCGCCGACA...            10000   \n",
       "4  GTAGCGTCTAATCCCCGTGTTCTCCCATTTCCTACGGTGCTTCATT...            20000   \n",
       "5  AGAATTGCATATCGCGAGATATGAGAGGGATGGCAAATTAATGCGG...            60000   \n",
       "6  GCTGGCATCATGATCCTGCTCCCCGATGCGGGACTGAACTGCCTGG...            80000   \n",
       "7  TCACCATTCAGATAGTGAGACACATTCGGTCATAAAGGCTGCGCGA...           100000   \n",
       "\n",
       "  needle_4  needle_8     needle_12             needle_20  \\\n",
       "0     TCCT  TATTTAAA  CAGGATTATCAG  TCAGCAACACGTAGTACCCT   \n",
       "1     CTCC  ACGGAAGG  CGCGGAGCGTAT  ATACCGTATTGAACTCTAGA   \n",
       "2     GACT  AGATCATG  AAGAACTACCTG  GCGGCAGTGTGTGTCCGCAA   \n",
       "3     CGTG  TTGGAGGA  GGTAAGGGGAGA  CGAGGGATGAATCCATACAT   \n",
       "4     GCTC  TCTGGGAA  CAACGGTGTACC  TACACGAGTCGGCATCAGTA   \n",
       "5     ACTA  GCCATCCG  CGTGCTCGGTGA  TAATTAATGCTTTCACGAAC   \n",
       "6     TCAA  TTATATGA  GGCCTATTCTAC  ATTAGCGACGGATTCAAGGG   \n",
       "7     ACCA  CTCTATCA  GTGTTTGGTCGC  GGATGGTGGTGCATCTCTCA   \n",
       "\n",
       "                        needle_30  \\\n",
       "0  CGGTTTAATAGGCATATTATGCACAAATCG   \n",
       "1  TCTCCGAGGACAGCCGCCGGAGTCGGACCG   \n",
       "2  GCTATTCAGTAGTTATTGAGTGTAGGGCAG   \n",
       "3  CTCGCACAAAAGATAGCGTTAAGGCCGCGC   \n",
       "4  CCTGTTAGTATGTGATCTTGAGTTAGAGGG   \n",
       "5  AGAATGGGCAAAGAATCAATACAGCCCGGC   \n",
       "6  GACGGAGTACGGCGGCAGGATCGAAAGGCT   \n",
       "7  CATGTTGAACCCTTCGGTACGAACACAGGA   \n",
       "\n",
       "                                           needle_50  \\\n",
       "0  TACAGGGTAATCTGGTTTGTACTCATCTCGTCTACGTCCCAATGTA...   \n",
       "1  TCCACATCATCACTCACCATATGGCACTCCCGCAGTGCAGATTGTT...   \n",
       "2  TTAAATGGCAAGCGCATGAACCTACTGTGACTAGCTATCGACGGCA...   \n",
       "3  ATCGGCAGAACGGGGTGAGGCTATTTGCAGATATAAGGGATAGGCA...   \n",
       "4  CAGAATTTACTTGCAACTCAAGACAGCATGCAGATAAGGCGCGGCG...   \n",
       "5  CCTTAGCGACATCAGCCAGCATTATGGTCCGCGCTCCACGCGGGAT...   \n",
       "6  GAACCCATTCTCGTTGCATAATGGGAAAGAGACATACTCTGAGGTA...   \n",
       "7  CGCGCAAGGGGTGCATTGCAAGAAGTACTACCTGTAAAGATATTGA...   \n",
       "\n",
       "                                        suffix_array  time_needle_4  \\\n",
       "0  [999, 278, 176, 279, 177, 280, 337, 557, 178, ...          73081   \n",
       "1  [1999, 1998, 112, 969, 113, 1636, 1784, 604, 8...          79171   \n",
       "2  [3221, 2050, 3222, 1970, 4676, 5195, 4075, 547...          89210   \n",
       "3  [5119, 11, 1746, 5120, 12, 1747, 8582, 570, 28...          66033   \n",
       "4  [19999, 19998, 19997, 5441, 16403, 19648, 1927...          83080   \n",
       "5  [5589, 21537, 15043, 29052, 2666, 26435, 17692...         145212   \n",
       "6  [40968, 26961, 1600, 49642, 40969, 61809, 3864...         169592   \n",
       "7  [55417, 45126, 63152, 18763, 38311, 6715, 3762...         216150   \n",
       "\n",
       "   time_needle_8  time_needle_12  time_needle_20  time_needle_30  \\\n",
       "0          47049           37629           54539           29466   \n",
       "1          53644           36160           29263           26558   \n",
       "2          57676           43010           31747           32812   \n",
       "3          51525           85134           36668           36833   \n",
       "4          73695           58656           43152           88835   \n",
       "5         121585           93276           70831           72066   \n",
       "6         142778          123202           94777           95281   \n",
       "7         119596          116354          102391           92478   \n",
       "\n",
       "   time_needle_50  \n",
       "0           22796  \n",
       "1           20941  \n",
       "2           23083  \n",
       "3           31334  \n",
       "4           36419  \n",
       "5           57511  \n",
       "6           78408  \n",
       "7           84279  "
      ]
     },
     "execution_count": 93,
     "metadata": {},
     "output_type": "execute_result"
    }
   ],
   "source": [
    "dataset"
   ]
  },
  {
   "cell_type": "markdown",
   "metadata": {
    "id": "HkKpNQ8mFIa7"
   },
   "source": [
    "#haw wch lazem dir"
   ]
  },
  {
   "cell_type": "code",
   "execution_count": null,
   "metadata": {
    "colab": {
     "base_uri": "https://localhost:8080/"
    },
    "id": "RAyyGIHXgjq5",
    "outputId": "fe89dc93-dd15-4d51-fede-ced57c64406c"
   },
   "outputs": [
    {
     "name": "stdout",
     "output_type": "stream",
     "text": [
      "10 11\n",
      "['A', 'ACGTACGTACTA', 'ACGTACTA', 'ACTA', 'CACGTACGTACTA', 'CGTACGTACTA', 'CGTACTA', 'CTA', 'GTACGTACTA', 'GTACTA', 'TA', 'TACGTACTA', 'TACTA']\n"
     ]
    }
   ],
   "source": [
    "from\tbisect\timport\tbisect_left,\tbisect_right\n",
    "\n",
    "text\t= 'CACGTACGTACTA'\n",
    "#create the suffixes table\n",
    "suffixes= sorted([text[i:]\tfor\ti\tin range(len(text))]) \n",
    "\n",
    "#search of needle if exist in the text using 'devision du tableau par deux' \"only 1 occurence\"\n",
    "st,\ten\t=\tbisect_left(suffixes,\t'TA'), bisect_right(suffixes,\t'TA')   \n",
    "\n",
    "print(st,\ten)\n",
    "print(suffixes)"
   ]
  }
 ],
 "metadata": {
  "colab": {
   "collapsed_sections": [
    "HkKpNQ8mFIa7"
   ],
   "name": "TP3_bioalgo.ipynb",
   "provenance": [],
   "toc_visible": true
  },
  "kernelspec": {
   "display_name": "Python 3",
   "language": "python",
   "name": "python3"
  },
  "language_info": {
   "codemirror_mode": {
    "name": "ipython",
    "version": 3
   },
   "file_extension": ".py",
   "mimetype": "text/x-python",
   "name": "python",
   "nbconvert_exporter": "python",
   "pygments_lexer": "ipython3",
   "version": "3.9.2"
  }
 },
 "nbformat": 4,
 "nbformat_minor": 1
}
